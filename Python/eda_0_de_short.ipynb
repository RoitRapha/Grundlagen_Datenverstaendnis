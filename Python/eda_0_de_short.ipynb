{
  "cells": [
    {
      "cell_type": "markdown",
      "id": "3fd05890",
      "metadata": {
        "id": "3fd05890"
      },
      "source": [
        "<h4>Explorative Datenanalyse: Verteilungen und Zusammenhänge</h4>"
      ]
    },
    {
      "cell_type": "markdown",
      "id": "2dc431ed",
      "metadata": {
        "id": "2dc431ed"
      },
      "source": [
        "Willkommen bei der ersten praktischen Übung zum Thema explorative Datenanalyse! Wir haben uns während der Vorlesung bereits mit einigen Verfahren beschäftigt, mit denen man einen Datensatz erkunden kann. Im Folgenden wollen wir diese Verfahren auch praktisch anwenden. Zum Glück ist die explorative Analyse von Daten so weit verbreitet, dass es bereits eine Vielzahl an Bibliotheken für genau diesen Zweck gibt. Wir werden für unsere Analyse eine der bekanntesten Bibliotheken verwenden, um interaktive Diagramme zu erstellen: Plotly. Plotly verfügt über Schnittstellen zu einer ganzen Reihe an Programmiersprachen, darunter auch [Python](https://plotly.com/python/). Mit der ersten praktischen Übung verfolgen wir folgende Lernziele:\n",
        "\n",
        "- Sie sollen lernen, wie Sie Daten mithilfe von Säulen- oder Balkendiagrammen, Histogrammen, Streudiagrammen und Heatmaps in Plotly visualisieren können.\n",
        "- Sie sollen den Wert von Funktionsargumenten zur Visualisierung sach- und zweckorientiert anpassen können.\n",
        "- Sie sollen lernen, wie man eigene Hypothesen über einen Datensatz aufstellen und diese im Rahmen einer explorativen Analyse testen kann.\n",
        "\n",
        "Voraussichtlich werden Sie für diese Übung maximal 2h benötigen."
      ]
    },
    {
      "cell_type": "markdown",
      "id": "74448a5a",
      "metadata": {
        "id": "74448a5a"
      },
      "source": [
        "<h5>Der Datensatz</h5>"
      ]
    },
    {
      "cell_type": "markdown",
      "id": "c1c5752e",
      "metadata": {
        "id": "c1c5752e"
      },
      "source": [
        "Für die explorative Analyse von Daten braucht man als Ausgangspunkt erst einmal eins: Daten. Für unsere praktischen Übungen werden wir einen Datensatz verwenden, der uns freundlicherweise von [Prof. Dr. Stephan Matzka](https://www.htw-berlin.de/hochschule/personen/person/?eid=11248) zur Verfügung gestellt wurde. Der Datensatz befasst sich mit einer Fertigungszelle, in der drei Maschinen Produkte herstellen. Werfen Sie einen kurzen Blick auf die [Dokumentation](../data_sets/mechatronic_systems/docs.pdf), um einen Überblick über die verschienden Merkmale in diesem Datensatz zu erhalten. Unser Datensatz ```data.csv``` liegt im sogenannten csv-Format vor (englisch für _comma-separated values_). Das ist ein gängiges Format zum Speichern strukturierter Daten, bei dem einzelne Werte durch Kommas oder andere Trennzeichen separiert sind. Wenn wir uns die Datei [data.csv](../data_sets/mechatronic_systems/data.csv) anschauen, erkennen wir, dass die Trennzeichen in unserem Fall Semikolons sind und dass Floats ein Komma anstelle eines Punktes als Dezimaltrennzeichen aufweisen. Um den Datensatz einzulesen, nutzen wir die [pandas](https://pandas.pydata.org/)-Bibliothek - die erste Wahl bei der Arbeit mit tabellarischen Daten in Python. Eine kleine Anmerkung: Unter diesem Textabschnitt finden Sie einen Codeblock. Codeblöcke wie diesen können Sie ausführen, indem Sie auf den Block klicken und danach gleichzeitig SHIFT und ENTER auf der Tastatur drücken. Die entsprechende Ausgabe erscheint gegebenenfalls unter dem Block. Codeblöcke, die Sie zwischen den Texten in dieser Übung sehen, sollten Sie in der vorgegebenen Reihenfolge ausführen. Bei leeren Codeblöcken müssen Sie zuvor noch Ihren eigenen Code ergänzen."
      ]
    },
    {
      "cell_type": "code",
      "source": [
        "from google.colab import files\n",
        "uploaded = files.upload()"
      ],
      "metadata": {
        "id": "_NbGLmKzQseM",
        "outputId": "b2710613-ce5a-47d0-806d-079a88b0d97e",
        "colab": {
          "base_uri": "https://localhost:8080/",
          "height": 73
        }
      },
      "id": "_NbGLmKzQseM",
      "execution_count": 8,
      "outputs": [
        {
          "output_type": "display_data",
          "data": {
            "text/plain": [
              "<IPython.core.display.HTML object>"
            ],
            "text/html": [
              "\n",
              "     <input type=\"file\" id=\"files-0cdb2968-d364-423c-a4eb-53bfb3c76cbd\" name=\"files[]\" multiple disabled\n",
              "        style=\"border:none\" />\n",
              "     <output id=\"result-0cdb2968-d364-423c-a4eb-53bfb3c76cbd\">\n",
              "      Upload widget is only available when the cell has been executed in the\n",
              "      current browser session. Please rerun this cell to enable.\n",
              "      </output>\n",
              "      <script>// Copyright 2017 Google LLC\n",
              "//\n",
              "// Licensed under the Apache License, Version 2.0 (the \"License\");\n",
              "// you may not use this file except in compliance with the License.\n",
              "// You may obtain a copy of the License at\n",
              "//\n",
              "//      http://www.apache.org/licenses/LICENSE-2.0\n",
              "//\n",
              "// Unless required by applicable law or agreed to in writing, software\n",
              "// distributed under the License is distributed on an \"AS IS\" BASIS,\n",
              "// WITHOUT WARRANTIES OR CONDITIONS OF ANY KIND, either express or implied.\n",
              "// See the License for the specific language governing permissions and\n",
              "// limitations under the License.\n",
              "\n",
              "/**\n",
              " * @fileoverview Helpers for google.colab Python module.\n",
              " */\n",
              "(function(scope) {\n",
              "function span(text, styleAttributes = {}) {\n",
              "  const element = document.createElement('span');\n",
              "  element.textContent = text;\n",
              "  for (const key of Object.keys(styleAttributes)) {\n",
              "    element.style[key] = styleAttributes[key];\n",
              "  }\n",
              "  return element;\n",
              "}\n",
              "\n",
              "// Max number of bytes which will be uploaded at a time.\n",
              "const MAX_PAYLOAD_SIZE = 100 * 1024;\n",
              "\n",
              "function _uploadFiles(inputId, outputId) {\n",
              "  const steps = uploadFilesStep(inputId, outputId);\n",
              "  const outputElement = document.getElementById(outputId);\n",
              "  // Cache steps on the outputElement to make it available for the next call\n",
              "  // to uploadFilesContinue from Python.\n",
              "  outputElement.steps = steps;\n",
              "\n",
              "  return _uploadFilesContinue(outputId);\n",
              "}\n",
              "\n",
              "// This is roughly an async generator (not supported in the browser yet),\n",
              "// where there are multiple asynchronous steps and the Python side is going\n",
              "// to poll for completion of each step.\n",
              "// This uses a Promise to block the python side on completion of each step,\n",
              "// then passes the result of the previous step as the input to the next step.\n",
              "function _uploadFilesContinue(outputId) {\n",
              "  const outputElement = document.getElementById(outputId);\n",
              "  const steps = outputElement.steps;\n",
              "\n",
              "  const next = steps.next(outputElement.lastPromiseValue);\n",
              "  return Promise.resolve(next.value.promise).then((value) => {\n",
              "    // Cache the last promise value to make it available to the next\n",
              "    // step of the generator.\n",
              "    outputElement.lastPromiseValue = value;\n",
              "    return next.value.response;\n",
              "  });\n",
              "}\n",
              "\n",
              "/**\n",
              " * Generator function which is called between each async step of the upload\n",
              " * process.\n",
              " * @param {string} inputId Element ID of the input file picker element.\n",
              " * @param {string} outputId Element ID of the output display.\n",
              " * @return {!Iterable<!Object>} Iterable of next steps.\n",
              " */\n",
              "function* uploadFilesStep(inputId, outputId) {\n",
              "  const inputElement = document.getElementById(inputId);\n",
              "  inputElement.disabled = false;\n",
              "\n",
              "  const outputElement = document.getElementById(outputId);\n",
              "  outputElement.innerHTML = '';\n",
              "\n",
              "  const pickedPromise = new Promise((resolve) => {\n",
              "    inputElement.addEventListener('change', (e) => {\n",
              "      resolve(e.target.files);\n",
              "    });\n",
              "  });\n",
              "\n",
              "  const cancel = document.createElement('button');\n",
              "  inputElement.parentElement.appendChild(cancel);\n",
              "  cancel.textContent = 'Cancel upload';\n",
              "  const cancelPromise = new Promise((resolve) => {\n",
              "    cancel.onclick = () => {\n",
              "      resolve(null);\n",
              "    };\n",
              "  });\n",
              "\n",
              "  // Wait for the user to pick the files.\n",
              "  const files = yield {\n",
              "    promise: Promise.race([pickedPromise, cancelPromise]),\n",
              "    response: {\n",
              "      action: 'starting',\n",
              "    }\n",
              "  };\n",
              "\n",
              "  cancel.remove();\n",
              "\n",
              "  // Disable the input element since further picks are not allowed.\n",
              "  inputElement.disabled = true;\n",
              "\n",
              "  if (!files) {\n",
              "    return {\n",
              "      response: {\n",
              "        action: 'complete',\n",
              "      }\n",
              "    };\n",
              "  }\n",
              "\n",
              "  for (const file of files) {\n",
              "    const li = document.createElement('li');\n",
              "    li.append(span(file.name, {fontWeight: 'bold'}));\n",
              "    li.append(span(\n",
              "        `(${file.type || 'n/a'}) - ${file.size} bytes, ` +\n",
              "        `last modified: ${\n",
              "            file.lastModifiedDate ? file.lastModifiedDate.toLocaleDateString() :\n",
              "                                    'n/a'} - `));\n",
              "    const percent = span('0% done');\n",
              "    li.appendChild(percent);\n",
              "\n",
              "    outputElement.appendChild(li);\n",
              "\n",
              "    const fileDataPromise = new Promise((resolve) => {\n",
              "      const reader = new FileReader();\n",
              "      reader.onload = (e) => {\n",
              "        resolve(e.target.result);\n",
              "      };\n",
              "      reader.readAsArrayBuffer(file);\n",
              "    });\n",
              "    // Wait for the data to be ready.\n",
              "    let fileData = yield {\n",
              "      promise: fileDataPromise,\n",
              "      response: {\n",
              "        action: 'continue',\n",
              "      }\n",
              "    };\n",
              "\n",
              "    // Use a chunked sending to avoid message size limits. See b/62115660.\n",
              "    let position = 0;\n",
              "    do {\n",
              "      const length = Math.min(fileData.byteLength - position, MAX_PAYLOAD_SIZE);\n",
              "      const chunk = new Uint8Array(fileData, position, length);\n",
              "      position += length;\n",
              "\n",
              "      const base64 = btoa(String.fromCharCode.apply(null, chunk));\n",
              "      yield {\n",
              "        response: {\n",
              "          action: 'append',\n",
              "          file: file.name,\n",
              "          data: base64,\n",
              "        },\n",
              "      };\n",
              "\n",
              "      let percentDone = fileData.byteLength === 0 ?\n",
              "          100 :\n",
              "          Math.round((position / fileData.byteLength) * 100);\n",
              "      percent.textContent = `${percentDone}% done`;\n",
              "\n",
              "    } while (position < fileData.byteLength);\n",
              "  }\n",
              "\n",
              "  // All done.\n",
              "  yield {\n",
              "    response: {\n",
              "      action: 'complete',\n",
              "    }\n",
              "  };\n",
              "}\n",
              "\n",
              "scope.google = scope.google || {};\n",
              "scope.google.colab = scope.google.colab || {};\n",
              "scope.google.colab._files = {\n",
              "  _uploadFiles,\n",
              "  _uploadFilesContinue,\n",
              "};\n",
              "})(self);\n",
              "</script> "
            ]
          },
          "metadata": {}
        },
        {
          "output_type": "stream",
          "name": "stdout",
          "text": [
            "Saving data.csv to data (1).csv\n"
          ]
        }
      ]
    },
    {
      "cell_type": "code",
      "execution_count": 9,
      "id": "f326048e",
      "metadata": {
        "id": "f326048e"
      },
      "outputs": [],
      "source": [
        "import pandas as pd\n",
        "\n",
        "data = pd.read_csv(\"data.csv\", delimiter=\";\", decimal=\",\")"
      ]
    },
    {
      "cell_type": "markdown",
      "id": "eaa72f47",
      "metadata": {
        "id": "eaa72f47"
      },
      "source": [
        "Sie sehen, dass wir zuerst die pandas-Bibliothek importieren. Um bei Funktionsaufrufen aus dieser Bibliothek nicht jedes Mal ```pandas``` ausschreiben zu müssen, lassen wir Python wissen, dass wir das Kürzel ```pd``` anstelle von ```pandas``` benutzen möchten. Unseren csv-Datensatz können wir einlesen, indem wir einfach den Befehl ```pd.read_csv()``` ausführen. Dabei müssen wir der Funktion natürlich mitteilen, wo sich unsere Daten befinden und dass wir ```;``` als Trennzeichen sowie ```,``` als Dezimaltrennzeichen verwenden möchten. Der Datensatz wird abschließend in der Variable ```data``` in Form einer Tabelle gespeichert. Schauen wir uns die ersten paar Zeilen dieser Tabelle an. Dazu benutzen wir pandas' ```head()```-Funktion:"
      ]
    },
    {
      "cell_type": "code",
      "execution_count": 10,
      "id": "01eb3677",
      "metadata": {
        "id": "01eb3677",
        "outputId": "2c5a44f9-3b9b-48dc-c42f-b9e589377312",
        "colab": {
          "base_uri": "https://localhost:8080/",
          "height": 267
        }
      },
      "outputs": [
        {
          "output_type": "execute_result",
          "data": {
            "text/plain": [
              "  Maschine  Mode Produkt  Strom / A  Drehmoment / Nm  Drehzahl / 1/min  \\\n",
              "0        A   2.0       Y     22.782            51.79              1461   \n",
              "1        A   1.0       Y     19.793            45.03              1460   \n",
              "2        C   3.0       X     25.581            52.00              1463   \n",
              "3        C   3.0       Y     28.145            57.30              1461   \n",
              "4        C   2.0       Y     25.544            51.84              1466   \n",
              "\n",
              "   Temp Umgebung / degC  Temp Umrichter / degC  Temp Werkzeug / degC  \\\n",
              "0                  18.7                   23.1                  98.7   \n",
              "1                  21.0                   21.5                  87.5   \n",
              "2                  19.9                   21.8                  98.1   \n",
              "3                  20.7                   25.4                 109.7   \n",
              "4                  19.0                   24.1                 100.8   \n",
              "\n",
              "   Bearbeitungszeit / s  \n",
              "0                  23.8  \n",
              "1                  25.3  \n",
              "2                  19.9  \n",
              "3                  22.3  \n",
              "4                  23.8  "
            ],
            "text/html": [
              "\n",
              "  <div id=\"df-e8e7a274-3258-4b88-8f66-92df95c3fb2a\">\n",
              "    <div class=\"colab-df-container\">\n",
              "      <div>\n",
              "<style scoped>\n",
              "    .dataframe tbody tr th:only-of-type {\n",
              "        vertical-align: middle;\n",
              "    }\n",
              "\n",
              "    .dataframe tbody tr th {\n",
              "        vertical-align: top;\n",
              "    }\n",
              "\n",
              "    .dataframe thead th {\n",
              "        text-align: right;\n",
              "    }\n",
              "</style>\n",
              "<table border=\"1\" class=\"dataframe\">\n",
              "  <thead>\n",
              "    <tr style=\"text-align: right;\">\n",
              "      <th></th>\n",
              "      <th>Maschine</th>\n",
              "      <th>Mode</th>\n",
              "      <th>Produkt</th>\n",
              "      <th>Strom / A</th>\n",
              "      <th>Drehmoment / Nm</th>\n",
              "      <th>Drehzahl / 1/min</th>\n",
              "      <th>Temp Umgebung / degC</th>\n",
              "      <th>Temp Umrichter / degC</th>\n",
              "      <th>Temp Werkzeug / degC</th>\n",
              "      <th>Bearbeitungszeit / s</th>\n",
              "    </tr>\n",
              "  </thead>\n",
              "  <tbody>\n",
              "    <tr>\n",
              "      <th>0</th>\n",
              "      <td>A</td>\n",
              "      <td>2.0</td>\n",
              "      <td>Y</td>\n",
              "      <td>22.782</td>\n",
              "      <td>51.79</td>\n",
              "      <td>1461</td>\n",
              "      <td>18.7</td>\n",
              "      <td>23.1</td>\n",
              "      <td>98.7</td>\n",
              "      <td>23.8</td>\n",
              "    </tr>\n",
              "    <tr>\n",
              "      <th>1</th>\n",
              "      <td>A</td>\n",
              "      <td>1.0</td>\n",
              "      <td>Y</td>\n",
              "      <td>19.793</td>\n",
              "      <td>45.03</td>\n",
              "      <td>1460</td>\n",
              "      <td>21.0</td>\n",
              "      <td>21.5</td>\n",
              "      <td>87.5</td>\n",
              "      <td>25.3</td>\n",
              "    </tr>\n",
              "    <tr>\n",
              "      <th>2</th>\n",
              "      <td>C</td>\n",
              "      <td>3.0</td>\n",
              "      <td>X</td>\n",
              "      <td>25.581</td>\n",
              "      <td>52.00</td>\n",
              "      <td>1463</td>\n",
              "      <td>19.9</td>\n",
              "      <td>21.8</td>\n",
              "      <td>98.1</td>\n",
              "      <td>19.9</td>\n",
              "    </tr>\n",
              "    <tr>\n",
              "      <th>3</th>\n",
              "      <td>C</td>\n",
              "      <td>3.0</td>\n",
              "      <td>Y</td>\n",
              "      <td>28.145</td>\n",
              "      <td>57.30</td>\n",
              "      <td>1461</td>\n",
              "      <td>20.7</td>\n",
              "      <td>25.4</td>\n",
              "      <td>109.7</td>\n",
              "      <td>22.3</td>\n",
              "    </tr>\n",
              "    <tr>\n",
              "      <th>4</th>\n",
              "      <td>C</td>\n",
              "      <td>2.0</td>\n",
              "      <td>Y</td>\n",
              "      <td>25.544</td>\n",
              "      <td>51.84</td>\n",
              "      <td>1466</td>\n",
              "      <td>19.0</td>\n",
              "      <td>24.1</td>\n",
              "      <td>100.8</td>\n",
              "      <td>23.8</td>\n",
              "    </tr>\n",
              "  </tbody>\n",
              "</table>\n",
              "</div>\n",
              "      <button class=\"colab-df-convert\" onclick=\"convertToInteractive('df-e8e7a274-3258-4b88-8f66-92df95c3fb2a')\"\n",
              "              title=\"Convert this dataframe to an interactive table.\"\n",
              "              style=\"display:none;\">\n",
              "        \n",
              "  <svg xmlns=\"http://www.w3.org/2000/svg\" height=\"24px\"viewBox=\"0 0 24 24\"\n",
              "       width=\"24px\">\n",
              "    <path d=\"M0 0h24v24H0V0z\" fill=\"none\"/>\n",
              "    <path d=\"M18.56 5.44l.94 2.06.94-2.06 2.06-.94-2.06-.94-.94-2.06-.94 2.06-2.06.94zm-11 1L8.5 8.5l.94-2.06 2.06-.94-2.06-.94L8.5 2.5l-.94 2.06-2.06.94zm10 10l.94 2.06.94-2.06 2.06-.94-2.06-.94-.94-2.06-.94 2.06-2.06.94z\"/><path d=\"M17.41 7.96l-1.37-1.37c-.4-.4-.92-.59-1.43-.59-.52 0-1.04.2-1.43.59L10.3 9.45l-7.72 7.72c-.78.78-.78 2.05 0 2.83L4 21.41c.39.39.9.59 1.41.59.51 0 1.02-.2 1.41-.59l7.78-7.78 2.81-2.81c.8-.78.8-2.07 0-2.86zM5.41 20L4 18.59l7.72-7.72 1.47 1.35L5.41 20z\"/>\n",
              "  </svg>\n",
              "      </button>\n",
              "      \n",
              "  <style>\n",
              "    .colab-df-container {\n",
              "      display:flex;\n",
              "      flex-wrap:wrap;\n",
              "      gap: 12px;\n",
              "    }\n",
              "\n",
              "    .colab-df-convert {\n",
              "      background-color: #E8F0FE;\n",
              "      border: none;\n",
              "      border-radius: 50%;\n",
              "      cursor: pointer;\n",
              "      display: none;\n",
              "      fill: #1967D2;\n",
              "      height: 32px;\n",
              "      padding: 0 0 0 0;\n",
              "      width: 32px;\n",
              "    }\n",
              "\n",
              "    .colab-df-convert:hover {\n",
              "      background-color: #E2EBFA;\n",
              "      box-shadow: 0px 1px 2px rgba(60, 64, 67, 0.3), 0px 1px 3px 1px rgba(60, 64, 67, 0.15);\n",
              "      fill: #174EA6;\n",
              "    }\n",
              "\n",
              "    [theme=dark] .colab-df-convert {\n",
              "      background-color: #3B4455;\n",
              "      fill: #D2E3FC;\n",
              "    }\n",
              "\n",
              "    [theme=dark] .colab-df-convert:hover {\n",
              "      background-color: #434B5C;\n",
              "      box-shadow: 0px 1px 3px 1px rgba(0, 0, 0, 0.15);\n",
              "      filter: drop-shadow(0px 1px 2px rgba(0, 0, 0, 0.3));\n",
              "      fill: #FFFFFF;\n",
              "    }\n",
              "  </style>\n",
              "\n",
              "      <script>\n",
              "        const buttonEl =\n",
              "          document.querySelector('#df-e8e7a274-3258-4b88-8f66-92df95c3fb2a button.colab-df-convert');\n",
              "        buttonEl.style.display =\n",
              "          google.colab.kernel.accessAllowed ? 'block' : 'none';\n",
              "\n",
              "        async function convertToInteractive(key) {\n",
              "          const element = document.querySelector('#df-e8e7a274-3258-4b88-8f66-92df95c3fb2a');\n",
              "          const dataTable =\n",
              "            await google.colab.kernel.invokeFunction('convertToInteractive',\n",
              "                                                     [key], {});\n",
              "          if (!dataTable) return;\n",
              "\n",
              "          const docLinkHtml = 'Like what you see? Visit the ' +\n",
              "            '<a target=\"_blank\" href=https://colab.research.google.com/notebooks/data_table.ipynb>data table notebook</a>'\n",
              "            + ' to learn more about interactive tables.';\n",
              "          element.innerHTML = '';\n",
              "          dataTable['output_type'] = 'display_data';\n",
              "          await google.colab.output.renderOutput(dataTable, element);\n",
              "          const docLink = document.createElement('div');\n",
              "          docLink.innerHTML = docLinkHtml;\n",
              "          element.appendChild(docLink);\n",
              "        }\n",
              "      </script>\n",
              "    </div>\n",
              "  </div>\n",
              "  "
            ]
          },
          "metadata": {},
          "execution_count": 10
        }
      ],
      "source": [
        "data.head()"
      ]
    },
    {
      "cell_type": "markdown",
      "id": "717167cb",
      "metadata": {
        "id": "717167cb"
      },
      "source": [
        "Die ersten drei Merkmale scheinen in Kategorien eingeteilt zu sein, bei den anderen Merkmalen handelt es sich anscheinend um Floats oder Integers. Wenn wir uns noch einmal die [Dokumentation](../data_sets/mechatronic_systems/docs.pdf) vor Augen halten, so sind ```Maschine``` und ```Produkt``` offensichtlich nominale Merkmale; ```Mode``` ist hingegen ein ordinales Merkmal, da Energiesparbetrieb (```1.0```), Normalbetrieb (```2.0```) und Hochleistungsbetrieb (```3.0```) eine Rangordnung aufweisen. pandas verfügt natürlich nicht über diese Information aus der Dokumentation, daher müssen wir den ersten drei Merkmalen noch den passenden Datentyp zuweisen. Hierzu nutzen wir pandas' ```Categorical()```-Funktion:"
      ]
    },
    {
      "cell_type": "code",
      "execution_count": null,
      "id": "70e04251",
      "metadata": {
        "id": "70e04251"
      },
      "outputs": [],
      "source": [
        "data[\"Maschine\"] = pd.Categorical(data[\"Maschine\"])\n",
        "data[\"Produkt\"] = pd.Categorical(data[\"Produkt\"])\n",
        "data[\"Mode\"] = pd.Categorical(data[\"Mode\"], ordered=True)"
      ]
    },
    {
      "cell_type": "markdown",
      "id": "a4144d79",
      "metadata": {
        "id": "a4144d79"
      },
      "source": [
        "Wie man in dem oberen Codeblock erkennen kann, kann man auf Spalten der Tabelle zugreifen, indem man den Namen der Spalte (als String) zwischen zwei eckige Klammern schreibt. Um pandas mitzuteilen, ob es sich bei einem Merkmal um ein nominales oder um ein ordinales Merkmal handelt, benutzt man in der ```Categorical()```-Funktion das Argument ```ordered```. Das Argument ist standardmäßig auf ```False``` gesetzt. Bei ordinalen Merkmalen muss man der Funktion daher explizit den Wert ```True``` mitgeben. Nachdem wir unseren Merkmalen in der Tabelle also nun die richtigen Datentypen zugewiesen haben, können wir uns endlich den Visualisierungen zuwenden."
      ]
    },
    {
      "cell_type": "markdown",
      "id": "0e7a0c67",
      "metadata": {
        "id": "0e7a0c67"
      },
      "source": [
        "<h5>Ein Merkmal, ein Diagramm, viele Kenngrößen</h5>"
      ]
    },
    {
      "cell_type": "markdown",
      "id": "26425961",
      "metadata": {
        "id": "26425961"
      },
      "source": [
        "Sie haben in der Vorlesung bereits erfahren, dass es bei der explorativen Analyse zuerst meist sinnvoll ist, sich anzuschauen, wie oft die verschiedenen Werte in jedem Merkmal vorkommen. Bei nominalen und ordinalen Merkmalen bieten sich Säulen- oder Balkendiagramme zur Visualisierung an, bei metrischen Merkmalen Histogramme. Um interaktive Diagramme zu erstellen, können wir pandas ganz einfach mit Plotly kombinieren. Dazu setzen wir das sogenannte Backend zur Darstellung von Diagrammen auf ```\"plotly\"```:"
      ]
    },
    {
      "cell_type": "code",
      "execution_count": null,
      "id": "2630f91c",
      "metadata": {
        "id": "2630f91c"
      },
      "outputs": [],
      "source": [
        "pd.options.plotting.backend = \"plotly\""
      ]
    },
    {
      "cell_type": "markdown",
      "id": "90302cdd",
      "metadata": {
        "id": "90302cdd"
      },
      "source": [
        "Ein [Säulendiagramm](https://plotly.github.io/plotly.py-docs/generated/plotly.express.bar.html) können wir darstellen, indem wir die Anzahl der Werte pro Kategorie mit der ```value_counts()```-Funktion zählen und danach ```plot(kind=\"bar\")``` aufrufen. Für das nominale Merkmal ```Maschine``` sähe das wie folgt aus:"
      ]
    },
    {
      "cell_type": "code",
      "execution_count": null,
      "id": "a29e5b03",
      "metadata": {
        "id": "a29e5b03"
      },
      "outputs": [],
      "source": [
        "data[\"Maschine\"].value_counts().plot(kind=\"bar\")"
      ]
    },
    {
      "cell_type": "markdown",
      "id": "3169bcd7",
      "metadata": {
        "id": "3169bcd7"
      },
      "source": [
        "Das entsprechende [Balkendiagramm](https://plotly.github.io/plotly.py-docs/generated/plotly.express.bar.html) sähe so aus:"
      ]
    },
    {
      "cell_type": "code",
      "execution_count": null,
      "id": "c5d57da4",
      "metadata": {
        "id": "c5d57da4"
      },
      "outputs": [],
      "source": [
        "data[\"Maschine\"].value_counts().plot(kind=\"bar\", orientation=\"h\")"
      ]
    },
    {
      "cell_type": "markdown",
      "id": "ba23320c",
      "metadata": {
        "id": "ba23320c"
      },
      "source": [
        "Stellen Sie selbstständig ein Säulen- oder Balkendiagramm für das nominale Merkmal ```Produkt``` dar. Was fällt Ihnen auf?"
      ]
    },
    {
      "cell_type": "code",
      "execution_count": null,
      "id": "eb0e4c66",
      "metadata": {
        "id": "eb0e4c66"
      },
      "outputs": [],
      "source": []
    },
    {
      "cell_type": "markdown",
      "id": "568fa645",
      "metadata": {
        "id": "568fa645"
      },
      "source": [
        "Widmen wir uns als nächstes den metrischen Merkmalen. Metrische Merkmale kann man in Wertebereiche (englisch _bins_) einteilen und in einem [Histogramm](https://plotly.github.io/plotly.py-docs/generated/plotly.express.histogram.html) visualisieren. Ein Histogramm stellt eine Häufigkeitsverteilung dar, die man mit einigen Eigenschaften charakterisieren kann, wie dem Mittelwert, der Streuung, der Schiefe und der Wölbung. Ein Histogramm lässt sich mit Plotly ganz einfach darstellen, zum Beispiel für die Drehzahl pro Minute:"
      ]
    },
    {
      "cell_type": "code",
      "execution_count": null,
      "id": "1a72846e",
      "metadata": {
        "id": "1a72846e"
      },
      "outputs": [],
      "source": [
        "data[\"Drehzahl / 1/min\"].plot(kind=\"histogram\")"
      ]
    },
    {
      "cell_type": "markdown",
      "id": "3f111abe",
      "metadata": {
        "id": "3f111abe"
      },
      "source": [
        "Versuchen Sie, das Histogramm so weit wie möglich auf Basis der zuvorgenannten vier Eigenschaften zu beschreiben. Stellen Sie dann selbständig ein Histogramm von der Stromaufnahme in Ampere dar. Was fällt Ihnen an dieser Verteilung auf (Stichwort: Gipfel)?"
      ]
    },
    {
      "cell_type": "code",
      "execution_count": null,
      "id": "16b456c0",
      "metadata": {
        "id": "16b456c0"
      },
      "outputs": [],
      "source": []
    },
    {
      "cell_type": "markdown",
      "id": "e6cedb33",
      "metadata": {
        "id": "e6cedb33"
      },
      "source": [
        "Vielleicht ist Ihnen aufgefallen, dass sich die Anzahl der Wertebereiche zwischen den beiden Histogrammen unterscheidet. Im Histogramm zur Drehzahl pro Minute gibt es 12 solcher Bereiche, im Histogramm zur Stromaufname in Ampere 24. In Plotly gibt es einen Algorithmus, der die optimale Anzahl und Breite der Wertebereiche automatisch festlegt. Man kann allerdings über das ```nbins```-Argument zumindest die maximale Anzahl der Wertebereiche bestimmen. Setzen Sie das ```nbins```-Argument auf ```100``` und beobachten Sie, wie sich das Histogramm verändert. Fällt Ihnen bei der Häufigkeitsverteilung etwas auf, das Ihnen bei einer kleineren Anzahl von Wertebereichen vielleicht nicht aufgefallen wäre (Stichwort: Ausreißer)? Lohnt sich das Testen einer größeren Anzahl von Wertebereichen oder genügt die Standardeinstellung?"
      ]
    },
    {
      "cell_type": "code",
      "execution_count": null,
      "id": "ee5dbb7a",
      "metadata": {
        "id": "ee5dbb7a"
      },
      "outputs": [],
      "source": []
    },
    {
      "cell_type": "markdown",
      "id": "14e91bc7",
      "metadata": {
        "id": "14e91bc7"
      },
      "source": [
        "Zuletzt wollen wir uns noch anschauen, wie wir relative anstatt absolute Häufigkeiten angeben können. Nutzen Sie hierfür das ```histnorm```-Argument und setzen es auf ```\"probability\"```:"
      ]
    },
    {
      "cell_type": "code",
      "execution_count": null,
      "id": "e043711f",
      "metadata": {
        "id": "e043711f"
      },
      "outputs": [],
      "source": []
    },
    {
      "cell_type": "markdown",
      "id": "10fb24fe",
      "metadata": {
        "id": "10fb24fe"
      },
      "source": [
        "Natürlich ergibt es noch Sinn, die anderen Merkmale zu visualisieren. Da Ihnen die Funktionsaufrufe hierfür aber nun bekannt sein sollten, möchten wir an dieser Stelle darauf verzichten. Stattdessen wollen wir unsere Häufigkeitsverteilungen in einigen Kenngrößen zusammenzufassen. Dafür nutzen wir pandas' ```describe()```-Funktion und setzen ```include``` auf ```\"all\"```:"
      ]
    },
    {
      "cell_type": "code",
      "execution_count": null,
      "id": "ae3ffcab",
      "metadata": {
        "id": "ae3ffcab"
      },
      "outputs": [],
      "source": [
        "data.describe(include=\"all\")"
      ]
    },
    {
      "cell_type": "markdown",
      "id": "bfa834d6",
      "metadata": {
        "id": "bfa834d6"
      },
      "source": [
        "Durch diesen Funktionsaufruf werden eine ganze Menge Kenngrößen ausgegeben, von denen wir an dieser Stelle nur einige näher beleuchten möchten. Unter ```count``` wird die Anzahl von nicht-fehlenden Werten angegeben (also von Werten, die nicht \"not a number\" bzw. ```NaN``` sind) und unter ```unique``` wird die Anzahl der Kategorien bei nominalen und ordinalen Daten angegeben. Während uns ```count``` einen Aufschluss über die Datenqualität gibt, liefert uns ```unique``` eigentlich keine zusätzliche Information im Vergleich zu unserer interaktiven Visualisierung. Interessanter ist die Angabe des arithmetischen Mittels ```mean```, der Standardabweichung ```std``` und des Medians ```50%```. Weitere Streuungsmaße wie die Varianz können bei Bedarf aus den ausgegebenen Kenngrößen einfach berechnet werden. Wählen Sie nun ein metrisches Merkmal aus, bei dem es einen Unterschied ≥ 1 zwischen dem arithmetischen Mittel und dem Median gibt. Überlegen Sie sich zuerst allein auf Basis der Vorlesung, was Gründe für den Unterschied sein könnten. Überprüfen Sie Ihre Vermutungen dann durch eine passende Visualisierung:"
      ]
    },
    {
      "cell_type": "code",
      "execution_count": null,
      "id": "28dbe3d9",
      "metadata": {
        "id": "28dbe3d9"
      },
      "outputs": [],
      "source": []
    },
    {
      "cell_type": "markdown",
      "id": "15a5eb01",
      "metadata": {
        "id": "15a5eb01"
      },
      "source": [
        "<h5>Der Explorationsdatensatz</h5>"
      ]
    },
    {
      "cell_type": "markdown",
      "id": "88f681d9",
      "metadata": {
        "id": "88f681d9"
      },
      "source": [
        "Wir hoffen, dass wir Sie bereits von den Fähigkeiten von pandas und Plotly für die explorative Datenanalyse überzeugen konnten. Sie haben gesehen, dass es für die Darstellung eines Säulen- oder Balkendiagramms oder eines Histogramms jeweils nur einer einzigen Zeile Code bedarf; auch Lage- und Streuungsmaße können mit nur einer einzigen Zeile Code ausgegeben werden. Richtig interessant wird es oft aber erst, wenn wir nach weiteren Mustern und Zusammenhängen in den Daten suchen. Dazu müssen wir uns mehr als nur ein Merkmal zur gleichen Zeit anschauen. Wir gehen im Folgenden davon aus, dass wir nach unserer explorativen Analyse noch eine gezielte Analyse zu interessanten Muster und Zusammenhängen planen. Um Aussagen über unsere Stichprobe hinaus treffen zu können, müssen wir unsere Erkenntnisse später auf einem unabhängigen Datensatz testen können und daher an dieser Stelle unsere Daten in einen Explorations- und einen Testdatensatz aufteilen. Wir nutzen dazu eine einfache Randomisierung. Wir wählen also mit der ```sample()```-Funktion einen bestimmten Bruchteil unserer Daten zufällig zum Explorieren aus, zum Beispiel 75% bzw. ```0.75```. Um eine reproduzierbare Aufteilung zu erhalten, fixieren wir zudem den [Startwert des Zufallszahlengenerators](https://de.wikipedia.org/wiki/Seed_key), zum Beispiel auf ```42```:"
      ]
    },
    {
      "cell_type": "code",
      "execution_count": null,
      "id": "c60c47ca",
      "metadata": {
        "id": "c60c47ca"
      },
      "outputs": [],
      "source": [
        "exploration_data = data.sample(frac=0.75, random_state=42)\n",
        "# test_data = data.drop(exploration_data.index)"
      ]
    },
    {
      "cell_type": "markdown",
      "id": "6ac8e828",
      "metadata": {
        "id": "6ac8e828"
      },
      "source": [
        "<h5>Zusammenhang von Merkmalen</h5>"
      ]
    },
    {
      "cell_type": "markdown",
      "id": "c38d5cfd",
      "metadata": {
        "id": "c38d5cfd"
      },
      "source": [
        "Nachdem wir nun einen Explorationsdatensatz erstellt haben, können wir uns den Zusammenhang von Merkmalen für diesen Datensatz anschauen. Hierzu erstellen wir ein [Streudiagramm](https://plotly.github.io/plotly.py-docs/generated/plotly.express.scatter.html), zum Beispiel für die Stromaufnahme in Ampere und das Drehmoment in Newtonmeter:"
      ]
    },
    {
      "cell_type": "code",
      "execution_count": null,
      "id": "cec99e68",
      "metadata": {
        "id": "cec99e68"
      },
      "outputs": [],
      "source": [
        "exploration_data.plot(kind=\"scatter\", x=\"Strom / A\", y=\"Drehmoment / Nm\")"
      ]
    },
    {
      "cell_type": "markdown",
      "id": "08d5a3fa",
      "metadata": {
        "id": "08d5a3fa"
      },
      "source": [
        "Man kann in dem Streudiagramm gut sehen, dass das Drehmoment steigt, wenn die Stromaufnahme steigt - und zwar linear. Genausogut kann man natürlich sagen, dass die Stromaufnahme steigt, wenn das Drehmoment steigt. Das Streudiagramm erlaubt immerhin keine Aussage über die Ursache-Wirkung-Beziehung der Merkmale. Zudem kann man einen Ausreißer in der linken unteren Ecke des Diagramms vermuten. Interessant ist außerdem, dass man ganz deutlich drei Kategorien bzw. gerade Linien erkennen kann. Da es in unserem Datensatz zwei Merkmale mit drei klaren Kategorien gibt, nämlich ```Maschine``` und ```Mode```, wollen wir als nächstes untersuchen, ob der lineare Zusammenhang zwischen Stromaufnahme und Drehmoment vielleicht von den verschiedenen Maschinen bzw. Betriebsmodi abhängt. Dazu nutzen wir das ```color```-Argument, um den Kategorien eines dritten Merkmals verschiedene Farben zuzuweisen:"
      ]
    },
    {
      "cell_type": "code",
      "execution_count": null,
      "id": "e2b550d9",
      "metadata": {
        "id": "e2b550d9"
      },
      "outputs": [],
      "source": [
        "exploration_data.plot(kind=\"scatter\", x=\"Strom / A\", y=\"Drehmoment / Nm\", color=\"Mode\")"
      ]
    },
    {
      "cell_type": "code",
      "execution_count": null,
      "id": "a72ee68f",
      "metadata": {
        "id": "a72ee68f"
      },
      "outputs": [],
      "source": [
        "exploration_data.plot(kind=\"scatter\", x=\"Strom / A\", y=\"Drehmoment / Nm\", color=\"Maschine\")"
      ]
    },
    {
      "cell_type": "markdown",
      "id": "8f2e6afb",
      "metadata": {
        "id": "8f2e6afb"
      },
      "source": [
        "Die beiden Streudiagramme zeigen, dass sich die drei geraden Linien durch die verschiedenen Maschinen ergeben. Testen Sie als nächstes den Zusammenhang zwischen der Stromaufnahme in Ampere und der Werkzeug-Temperatur in °Celsius. Was können Sie erkennen?"
      ]
    },
    {
      "cell_type": "code",
      "execution_count": null,
      "id": "fdf89ed3",
      "metadata": {
        "id": "fdf89ed3"
      },
      "outputs": [],
      "source": []
    },
    {
      "cell_type": "markdown",
      "id": "a7386715",
      "metadata": {
        "id": "a7386715"
      },
      "source": [
        "Um Ihnen eine bessere Intuition über die Größe und Richtung eines Zusammenhangs zu geben, haben wir eine Auswahl an Streudiagrammen mit unterschiedlichen Zusammenhängen zusammengestellt. Versuchen Sie, die unten aufgeführten Zusammenhänge einzuschätzen. Ihre Schätzungen können Sie in Abbildung 7 im Skript kontrollieren. Ist der folgende Zusammenhang groß oder klein, positiv oder negativ?"
      ]
    },
    {
      "cell_type": "markdown",
      "id": "bda5963c",
      "metadata": {
        "id": "bda5963c"
      },
      "source": [
        "![](../pics/corr_10.svg \"Example 1.0\")"
      ]
    },
    {
      "cell_type": "markdown",
      "id": "15aa2b41",
      "metadata": {
        "id": "15aa2b41"
      },
      "source": [
        "Wie sieht es bei dem nächsten Zusammenhang aus?"
      ]
    },
    {
      "cell_type": "markdown",
      "id": "9e44ab79",
      "metadata": {
        "id": "9e44ab79"
      },
      "source": [
        "![](../pics/corr_-10.svg \"Example -1.0\")"
      ]
    },
    {
      "cell_type": "markdown",
      "id": "266058d6",
      "metadata": {
        "id": "266058d6"
      },
      "source": [
        "Überlegen Sie, wie ein Streudiagramm aussehen würde, wenn es keinen Zusammenhang zwischen den Merkmalen gäbe. Beschreiben Sie dann den folgenden Zusammenhang:"
      ]
    },
    {
      "cell_type": "markdown",
      "id": "3d97edc5",
      "metadata": {
        "id": "3d97edc5"
      },
      "source": [
        "![](../pics/corr_00.svg \"Example 0.0\")"
      ]
    },
    {
      "cell_type": "markdown",
      "id": "70215686",
      "metadata": {
        "id": "70215686"
      },
      "source": [
        "Schätzen Sie zum Schluss noch diesen Zusammenhang ein:"
      ]
    },
    {
      "cell_type": "markdown",
      "id": "e4a4be8d",
      "metadata": {
        "id": "e4a4be8d"
      },
      "source": [
        "![](../pics/corr_08.svg \"Example 0.8\")"
      ]
    },
    {
      "cell_type": "markdown",
      "id": "448bf037",
      "metadata": {
        "id": "448bf037"
      },
      "source": [
        "Möchten Sie Ihre Intuition über die Größe von Zusammenhängen (mit dem Korrelationskoeffizienten nach Pearson) noch weiter ausbauen, empfehlen wir Ihnen das Online-Spiel [Guess the Correlation](http://guessthecorrelation.com/). Mit dem besseren Verständnis über die Stärke und Richtung von Zusammenhängen können wir uns nun direkt die Korrelationskoeffizienten nach Pearson für unsere metrischen Merkmale anschauen. Dazu benutzen wir die ```corr()```-Funktion (zur Bestimmung der Korrelationen) in Verbindung mit ```\"imshow\"``` (kurz für _image show_) und passenden Farben (```\"RdBu_r\"```) zur Erstellung einer [Heatmap](https://plotly.github.io/plotly.py-docs/generated/plotly.express.imshow.html):"
      ]
    },
    {
      "cell_type": "code",
      "execution_count": null,
      "id": "1fb8953a",
      "metadata": {
        "id": "1fb8953a"
      },
      "outputs": [],
      "source": [
        "exploration_data.corr().plot(kind=\"imshow\", color_continuous_scale=\"RdBu_r\")"
      ]
    },
    {
      "cell_type": "markdown",
      "id": "ad04c052",
      "metadata": {
        "id": "ad04c052"
      },
      "source": [
        "Deckt sich die berechnete Korrelation mit Ihren Erkenntnissen aus den Streudiagrammen? Fallen Ihnen noch weitere interessante Zusammenhänge auf? Manchmal ergeben sich interessante Zusammenhänge erst, wenn man verschiedene Merkmale miteinander kombiniert. So können wir zum Beispiel die Spannung aus der Drehzahl, dem Drehmoment und der Stromstärke [berechnen](https://en.wikipedia.org/wiki/Electric_motor). Lassen Sie uns hierzu eine neue Spalte in unserer Tabelle anlegen:"
      ]
    },
    {
      "cell_type": "code",
      "execution_count": null,
      "id": "c4b054ba",
      "metadata": {
        "id": "c4b054ba"
      },
      "outputs": [],
      "source": [
        "exploration_data[\"Spannung / V\"] = (2 * 3.14 / 60 * exploration_data[\"Drehzahl / 1/min\"] *\n",
        "exploration_data[\"Drehmoment / Nm\"] / exploration_data[\"Strom / A\"])"
      ]
    },
    {
      "cell_type": "markdown",
      "id": "b19bc6bb",
      "metadata": {
        "id": "b19bc6bb"
      },
      "source": [
        "Nun können wir die Korrelationskoeffizienten nach Pearson für unser neues Merkmal noch einmal darstellen:"
      ]
    },
    {
      "cell_type": "code",
      "execution_count": null,
      "id": "cf1e057f",
      "metadata": {
        "id": "cf1e057f"
      },
      "outputs": [],
      "source": [
        "exploration_data.corr().plot(kind=\"imshow\", color_continuous_scale=\"RdBu_r\")"
      ]
    },
    {
      "cell_type": "markdown",
      "id": "4fa9723c",
      "metadata": {
        "id": "4fa9723c"
      },
      "source": [
        "Ergeben sich durch unser neues Merkmal neue interessante Zusammenhänge? Versuchen Sie nun selbst, eine Hypothese darüber aufzustellen, welche Merkmalskombination interessante Zusammenhänge zeigen könnte. Ohne Wissen über mechatronische Systeme erwarten wir natürlich nicht, dass Ihre Hypothese plausibel ist. Für unsere Zwecke würde daher auch die Hypothese genügen, dass sich durch die Multiplikation oder Division zweier beliebiger Merkmale möglicherweise ein neues interessantes Merkmal ergeben könnte. Legen Sie in der Tabelle dann eine neue Spalte für Ihr Merkmal an und lassen Sie sich die Korrelationskoeffizienten nach Pearson in einer Heatmap ausgeben. Nicht-benötige Spalten können Sie bei Bedarf mit ```del exploration_data[\"...\"]``` löschen, indem sie ```...``` durch den Spaltennamen ersetzen."
      ]
    },
    {
      "cell_type": "code",
      "execution_count": null,
      "id": "ad2dd3d2",
      "metadata": {
        "id": "ad2dd3d2"
      },
      "outputs": [],
      "source": []
    },
    {
      "cell_type": "markdown",
      "id": "0ca3c8d4",
      "metadata": {
        "id": "0ca3c8d4"
      },
      "source": [
        "<h5>Der Blick zurück und der Blick nach vorn</h5>"
      ]
    },
    {
      "cell_type": "markdown",
      "id": "e4d649d3",
      "metadata": {
        "id": "e4d649d3"
      },
      "source": [
        "Mit der Generierung und Testung einer eignen Hypothese endet unsere erste praktische Übung zur explorativen Datenanalyse. Sie haben mit dieser Übung einiges erreicht. Sie können nun sowohl Säulen- oder Balkendiagramme, Histogramme, Streudiagramme als auch Heatmaps in Plotly visualisieren, um einen Datensatz zu erkunden - alles in jeweils nur einer einzigen Zeile Code. Sie haben zudem die wichtigsten Funktionsargumente kennengelernt und haben einige davon auch selbst angepasst. Dass Sie auch eigene Hypothesen aufstellen und testen können, eröffnet Ihnen die Möglichkeit, Ihre eigenen Annahmen auch ohne eine gezielte Datenanalyse auf die Probe zu stellen. Mit unserer zweiten praktischen Übung steht die Wiederholung und Festigung des Erlernten im Vordergrund, bevor wir uns mit unserer dritten praktischen Übung fortgeschritteneren Konzepten der explorativen Datenanalyse widmen."
      ]
    }
  ],
  "metadata": {
    "kernelspec": {
      "display_name": "Python 3.8.10 ('env': venv)",
      "language": "python",
      "name": "python3"
    },
    "language_info": {
      "codemirror_mode": {
        "name": "ipython",
        "version": 3
      },
      "file_extension": ".py",
      "mimetype": "text/x-python",
      "name": "python",
      "nbconvert_exporter": "python",
      "pygments_lexer": "ipython3",
      "version": "3.10.6"
    },
    "vscode": {
      "interpreter": {
        "hash": "b07170ffe031b9291924a8d255d526a1b93401860d2b821f7b92d48f2ffde530"
      }
    },
    "colab": {
      "provenance": []
    }
  },
  "nbformat": 4,
  "nbformat_minor": 5
}