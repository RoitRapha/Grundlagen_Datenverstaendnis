{
 "cells": [
  {
   "cell_type": "markdown",
   "id": "3fd05890",
   "metadata": {},
   "source": [
    "<h4>Explorative Datenanalyse: Verteilungen und Zusammenhänge</h4>"
   ]
  },
  {
   "cell_type": "markdown",
   "id": "2dc431ed",
   "metadata": {},
   "source": [
    "Willkommen bei der ersten praktischen Übung zum Thema explorative Datenanalyse! Wir haben uns während der Vorlesung bereits mit einigen Verfahren beschäftigt, mit denen man einen Datensatz erkunden kann. Im Folgenden wollen wir diese Verfahren auch praktisch anwenden. Zum Glück ist die explorative Analyse von Daten so weit verbreitet, dass es bereits eine Vielzahl an Bibliotheken für genau diesen Zweck gibt. Wir werden für unsere Analyse eine der bekanntesten Bibliotheken verwenden, um interaktive Diagramme zu erstellen: Plotly. Plotly verfügt über Schnittstellen zu einer ganzen Reihe an Programmiersprachen, darunter auch [Python](https://plotly.com/python/). Mit der ersten praktischen Übung verfolgen wir folgende Lernziele:\n",
    "\n",
    "- Sie sollen lernen, wie Sie Daten mithilfe von Säulen- oder Balkendiagrammen, Histogrammen, Streudiagrammen und Heatmaps in Plotly visualisieren können.\n",
    "- Sie sollen den Wert von Funktionsargumenten zur Visualisierung sach- und zweckorientiert anpassen können.\n",
    "- Sie sollen lernen, wie man eigene Hypothesen über einen Datensatz aufstellen und diese im Rahmen einer explorativen Analyse testen kann.\n",
    "\n",
    "Voraussichtlich werden Sie für diese Übung maximal 2h benötigen."
   ]
  },
  {
   "cell_type": "markdown",
   "id": "74448a5a",
   "metadata": {},
   "source": [
    "<h5>Der Datensatz</h5>"
   ]
  },
  {
   "cell_type": "markdown",
   "id": "c1c5752e",
   "metadata": {},
   "source": [
    "Für die explorative Analyse von Daten braucht man als Ausgangspunkt erst einmal eins: Daten. Für unsere praktischen Übungen werden wir einen Datensatz verwenden, der uns freundlicherweise von [Prof. Dr. Stephan Matzka](https://www.htw-berlin.de/hochschule/personen/person/?eid=11248) zur Verfügung gestellt wurde. Der Datensatz befasst sich mit einer Fertigungszelle, in der drei Maschinen Produkte herstellen. Werfen Sie einen kurzen Blick auf die [Dokumentation](../data_sets/mechatronic_systems/docs.pdf), um einen Überblick über die verschienden Merkmale in diesem Datensatz zu erhalten. Unser Datensatz ```data.csv``` liegt im sogenannten csv-Format vor (englisch für _comma-separated values_). Das ist ein gängiges Format zum Speichern strukturierter Daten, bei dem einzelne Werte durch Kommas oder andere Trennzeichen separiert sind. Wenn wir uns die Datei [data.csv](../data_sets/mechatronic_systems/data.csv) anschauen, erkennen wir, dass die Trennzeichen in unserem Fall Semikolons sind und dass Floats ein Komma anstelle eines Punktes als Dezimaltrennzeichen aufweisen. Um den Datensatz einzulesen, nutzen wir die [pandas](https://pandas.pydata.org/)-Bibliothek - die erste Wahl bei der Arbeit mit tabellarischen Daten in Python. Eine kleine Anmerkung: Unter diesem Textabschnitt finden Sie einen Codeblock. Codeblöcke wie diesen können Sie ausführen, indem Sie auf den Block klicken und danach gleichzeitig SHIFT und ENTER auf der Tastatur drücken. Die entsprechende Ausgabe erscheint gegebenenfalls unter dem Block. Codeblöcke, die Sie zwischen den Texten in dieser Übung sehen, sollten Sie in der vorgegebenen Reihenfolge ausführen. Bei leeren Codeblöcken müssen Sie zuvor noch Ihren eigenen Code ergänzen."
   ]
  },
  {
   "cell_type": "code",
   "execution_count": null,
   "id": "f326048e",
   "metadata": {},
   "outputs": [],
   "source": [
    "import pandas as pd\n",
    "\n",
    "data = pd.read_csv(\"../data_sets/mechatronic_systems/data.csv\", delimiter=\";\", decimal=\",\")"
   ]
  },
  {
   "cell_type": "markdown",
   "id": "eaa72f47",
   "metadata": {},
   "source": [
    "Sie sehen, dass wir zuerst die pandas-Bibliothek importieren. Um bei Funktionsaufrufen aus dieser Bibliothek nicht jedes Mal ```pandas``` ausschreiben zu müssen, lassen wir Python wissen, dass wir das Kürzel ```pd``` anstelle von ```pandas``` benutzen möchten. Unseren csv-Datensatz können wir einlesen, indem wir einfach den Befehl ```pd.read_csv()``` ausführen. Dabei müssen wir der Funktion natürlich mitteilen, wo sich unsere Daten befinden und dass wir ```;``` als Trennzeichen sowie ```,``` als Dezimaltrennzeichen verwenden möchten. Der Datensatz wird abschließend in der Variable ```data``` in Form einer Tabelle gespeichert. Schauen wir uns die ersten paar Zeilen dieser Tabelle an. Dazu benutzen wir pandas' ```head()```-Funktion:"
   ]
  },
  {
   "cell_type": "code",
   "execution_count": null,
   "id": "01eb3677",
   "metadata": {},
   "outputs": [],
   "source": [
    "data.head()"
   ]
  },
  {
   "cell_type": "markdown",
   "id": "717167cb",
   "metadata": {},
   "source": [
    "Die ersten drei Merkmale scheinen in Kategorien eingeteilt zu sein, bei den anderen Merkmalen handelt es sich anscheinend um Floats oder Integers. Wenn wir uns noch einmal die [Dokumentation](../data_sets/mechatronic_systems/docs.pdf) vor Augen halten, so sind ```Maschine``` und ```Produkt``` offensichtlich nominale Merkmale; ```Mode``` ist hingegen ein ordinales Merkmal, da Energiesparbetrieb (```1.0```), Normalbetrieb (```2.0```) und Hochleistungsbetrieb (```3.0```) eine Rangordnung aufweisen. pandas verfügt natürlich nicht über diese Information aus der Dokumentation, daher müssen wir den ersten drei Merkmalen noch den passenden Datentyp zuweisen. Hierzu nutzen wir pandas' ```Categorical()```-Funktion:"
   ]
  },
  {
   "cell_type": "code",
   "execution_count": null,
   "id": "70e04251",
   "metadata": {},
   "outputs": [],
   "source": [
    "data[\"Maschine\"] = pd.Categorical(data[\"Maschine\"])\n",
    "data[\"Produkt\"] = pd.Categorical(data[\"Produkt\"])\n",
    "data[\"Mode\"] = pd.Categorical(data[\"Mode\"], ordered=True)"
   ]
  },
  {
   "cell_type": "markdown",
   "id": "a4144d79",
   "metadata": {},
   "source": [
    "Wie man in dem oberen Codeblock erkennen kann, kann man auf Spalten der Tabelle zugreifen, indem man den Namen der Spalte (als String) zwischen zwei eckige Klammern schreibt. Um pandas mitzuteilen, ob es sich bei einem Merkmal um ein nominales oder um ein ordinales Merkmal handelt, benutzt man in der ```Categorical()```-Funktion das Argument ```ordered```. Das Argument ist standardmäßig auf ```False``` gesetzt. Bei ordinalen Merkmalen muss man der Funktion daher explizit den Wert ```True``` mitgeben. Nachdem wir unseren Merkmalen in der Tabelle also nun die richtigen Datentypen zugewiesen haben, können wir uns endlich den Visualisierungen zuwenden."
   ]
  },
  {
   "cell_type": "markdown",
   "id": "0e7a0c67",
   "metadata": {},
   "source": [
    "<h5>Ein Merkmal, ein Diagramm, viele Kenngrößen</h5>"
   ]
  },
  {
   "cell_type": "markdown",
   "id": "26425961",
   "metadata": {},
   "source": [
    "Sie haben in der Vorlesung bereits erfahren, dass es bei der explorativen Analyse zuerst meist sinnvoll ist, sich anzuschauen, wie oft die verschiedenen Werte in jedem Merkmal vorkommen. Bei nominalen und ordinalen Merkmalen bieten sich Säulen- oder Balkendiagramme zur Visualisierung an, bei metrischen Merkmalen Histogramme. Um interaktive Diagramme zu erstellen, können wir pandas ganz einfach mit Plotly kombinieren. Dazu setzen wir das sogenannte Backend zur Darstellung von Diagrammen auf ```\"plotly\"```:"
   ]
  },
  {
   "cell_type": "code",
   "execution_count": null,
   "id": "2630f91c",
   "metadata": {},
   "outputs": [],
   "source": [
    "pd.options.plotting.backend = \"plotly\""
   ]
  },
  {
   "cell_type": "markdown",
   "id": "90302cdd",
   "metadata": {},
   "source": [
    "Ein [Säulendiagramm](https://plotly.github.io/plotly.py-docs/generated/plotly.express.bar.html) können wir darstellen, indem wir die Anzahl der Werte pro Kategorie mit der ```value_counts()```-Funktion zählen und danach ```plot(kind=\"bar\")``` aufrufen. Für das nominale Merkmal ```Maschine``` sähe das wie folgt aus:"
   ]
  },
  {
   "cell_type": "code",
   "execution_count": null,
   "id": "a29e5b03",
   "metadata": {},
   "outputs": [],
   "source": [
    "data[\"Maschine\"].value_counts().plot(kind=\"bar\")"
   ]
  },
  {
   "cell_type": "markdown",
   "id": "3169bcd7",
   "metadata": {},
   "source": [
    "Das entsprechende [Balkendiagramm](https://plotly.github.io/plotly.py-docs/generated/plotly.express.bar.html) sähe so aus:"
   ]
  },
  {
   "cell_type": "code",
   "execution_count": null,
   "id": "c5d57da4",
   "metadata": {},
   "outputs": [],
   "source": [
    "data[\"Maschine\"].value_counts().plot(kind=\"bar\", orientation=\"h\")"
   ]
  },
  {
   "cell_type": "markdown",
   "id": "ba23320c",
   "metadata": {},
   "source": [
    "Stellen Sie selbstständig ein Säulen- oder Balkendiagramm für das nominale Merkmal ```Produkt``` dar. Was fällt Ihnen auf?"
   ]
  },
  {
   "cell_type": "code",
   "execution_count": null,
   "id": "eb0e4c66",
   "metadata": {},
   "outputs": [],
   "source": []
  },
  {
   "cell_type": "markdown",
   "id": "568fa645",
   "metadata": {},
   "source": [
    "Widmen wir uns als nächstes den metrischen Merkmalen. Metrische Merkmale kann man in Wertebereiche (englisch _bins_) einteilen und in einem [Histogramm](https://plotly.github.io/plotly.py-docs/generated/plotly.express.histogram.html) visualisieren. Ein Histogramm stellt eine Häufigkeitsverteilung dar, die man mit einigen Eigenschaften charakterisieren kann, wie dem Mittelwert, der Streuung, der Schiefe und der Wölbung. Ein Histogramm lässt sich mit Plotly ganz einfach darstellen, zum Beispiel für die Drehzahl pro Minute:"
   ]
  },
  {
   "cell_type": "code",
   "execution_count": null,
   "id": "1a72846e",
   "metadata": {},
   "outputs": [],
   "source": [
    "data[\"Drehzahl / 1/min\"].plot(kind=\"histogram\")"
   ]
  },
  {
   "cell_type": "markdown",
   "id": "3f111abe",
   "metadata": {},
   "source": [
    "Versuchen Sie, das Histogramm so weit wie möglich auf Basis der zuvorgenannten vier Eigenschaften zu beschreiben. Stellen Sie dann selbständig ein Histogramm von der Stromaufnahme in Ampere dar. Was fällt Ihnen an dieser Verteilung auf (Stichwort: Gipfel)?"
   ]
  },
  {
   "cell_type": "code",
   "execution_count": null,
   "id": "16b456c0",
   "metadata": {},
   "outputs": [],
   "source": []
  },
  {
   "cell_type": "markdown",
   "id": "e6cedb33",
   "metadata": {},
   "source": [
    "Vielleicht ist Ihnen aufgefallen, dass sich die Anzahl der Wertebereiche zwischen den beiden Histogrammen unterscheidet. Im Histogramm zur Drehzahl pro Minute gibt es 12 solcher Bereiche, im Histogramm zur Stromaufname in Ampere 24. In Plotly gibt es einen Algorithmus, der die optimale Anzahl und Breite der Wertebereiche automatisch festlegt. Man kann allerdings über das ```nbins```-Argument zumindest die maximale Anzahl der Wertebereiche bestimmen. Setzen Sie das ```nbins```-Argument auf ```100``` und beobachten Sie, wie sich das Histogramm verändert. Fällt Ihnen bei der Häufigkeitsverteilung etwas auf, das Ihnen bei einer kleineren Anzahl von Wertebereichen vielleicht nicht aufgefallen wäre (Stichwort: Ausreißer)? Lohnt sich das Testen einer größeren Anzahl von Wertebereichen oder genügt die Standardeinstellung?"
   ]
  },
  {
   "cell_type": "code",
   "execution_count": null,
   "id": "ee5dbb7a",
   "metadata": {},
   "outputs": [],
   "source": []
  },
  {
   "cell_type": "markdown",
   "id": "14e91bc7",
   "metadata": {},
   "source": [
    "Zuletzt wollen wir uns noch anschauen, wie wir relative anstatt absolute Häufigkeiten angeben können. Nutzen Sie hierfür das ```histnorm```-Argument und setzen es auf ```\"probability\"```:"
   ]
  },
  {
   "cell_type": "code",
   "execution_count": null,
   "id": "e043711f",
   "metadata": {},
   "outputs": [],
   "source": []
  },
  {
   "cell_type": "markdown",
   "id": "10fb24fe",
   "metadata": {},
   "source": [
    "Natürlich ergibt es noch Sinn, die anderen Merkmale zu visualisieren. Da Ihnen die Funktionsaufrufe hierfür aber nun bekannt sein sollten, möchten wir an dieser Stelle darauf verzichten. Stattdessen wollen wir unsere Häufigkeitsverteilungen in einigen Kenngrößen zusammenzufassen. Dafür nutzen wir pandas' ```describe()```-Funktion und setzen ```include``` auf ```\"all\"```:"
   ]
  },
  {
   "cell_type": "code",
   "execution_count": null,
   "id": "ae3ffcab",
   "metadata": {},
   "outputs": [],
   "source": [
    "data.describe(include=\"all\")"
   ]
  },
  {
   "cell_type": "markdown",
   "id": "bfa834d6",
   "metadata": {},
   "source": [
    "Durch diesen Funktionsaufruf werden eine ganze Menge Kenngrößen ausgegeben, von denen wir an dieser Stelle nur einige näher beleuchten möchten. Unter ```count``` wird die Anzahl von nicht-fehlenden Werten angegeben (also von Werten, die nicht \"not a number\" bzw. ```NaN``` sind) und unter ```unique``` wird die Anzahl der Kategorien bei nominalen und ordinalen Daten angegeben. Während uns ```count``` einen Aufschluss über die Datenqualität gibt, liefert uns ```unique``` eigentlich keine zusätzliche Information im Vergleich zu unserer interaktiven Visualisierung. Interessanter ist die Angabe des arithmetischen Mittels ```mean```, der Standardabweichung ```std``` und des Medians ```50%```. Weitere Streuungsmaße wie die Varianz können bei Bedarf aus den ausgegebenen Kenngrößen einfach berechnet werden. Wählen Sie nun ein metrisches Merkmal aus, bei dem es einen Unterschied ≥ 1 zwischen dem arithmetischen Mittel und dem Median gibt. Überlegen Sie sich zuerst allein auf Basis der Vorlesung, was Gründe für den Unterschied sein könnten. Überprüfen Sie Ihre Vermutungen dann durch eine passende Visualisierung:"
   ]
  },
  {
   "cell_type": "code",
   "execution_count": null,
   "id": "28dbe3d9",
   "metadata": {},
   "outputs": [],
   "source": []
  },
  {
   "cell_type": "markdown",
   "id": "15a5eb01",
   "metadata": {},
   "source": [
    "<h5>Der Explorationsdatensatz</h5>"
   ]
  },
  {
   "cell_type": "markdown",
   "id": "88f681d9",
   "metadata": {},
   "source": [
    "Wir hoffen, dass wir Sie bereits von den Fähigkeiten von pandas und Plotly für die explorative Datenanalyse überzeugen konnten. Sie haben gesehen, dass es für die Darstellung eines Säulen- oder Balkendiagramms oder eines Histogramms jeweils nur einer einzigen Zeile Code bedarf; auch Lage- und Streuungsmaße können mit nur einer einzigen Zeile Code ausgegeben werden. Richtig interessant wird es oft aber erst, wenn wir nach weiteren Mustern und Zusammenhängen in den Daten suchen. Dazu müssen wir uns mehr als nur ein Merkmal zur gleichen Zeit anschauen. Wir gehen im Folgenden davon aus, dass wir nach unserer explorativen Analyse noch eine gezielte Analyse zu interessanten Muster und Zusammenhängen planen. Um Aussagen über unsere Stichprobe hinaus treffen zu können, müssen wir unsere Erkenntnisse später auf einem unabhängigen Datensatz testen können und daher an dieser Stelle unsere Daten in einen Explorations- und einen Testdatensatz aufteilen. Wir nutzen dazu eine einfache Randomisierung. Wir wählen also mit der ```sample()```-Funktion einen bestimmten Bruchteil unserer Daten zufällig zum Explorieren aus, zum Beispiel 75% bzw. ```0.75```. Um eine reproduzierbare Aufteilung zu erhalten, fixieren wir zudem den [Startwert des Zufallszahlengenerators](https://de.wikipedia.org/wiki/Seed_key), zum Beispiel auf ```42```:"
   ]
  },
  {
   "cell_type": "code",
   "execution_count": null,
   "id": "c60c47ca",
   "metadata": {},
   "outputs": [],
   "source": [
    "exploration_data = data.sample(frac=0.75, random_state=42)\n",
    "# test_data = data.drop(exploration_data.index)"
   ]
  },
  {
   "cell_type": "markdown",
   "id": "6ac8e828",
   "metadata": {},
   "source": [
    "<h5>Zusammenhang von Merkmalen</h5>"
   ]
  },
  {
   "cell_type": "markdown",
   "id": "c38d5cfd",
   "metadata": {},
   "source": [
    "Nachdem wir nun einen Explorationsdatensatz erstellt haben, können wir uns den Zusammenhang von Merkmalen für diesen Datensatz anschauen. Hierzu erstellen wir ein [Streudiagramm](https://plotly.github.io/plotly.py-docs/generated/plotly.express.scatter.html), zum Beispiel für die Stromaufnahme in Ampere und das Drehmoment in Newtonmeter:"
   ]
  },
  {
   "cell_type": "code",
   "execution_count": null,
   "id": "cec99e68",
   "metadata": {},
   "outputs": [],
   "source": [
    "exploration_data.plot(kind=\"scatter\", x=\"Strom / A\", y=\"Drehmoment / Nm\")"
   ]
  },
  {
   "cell_type": "markdown",
   "id": "08d5a3fa",
   "metadata": {},
   "source": [
    "Man kann in dem Streudiagramm gut sehen, dass das Drehmoment steigt, wenn die Stromaufnahme steigt - und zwar linear. Genausogut kann man natürlich sagen, dass die Stromaufnahme steigt, wenn das Drehmoment steigt. Das Streudiagramm erlaubt immerhin keine Aussage über die Ursache-Wirkung-Beziehung der Merkmale. Zudem kann man einen Ausreißer in der linken unteren Ecke des Diagramms vermuten. Interessant ist außerdem, dass man ganz deutlich drei Kategorien bzw. gerade Linien erkennen kann. Da es in unserem Datensatz zwei Merkmale mit drei klaren Kategorien gibt, nämlich ```Maschine``` und ```Mode```, wollen wir als nächstes untersuchen, ob der lineare Zusammenhang zwischen Stromaufnahme und Drehmoment vielleicht von den verschiedenen Maschinen bzw. Betriebsmodi abhängt. Dazu nutzen wir das ```color```-Argument, um den Kategorien eines dritten Merkmals verschiedene Farben zuzuweisen:"
   ]
  },
  {
   "cell_type": "code",
   "execution_count": null,
   "id": "e2b550d9",
   "metadata": {},
   "outputs": [],
   "source": [
    "exploration_data.plot(kind=\"scatter\", x=\"Strom / A\", y=\"Drehmoment / Nm\", color=\"Mode\")"
   ]
  },
  {
   "cell_type": "code",
   "execution_count": null,
   "id": "a72ee68f",
   "metadata": {},
   "outputs": [],
   "source": [
    "exploration_data.plot(kind=\"scatter\", x=\"Strom / A\", y=\"Drehmoment / Nm\", color=\"Maschine\")"
   ]
  },
  {
   "cell_type": "markdown",
   "id": "8f2e6afb",
   "metadata": {},
   "source": [
    "Die beiden Streudiagramme zeigen, dass sich die drei geraden Linien durch die verschiedenen Maschinen ergeben. Testen Sie als nächstes den Zusammenhang zwischen der Stromaufnahme in Ampere und der Werkzeug-Temperatur in °Celsius. Was können Sie erkennen?"
   ]
  },
  {
   "cell_type": "code",
   "execution_count": null,
   "id": "fdf89ed3",
   "metadata": {},
   "outputs": [],
   "source": []
  },
  {
   "cell_type": "markdown",
   "id": "a7386715",
   "metadata": {},
   "source": [
    "Um Ihnen eine bessere Intuition über die Größe und Richtung eines Zusammenhangs zu geben, haben wir eine Auswahl an Streudiagrammen mit unterschiedlichen Zusammenhängen zusammengestellt. Versuchen Sie, die unten aufgeführten Zusammenhänge einzuschätzen. Ihre Schätzungen können Sie in Abbildung 7 im Skript kontrollieren. Ist der folgende Zusammenhang groß oder klein, positiv oder negativ?"
   ]
  },
  {
   "cell_type": "markdown",
   "id": "bda5963c",
   "metadata": {},
   "source": [
    "![](../pics/corr_10.svg \"Example 1.0\")"
   ]
  },
  {
   "cell_type": "markdown",
   "id": "15aa2b41",
   "metadata": {},
   "source": [
    "Wie sieht es bei dem nächsten Zusammenhang aus?"
   ]
  },
  {
   "cell_type": "markdown",
   "id": "9e44ab79",
   "metadata": {},
   "source": [
    "![](../pics/corr_-10.svg \"Example -1.0\")"
   ]
  },
  {
   "cell_type": "markdown",
   "id": "266058d6",
   "metadata": {},
   "source": [
    "Überlegen Sie, wie ein Streudiagramm aussehen würde, wenn es keinen Zusammenhang zwischen den Merkmalen gäbe. Beschreiben Sie dann den folgenden Zusammenhang:"
   ]
  },
  {
   "cell_type": "markdown",
   "id": "3d97edc5",
   "metadata": {},
   "source": [
    "![](../pics/corr_00.svg \"Example 0.0\")"
   ]
  },
  {
   "cell_type": "markdown",
   "id": "70215686",
   "metadata": {},
   "source": [
    "Schätzen Sie zum Schluss noch diesen Zusammenhang ein:"
   ]
  },
  {
   "cell_type": "markdown",
   "id": "e4a4be8d",
   "metadata": {},
   "source": [
    "![](../pics/corr_08.svg \"Example 0.8\")"
   ]
  },
  {
   "cell_type": "markdown",
   "id": "448bf037",
   "metadata": {},
   "source": [
    "Möchten Sie Ihre Intuition über die Größe von Zusammenhängen (mit dem Korrelationskoeffizienten nach Pearson) noch weiter ausbauen, empfehlen wir Ihnen das Online-Spiel [Guess the Correlation](http://guessthecorrelation.com/). Mit dem besseren Verständnis über die Stärke und Richtung von Zusammenhängen können wir uns nun direkt die Korrelationskoeffizienten nach Pearson für unsere metrischen Merkmale anschauen. Dazu benutzen wir die ```corr()```-Funktion (zur Bestimmung der Korrelationen) in Verbindung mit ```\"imshow\"``` (kurz für _image show_) und passenden Farben (```\"RdBu_r\"```) zur Erstellung einer [Heatmap](https://plotly.github.io/plotly.py-docs/generated/plotly.express.imshow.html):"
   ]
  },
  {
   "cell_type": "code",
   "execution_count": null,
   "id": "1fb8953a",
   "metadata": {},
   "outputs": [],
   "source": [
    "exploration_data.corr().plot(kind=\"imshow\", color_continuous_scale=\"RdBu_r\")"
   ]
  },
  {
   "cell_type": "markdown",
   "id": "ad04c052",
   "metadata": {},
   "source": [
    "Deckt sich die berechnete Korrelation mit Ihren Erkenntnissen aus den Streudiagrammen? Fallen Ihnen noch weitere interessante Zusammenhänge auf? Manchmal ergeben sich interessante Zusammenhänge erst, wenn man verschiedene Merkmale miteinander kombiniert. So können wir zum Beispiel die Spannung aus der Drehzahl, dem Drehmoment und der Stromstärke [berechnen](https://en.wikipedia.org/wiki/Electric_motor). Lassen Sie uns hierzu eine neue Spalte in unserer Tabelle anlegen:"
   ]
  },
  {
   "cell_type": "code",
   "execution_count": null,
   "id": "c4b054ba",
   "metadata": {},
   "outputs": [],
   "source": [
    "exploration_data[\"Spannung / V\"] = (2 * 3.14 / 60 * exploration_data[\"Drehzahl / 1/min\"] *\n",
    "exploration_data[\"Drehmoment / Nm\"] / exploration_data[\"Strom / A\"])"
   ]
  },
  {
   "cell_type": "markdown",
   "id": "b19bc6bb",
   "metadata": {},
   "source": [
    "Nun können wir die Korrelationskoeffizienten nach Pearson für unser neues Merkmal noch einmal darstellen:"
   ]
  },
  {
   "cell_type": "code",
   "execution_count": null,
   "id": "cf1e057f",
   "metadata": {},
   "outputs": [],
   "source": [
    "exploration_data.corr().plot(kind=\"imshow\", color_continuous_scale=\"RdBu_r\")"
   ]
  },
  {
   "cell_type": "markdown",
   "id": "4fa9723c",
   "metadata": {},
   "source": [
    "Ergeben sich durch unser neues Merkmal neue interessante Zusammenhänge? Versuchen Sie nun selbst, eine Hypothese darüber aufzustellen, welche Merkmalskombination interessante Zusammenhänge zeigen könnte. Ohne Wissen über mechatronische Systeme erwarten wir natürlich nicht, dass Ihre Hypothese plausibel ist. Für unsere Zwecke würde daher auch die Hypothese genügen, dass sich durch die Multiplikation oder Division zweier beliebiger Merkmale möglicherweise ein neues interessantes Merkmal ergeben könnte. Legen Sie in der Tabelle dann eine neue Spalte für Ihr Merkmal an und lassen Sie sich die Korrelationskoeffizienten nach Pearson in einer Heatmap ausgeben. Nicht-benötige Spalten können Sie bei Bedarf mit ```del exploration_data[\"...\"]``` löschen, indem sie ```...``` durch den Spaltennamen ersetzen."
   ]
  },
  {
   "cell_type": "code",
   "execution_count": null,
   "id": "ad2dd3d2",
   "metadata": {},
   "outputs": [],
   "source": []
  },
  {
   "cell_type": "markdown",
   "id": "0ca3c8d4",
   "metadata": {},
   "source": [
    "<h5>Der Blick zurück und der Blick nach vorn</h5>"
   ]
  },
  {
   "cell_type": "markdown",
   "id": "e4d649d3",
   "metadata": {},
   "source": [
    "Mit der Generierung und Testung einer eignen Hypothese endet unsere erste praktische Übung zur explorativen Datenanalyse. Sie haben mit dieser Übung einiges erreicht. Sie können nun sowohl Säulen- oder Balkendiagramme, Histogramme, Streudiagramme als auch Heatmaps in Plotly visualisieren, um einen Datensatz zu erkunden - alles in jeweils nur einer einzigen Zeile Code. Sie haben zudem die wichtigsten Funktionsargumente kennengelernt und haben einige davon auch selbst angepasst. Dass Sie auch eigene Hypothesen aufstellen und testen können, eröffnet Ihnen die Möglichkeit, Ihre eigenen Annahmen auch ohne eine gezielte Datenanalyse auf die Probe zu stellen. Mit unserer zweiten praktischen Übung steht die Wiederholung und Festigung des Erlernten im Vordergrund, bevor wir uns mit unserer dritten praktischen Übung fortgeschritteneren Konzepten der explorativen Datenanalyse widmen."
   ]
  }
 ],
 "metadata": {
  "kernelspec": {
   "display_name": "Python 3.8.10 ('env': venv)",
   "language": "python",
   "name": "python3"
  },
  "language_info": {
   "codemirror_mode": {
    "name": "ipython",
    "version": 3
   },
   "file_extension": ".py",
   "mimetype": "text/x-python",
   "name": "python",
   "nbconvert_exporter": "python",
   "pygments_lexer": "ipython3",
   "version": "3.10.6"
  },
  "vscode": {
   "interpreter": {
    "hash": "b07170ffe031b9291924a8d255d526a1b93401860d2b821f7b92d48f2ffde530"
   }
  }
 },
 "nbformat": 4,
 "nbformat_minor": 5
}
