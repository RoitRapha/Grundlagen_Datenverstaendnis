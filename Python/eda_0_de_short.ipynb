{
  "cells": [
    {
      "cell_type": "markdown",
      "metadata": {
        "id": "view-in-github",
        "colab_type": "text"
      },
      "source": [
        "<a href=\"https://colab.research.google.com/github/RoitRapha/Grundlagen_Datenverstaendnis/blob/main/Python/eda_0_de_short.ipynb\" target=\"_parent\"><img src=\"https://colab.research.google.com/assets/colab-badge.svg\" alt=\"Open In Colab\"/></a>"
      ]
    },
    {
      "cell_type": "markdown",
      "id": "3fd05890",
      "metadata": {
        "id": "3fd05890"
      },
      "source": [
        "<h4>Explorative Datenanalyse: Verteilungen und Zusammenhänge</h4>"
      ]
    },
    {
      "cell_type": "markdown",
      "id": "2dc431ed",
      "metadata": {
        "id": "2dc431ed"
      },
      "source": [
        "Willkommen bei der ersten praktischen Übung zum Thema explorative Datenanalyse! Wir haben uns während der Vorlesung bereits mit einigen Verfahren beschäftigt, mit denen man einen Datensatz erkunden kann. Im Folgenden wollen wir diese Verfahren auch praktisch anwenden. Zum Glück ist die explorative Analyse von Daten so weit verbreitet, dass es bereits eine Vielzahl an Bibliotheken für genau diesen Zweck gibt. Wir werden für unsere Analyse eine der bekanntesten Bibliotheken verwenden, um interaktive Diagramme zu erstellen: Plotly. Plotly verfügt über Schnittstellen zu einer ganzen Reihe an Programmiersprachen, darunter auch [Python](https://plotly.com/python/). Mit der ersten praktischen Übung verfolgen wir folgende Lernziele:\n",
        "\n",
        "- Sie sollen lernen, wie Sie Daten mithilfe von Säulen- oder Balkendiagrammen, Histogrammen, Streudiagrammen und Heatmaps in Plotly visualisieren können.\n",
        "- Sie sollen den Wert von Funktionsargumenten zur Visualisierung sach- und zweckorientiert anpassen können.\n",
        "- Sie sollen lernen, wie man eigene Hypothesen über einen Datensatz aufstellen und diese im Rahmen einer explorativen Analyse testen kann.\n",
        "\n",
        "Voraussichtlich werden Sie für diese Übung maximal 2h benötigen."
      ]
    },
    {
      "cell_type": "markdown",
      "id": "74448a5a",
      "metadata": {
        "id": "74448a5a"
      },
      "source": [
        "<h5>Der Datensatz</h5>"
      ]
    },
    {
      "cell_type": "markdown",
      "id": "c1c5752e",
      "metadata": {
        "id": "c1c5752e"
      },
      "source": [
        "Für die explorative Analyse von Daten braucht man als Ausgangspunkt erst einmal eins: Daten. Für unsere praktischen Übungen werden wir einen Datensatz verwenden, der uns freundlicherweise von [Prof. Dr. Stephan Matzka](https://www.htw-berlin.de/hochschule/personen/person/?eid=11248) zur Verfügung gestellt wurde. Der Datensatz befasst sich mit einer Fertigungszelle, in der drei Maschinen Produkte herstellen. Werfen Sie einen kurzen Blick auf die [Dokumentation](../data_sets/mechatronic_systems/docs.pdf), um einen Überblick über die verschienden Merkmale in diesem Datensatz zu erhalten. Unser Datensatz ```data.csv``` liegt im sogenannten csv-Format vor (englisch für _comma-separated values_). Das ist ein gängiges Format zum Speichern strukturierter Daten, bei dem einzelne Werte durch Kommas oder andere Trennzeichen separiert sind. Wenn wir uns die Datei [data.csv](../data_sets/mechatronic_systems/data.csv) anschauen, erkennen wir, dass die Trennzeichen in unserem Fall Semikolons sind und dass Floats ein Komma anstelle eines Punktes als Dezimaltrennzeichen aufweisen. Um den Datensatz einzulesen, nutzen wir die [pandas](https://pandas.pydata.org/)-Bibliothek - die erste Wahl bei der Arbeit mit tabellarischen Daten in Python. Eine kleine Anmerkung: Unter diesem Textabschnitt finden Sie einen Codeblock. Codeblöcke wie diesen können Sie ausführen, indem Sie auf den Block klicken und danach gleichzeitig SHIFT und ENTER auf der Tastatur drücken. Die entsprechende Ausgabe erscheint gegebenenfalls unter dem Block. Codeblöcke, die Sie zwischen den Texten in dieser Übung sehen, sollten Sie in der vorgegebenen Reihenfolge ausführen. Bei leeren Codeblöcken müssen Sie zuvor noch Ihren eigenen Code ergänzen."
      ]
    },
    {
      "cell_type": "code",
      "source": [
        "from google.colab import files\n",
        "uploaded = files.upload()"
      ],
      "metadata": {
        "id": "_NbGLmKzQseM",
        "outputId": "01681a2d-5bd9-45aa-b2de-f89820d73ce7",
        "colab": {
          "base_uri": "https://localhost:8080/",
          "height": 73
        }
      },
      "id": "_NbGLmKzQseM",
      "execution_count": 11,
      "outputs": [
        {
          "output_type": "display_data",
          "data": {
            "text/plain": [
              "<IPython.core.display.HTML object>"
            ],
            "text/html": [
              "\n",
              "     <input type=\"file\" id=\"files-f63a7935-0fed-4cda-925f-7bf990f1fb97\" name=\"files[]\" multiple disabled\n",
              "        style=\"border:none\" />\n",
              "     <output id=\"result-f63a7935-0fed-4cda-925f-7bf990f1fb97\">\n",
              "      Upload widget is only available when the cell has been executed in the\n",
              "      current browser session. Please rerun this cell to enable.\n",
              "      </output>\n",
              "      <script>// Copyright 2017 Google LLC\n",
              "//\n",
              "// Licensed under the Apache License, Version 2.0 (the \"License\");\n",
              "// you may not use this file except in compliance with the License.\n",
              "// You may obtain a copy of the License at\n",
              "//\n",
              "//      http://www.apache.org/licenses/LICENSE-2.0\n",
              "//\n",
              "// Unless required by applicable law or agreed to in writing, software\n",
              "// distributed under the License is distributed on an \"AS IS\" BASIS,\n",
              "// WITHOUT WARRANTIES OR CONDITIONS OF ANY KIND, either express or implied.\n",
              "// See the License for the specific language governing permissions and\n",
              "// limitations under the License.\n",
              "\n",
              "/**\n",
              " * @fileoverview Helpers for google.colab Python module.\n",
              " */\n",
              "(function(scope) {\n",
              "function span(text, styleAttributes = {}) {\n",
              "  const element = document.createElement('span');\n",
              "  element.textContent = text;\n",
              "  for (const key of Object.keys(styleAttributes)) {\n",
              "    element.style[key] = styleAttributes[key];\n",
              "  }\n",
              "  return element;\n",
              "}\n",
              "\n",
              "// Max number of bytes which will be uploaded at a time.\n",
              "const MAX_PAYLOAD_SIZE = 100 * 1024;\n",
              "\n",
              "function _uploadFiles(inputId, outputId) {\n",
              "  const steps = uploadFilesStep(inputId, outputId);\n",
              "  const outputElement = document.getElementById(outputId);\n",
              "  // Cache steps on the outputElement to make it available for the next call\n",
              "  // to uploadFilesContinue from Python.\n",
              "  outputElement.steps = steps;\n",
              "\n",
              "  return _uploadFilesContinue(outputId);\n",
              "}\n",
              "\n",
              "// This is roughly an async generator (not supported in the browser yet),\n",
              "// where there are multiple asynchronous steps and the Python side is going\n",
              "// to poll for completion of each step.\n",
              "// This uses a Promise to block the python side on completion of each step,\n",
              "// then passes the result of the previous step as the input to the next step.\n",
              "function _uploadFilesContinue(outputId) {\n",
              "  const outputElement = document.getElementById(outputId);\n",
              "  const steps = outputElement.steps;\n",
              "\n",
              "  const next = steps.next(outputElement.lastPromiseValue);\n",
              "  return Promise.resolve(next.value.promise).then((value) => {\n",
              "    // Cache the last promise value to make it available to the next\n",
              "    // step of the generator.\n",
              "    outputElement.lastPromiseValue = value;\n",
              "    return next.value.response;\n",
              "  });\n",
              "}\n",
              "\n",
              "/**\n",
              " * Generator function which is called between each async step of the upload\n",
              " * process.\n",
              " * @param {string} inputId Element ID of the input file picker element.\n",
              " * @param {string} outputId Element ID of the output display.\n",
              " * @return {!Iterable<!Object>} Iterable of next steps.\n",
              " */\n",
              "function* uploadFilesStep(inputId, outputId) {\n",
              "  const inputElement = document.getElementById(inputId);\n",
              "  inputElement.disabled = false;\n",
              "\n",
              "  const outputElement = document.getElementById(outputId);\n",
              "  outputElement.innerHTML = '';\n",
              "\n",
              "  const pickedPromise = new Promise((resolve) => {\n",
              "    inputElement.addEventListener('change', (e) => {\n",
              "      resolve(e.target.files);\n",
              "    });\n",
              "  });\n",
              "\n",
              "  const cancel = document.createElement('button');\n",
              "  inputElement.parentElement.appendChild(cancel);\n",
              "  cancel.textContent = 'Cancel upload';\n",
              "  const cancelPromise = new Promise((resolve) => {\n",
              "    cancel.onclick = () => {\n",
              "      resolve(null);\n",
              "    };\n",
              "  });\n",
              "\n",
              "  // Wait for the user to pick the files.\n",
              "  const files = yield {\n",
              "    promise: Promise.race([pickedPromise, cancelPromise]),\n",
              "    response: {\n",
              "      action: 'starting',\n",
              "    }\n",
              "  };\n",
              "\n",
              "  cancel.remove();\n",
              "\n",
              "  // Disable the input element since further picks are not allowed.\n",
              "  inputElement.disabled = true;\n",
              "\n",
              "  if (!files) {\n",
              "    return {\n",
              "      response: {\n",
              "        action: 'complete',\n",
              "      }\n",
              "    };\n",
              "  }\n",
              "\n",
              "  for (const file of files) {\n",
              "    const li = document.createElement('li');\n",
              "    li.append(span(file.name, {fontWeight: 'bold'}));\n",
              "    li.append(span(\n",
              "        `(${file.type || 'n/a'}) - ${file.size} bytes, ` +\n",
              "        `last modified: ${\n",
              "            file.lastModifiedDate ? file.lastModifiedDate.toLocaleDateString() :\n",
              "                                    'n/a'} - `));\n",
              "    const percent = span('0% done');\n",
              "    li.appendChild(percent);\n",
              "\n",
              "    outputElement.appendChild(li);\n",
              "\n",
              "    const fileDataPromise = new Promise((resolve) => {\n",
              "      const reader = new FileReader();\n",
              "      reader.onload = (e) => {\n",
              "        resolve(e.target.result);\n",
              "      };\n",
              "      reader.readAsArrayBuffer(file);\n",
              "    });\n",
              "    // Wait for the data to be ready.\n",
              "    let fileData = yield {\n",
              "      promise: fileDataPromise,\n",
              "      response: {\n",
              "        action: 'continue',\n",
              "      }\n",
              "    };\n",
              "\n",
              "    // Use a chunked sending to avoid message size limits. See b/62115660.\n",
              "    let position = 0;\n",
              "    do {\n",
              "      const length = Math.min(fileData.byteLength - position, MAX_PAYLOAD_SIZE);\n",
              "      const chunk = new Uint8Array(fileData, position, length);\n",
              "      position += length;\n",
              "\n",
              "      const base64 = btoa(String.fromCharCode.apply(null, chunk));\n",
              "      yield {\n",
              "        response: {\n",
              "          action: 'append',\n",
              "          file: file.name,\n",
              "          data: base64,\n",
              "        },\n",
              "      };\n",
              "\n",
              "      let percentDone = fileData.byteLength === 0 ?\n",
              "          100 :\n",
              "          Math.round((position / fileData.byteLength) * 100);\n",
              "      percent.textContent = `${percentDone}% done`;\n",
              "\n",
              "    } while (position < fileData.byteLength);\n",
              "  }\n",
              "\n",
              "  // All done.\n",
              "  yield {\n",
              "    response: {\n",
              "      action: 'complete',\n",
              "    }\n",
              "  };\n",
              "}\n",
              "\n",
              "scope.google = scope.google || {};\n",
              "scope.google.colab = scope.google.colab || {};\n",
              "scope.google.colab._files = {\n",
              "  _uploadFiles,\n",
              "  _uploadFilesContinue,\n",
              "};\n",
              "})(self);\n",
              "</script> "
            ]
          },
          "metadata": {}
        },
        {
          "output_type": "stream",
          "name": "stdout",
          "text": [
            "Saving data.csv to data.csv\n"
          ]
        }
      ]
    },
    {
      "cell_type": "code",
      "execution_count": 12,
      "id": "f326048e",
      "metadata": {
        "id": "f326048e"
      },
      "outputs": [],
      "source": [
        "import pandas as pd\n",
        "\n",
        "data = pd.read_csv(\"data.csv\", delimiter=\";\", decimal=\",\")"
      ]
    },
    {
      "cell_type": "markdown",
      "id": "eaa72f47",
      "metadata": {
        "id": "eaa72f47"
      },
      "source": [
        "Sie sehen, dass wir zuerst die pandas-Bibliothek importieren. Um bei Funktionsaufrufen aus dieser Bibliothek nicht jedes Mal ```pandas``` ausschreiben zu müssen, lassen wir Python wissen, dass wir das Kürzel ```pd``` anstelle von ```pandas``` benutzen möchten. Unseren csv-Datensatz können wir einlesen, indem wir einfach den Befehl ```pd.read_csv()``` ausführen. Dabei müssen wir der Funktion natürlich mitteilen, wo sich unsere Daten befinden und dass wir ```;``` als Trennzeichen sowie ```,``` als Dezimaltrennzeichen verwenden möchten. Der Datensatz wird abschließend in der Variable ```data``` in Form einer Tabelle gespeichert. Schauen wir uns die ersten paar Zeilen dieser Tabelle an. Dazu benutzen wir pandas' ```head()```-Funktion:"
      ]
    },
    {
      "cell_type": "code",
      "execution_count": 13,
      "id": "01eb3677",
      "metadata": {
        "id": "01eb3677",
        "outputId": "a8c62707-e120-4ab7-f4ac-86d8db24c234",
        "colab": {
          "base_uri": "https://localhost:8080/",
          "height": 206
        }
      },
      "outputs": [
        {
          "output_type": "execute_result",
          "data": {
            "text/plain": [
              "  Maschine  Mode Produkt  Strom / A  Drehmoment / Nm  Drehzahl / 1/min  \\\n",
              "0        A   2.0       Y     22.782            51.79              1461   \n",
              "1        A   1.0       Y     19.793            45.03              1460   \n",
              "2        C   3.0       X     25.581            52.00              1463   \n",
              "3        C   3.0       Y     28.145            57.30              1461   \n",
              "4        C   2.0       Y     25.544            51.84              1466   \n",
              "\n",
              "   Temp Umgebung / degC  Temp Umrichter / degC  Temp Werkzeug / degC  \\\n",
              "0                  18.7                   23.1                  98.7   \n",
              "1                  21.0                   21.5                  87.5   \n",
              "2                  19.9                   21.8                  98.1   \n",
              "3                  20.7                   25.4                 109.7   \n",
              "4                  19.0                   24.1                 100.8   \n",
              "\n",
              "   Bearbeitungszeit / s  \n",
              "0                  23.8  \n",
              "1                  25.3  \n",
              "2                  19.9  \n",
              "3                  22.3  \n",
              "4                  23.8  "
            ],
            "text/html": [
              "\n",
              "  <div id=\"df-f5a3b644-8404-473f-b1e0-c9463746cdf9\">\n",
              "    <div class=\"colab-df-container\">\n",
              "      <div>\n",
              "<style scoped>\n",
              "    .dataframe tbody tr th:only-of-type {\n",
              "        vertical-align: middle;\n",
              "    }\n",
              "\n",
              "    .dataframe tbody tr th {\n",
              "        vertical-align: top;\n",
              "    }\n",
              "\n",
              "    .dataframe thead th {\n",
              "        text-align: right;\n",
              "    }\n",
              "</style>\n",
              "<table border=\"1\" class=\"dataframe\">\n",
              "  <thead>\n",
              "    <tr style=\"text-align: right;\">\n",
              "      <th></th>\n",
              "      <th>Maschine</th>\n",
              "      <th>Mode</th>\n",
              "      <th>Produkt</th>\n",
              "      <th>Strom / A</th>\n",
              "      <th>Drehmoment / Nm</th>\n",
              "      <th>Drehzahl / 1/min</th>\n",
              "      <th>Temp Umgebung / degC</th>\n",
              "      <th>Temp Umrichter / degC</th>\n",
              "      <th>Temp Werkzeug / degC</th>\n",
              "      <th>Bearbeitungszeit / s</th>\n",
              "    </tr>\n",
              "  </thead>\n",
              "  <tbody>\n",
              "    <tr>\n",
              "      <th>0</th>\n",
              "      <td>A</td>\n",
              "      <td>2.0</td>\n",
              "      <td>Y</td>\n",
              "      <td>22.782</td>\n",
              "      <td>51.79</td>\n",
              "      <td>1461</td>\n",
              "      <td>18.7</td>\n",
              "      <td>23.1</td>\n",
              "      <td>98.7</td>\n",
              "      <td>23.8</td>\n",
              "    </tr>\n",
              "    <tr>\n",
              "      <th>1</th>\n",
              "      <td>A</td>\n",
              "      <td>1.0</td>\n",
              "      <td>Y</td>\n",
              "      <td>19.793</td>\n",
              "      <td>45.03</td>\n",
              "      <td>1460</td>\n",
              "      <td>21.0</td>\n",
              "      <td>21.5</td>\n",
              "      <td>87.5</td>\n",
              "      <td>25.3</td>\n",
              "    </tr>\n",
              "    <tr>\n",
              "      <th>2</th>\n",
              "      <td>C</td>\n",
              "      <td>3.0</td>\n",
              "      <td>X</td>\n",
              "      <td>25.581</td>\n",
              "      <td>52.00</td>\n",
              "      <td>1463</td>\n",
              "      <td>19.9</td>\n",
              "      <td>21.8</td>\n",
              "      <td>98.1</td>\n",
              "      <td>19.9</td>\n",
              "    </tr>\n",
              "    <tr>\n",
              "      <th>3</th>\n",
              "      <td>C</td>\n",
              "      <td>3.0</td>\n",
              "      <td>Y</td>\n",
              "      <td>28.145</td>\n",
              "      <td>57.30</td>\n",
              "      <td>1461</td>\n",
              "      <td>20.7</td>\n",
              "      <td>25.4</td>\n",
              "      <td>109.7</td>\n",
              "      <td>22.3</td>\n",
              "    </tr>\n",
              "    <tr>\n",
              "      <th>4</th>\n",
              "      <td>C</td>\n",
              "      <td>2.0</td>\n",
              "      <td>Y</td>\n",
              "      <td>25.544</td>\n",
              "      <td>51.84</td>\n",
              "      <td>1466</td>\n",
              "      <td>19.0</td>\n",
              "      <td>24.1</td>\n",
              "      <td>100.8</td>\n",
              "      <td>23.8</td>\n",
              "    </tr>\n",
              "  </tbody>\n",
              "</table>\n",
              "</div>\n",
              "      <button class=\"colab-df-convert\" onclick=\"convertToInteractive('df-f5a3b644-8404-473f-b1e0-c9463746cdf9')\"\n",
              "              title=\"Convert this dataframe to an interactive table.\"\n",
              "              style=\"display:none;\">\n",
              "        \n",
              "  <svg xmlns=\"http://www.w3.org/2000/svg\" height=\"24px\"viewBox=\"0 0 24 24\"\n",
              "       width=\"24px\">\n",
              "    <path d=\"M0 0h24v24H0V0z\" fill=\"none\"/>\n",
              "    <path d=\"M18.56 5.44l.94 2.06.94-2.06 2.06-.94-2.06-.94-.94-2.06-.94 2.06-2.06.94zm-11 1L8.5 8.5l.94-2.06 2.06-.94-2.06-.94L8.5 2.5l-.94 2.06-2.06.94zm10 10l.94 2.06.94-2.06 2.06-.94-2.06-.94-.94-2.06-.94 2.06-2.06.94z\"/><path d=\"M17.41 7.96l-1.37-1.37c-.4-.4-.92-.59-1.43-.59-.52 0-1.04.2-1.43.59L10.3 9.45l-7.72 7.72c-.78.78-.78 2.05 0 2.83L4 21.41c.39.39.9.59 1.41.59.51 0 1.02-.2 1.41-.59l7.78-7.78 2.81-2.81c.8-.78.8-2.07 0-2.86zM5.41 20L4 18.59l7.72-7.72 1.47 1.35L5.41 20z\"/>\n",
              "  </svg>\n",
              "      </button>\n",
              "      \n",
              "  <style>\n",
              "    .colab-df-container {\n",
              "      display:flex;\n",
              "      flex-wrap:wrap;\n",
              "      gap: 12px;\n",
              "    }\n",
              "\n",
              "    .colab-df-convert {\n",
              "      background-color: #E8F0FE;\n",
              "      border: none;\n",
              "      border-radius: 50%;\n",
              "      cursor: pointer;\n",
              "      display: none;\n",
              "      fill: #1967D2;\n",
              "      height: 32px;\n",
              "      padding: 0 0 0 0;\n",
              "      width: 32px;\n",
              "    }\n",
              "\n",
              "    .colab-df-convert:hover {\n",
              "      background-color: #E2EBFA;\n",
              "      box-shadow: 0px 1px 2px rgba(60, 64, 67, 0.3), 0px 1px 3px 1px rgba(60, 64, 67, 0.15);\n",
              "      fill: #174EA6;\n",
              "    }\n",
              "\n",
              "    [theme=dark] .colab-df-convert {\n",
              "      background-color: #3B4455;\n",
              "      fill: #D2E3FC;\n",
              "    }\n",
              "\n",
              "    [theme=dark] .colab-df-convert:hover {\n",
              "      background-color: #434B5C;\n",
              "      box-shadow: 0px 1px 3px 1px rgba(0, 0, 0, 0.15);\n",
              "      filter: drop-shadow(0px 1px 2px rgba(0, 0, 0, 0.3));\n",
              "      fill: #FFFFFF;\n",
              "    }\n",
              "  </style>\n",
              "\n",
              "      <script>\n",
              "        const buttonEl =\n",
              "          document.querySelector('#df-f5a3b644-8404-473f-b1e0-c9463746cdf9 button.colab-df-convert');\n",
              "        buttonEl.style.display =\n",
              "          google.colab.kernel.accessAllowed ? 'block' : 'none';\n",
              "\n",
              "        async function convertToInteractive(key) {\n",
              "          const element = document.querySelector('#df-f5a3b644-8404-473f-b1e0-c9463746cdf9');\n",
              "          const dataTable =\n",
              "            await google.colab.kernel.invokeFunction('convertToInteractive',\n",
              "                                                     [key], {});\n",
              "          if (!dataTable) return;\n",
              "\n",
              "          const docLinkHtml = 'Like what you see? Visit the ' +\n",
              "            '<a target=\"_blank\" href=https://colab.research.google.com/notebooks/data_table.ipynb>data table notebook</a>'\n",
              "            + ' to learn more about interactive tables.';\n",
              "          element.innerHTML = '';\n",
              "          dataTable['output_type'] = 'display_data';\n",
              "          await google.colab.output.renderOutput(dataTable, element);\n",
              "          const docLink = document.createElement('div');\n",
              "          docLink.innerHTML = docLinkHtml;\n",
              "          element.appendChild(docLink);\n",
              "        }\n",
              "      </script>\n",
              "    </div>\n",
              "  </div>\n",
              "  "
            ]
          },
          "metadata": {},
          "execution_count": 13
        }
      ],
      "source": [
        "data.head()"
      ]
    },
    {
      "cell_type": "markdown",
      "id": "717167cb",
      "metadata": {
        "id": "717167cb"
      },
      "source": [
        "Die ersten drei Merkmale scheinen in Kategorien eingeteilt zu sein, bei den anderen Merkmalen handelt es sich anscheinend um Floats oder Integers. Wenn wir uns noch einmal die [Dokumentation](../data_sets/mechatronic_systems/docs.pdf) vor Augen halten, so sind ```Maschine``` und ```Produkt``` offensichtlich nominale Merkmale; ```Mode``` ist hingegen ein ordinales Merkmal, da Energiesparbetrieb (```1.0```), Normalbetrieb (```2.0```) und Hochleistungsbetrieb (```3.0```) eine Rangordnung aufweisen. pandas verfügt natürlich nicht über diese Information aus der Dokumentation, daher müssen wir den ersten drei Merkmalen noch den passenden Datentyp zuweisen. Hierzu nutzen wir pandas' ```Categorical()```-Funktion:"
      ]
    },
    {
      "cell_type": "code",
      "execution_count": 14,
      "id": "70e04251",
      "metadata": {
        "id": "70e04251"
      },
      "outputs": [],
      "source": [
        "data[\"Maschine\"] = pd.Categorical(data[\"Maschine\"])\n",
        "data[\"Produkt\"] = pd.Categorical(data[\"Produkt\"])\n",
        "data[\"Mode\"] = pd.Categorical(data[\"Mode\"], ordered=True)"
      ]
    },
    {
      "cell_type": "markdown",
      "id": "a4144d79",
      "metadata": {
        "id": "a4144d79"
      },
      "source": [
        "Wie man in dem oberen Codeblock erkennen kann, kann man auf Spalten der Tabelle zugreifen, indem man den Namen der Spalte (als String) zwischen zwei eckige Klammern schreibt. Um pandas mitzuteilen, ob es sich bei einem Merkmal um ein nominales oder um ein ordinales Merkmal handelt, benutzt man in der ```Categorical()```-Funktion das Argument ```ordered```. Das Argument ist standardmäßig auf ```False``` gesetzt. Bei ordinalen Merkmalen muss man der Funktion daher explizit den Wert ```True``` mitgeben. Nachdem wir unseren Merkmalen in der Tabelle also nun die richtigen Datentypen zugewiesen haben, können wir uns endlich den Visualisierungen zuwenden."
      ]
    },
    {
      "cell_type": "markdown",
      "id": "0e7a0c67",
      "metadata": {
        "id": "0e7a0c67"
      },
      "source": [
        "<h5>Ein Merkmal, ein Diagramm, viele Kenngrößen</h5>"
      ]
    },
    {
      "cell_type": "markdown",
      "id": "26425961",
      "metadata": {
        "id": "26425961"
      },
      "source": [
        "Sie haben in der Vorlesung bereits erfahren, dass es bei der explorativen Analyse zuerst meist sinnvoll ist, sich anzuschauen, wie oft die verschiedenen Werte in jedem Merkmal vorkommen. Bei nominalen und ordinalen Merkmalen bieten sich Säulen- oder Balkendiagramme zur Visualisierung an, bei metrischen Merkmalen Histogramme. Um interaktive Diagramme zu erstellen, können wir pandas ganz einfach mit Plotly kombinieren. Dazu setzen wir das sogenannte Backend zur Darstellung von Diagrammen auf ```\"plotly\"```:"
      ]
    },
    {
      "cell_type": "code",
      "execution_count": 15,
      "id": "2630f91c",
      "metadata": {
        "id": "2630f91c"
      },
      "outputs": [],
      "source": [
        "pd.options.plotting.backend = \"plotly\""
      ]
    },
    {
      "cell_type": "markdown",
      "id": "90302cdd",
      "metadata": {
        "id": "90302cdd"
      },
      "source": [
        "Ein [Säulendiagramm](https://plotly.github.io/plotly.py-docs/generated/plotly.express.bar.html) können wir darstellen, indem wir die Anzahl der Werte pro Kategorie mit der ```value_counts()```-Funktion zählen und danach ```plot(kind=\"bar\")``` aufrufen. Für das nominale Merkmal ```Maschine``` sähe das wie folgt aus:"
      ]
    },
    {
      "cell_type": "code",
      "execution_count": 16,
      "id": "a29e5b03",
      "metadata": {
        "id": "a29e5b03",
        "outputId": "21dc153e-987a-4903-88bd-5cdcd1e59b81",
        "colab": {
          "base_uri": "https://localhost:8080/",
          "height": 542
        }
      },
      "outputs": [
        {
          "output_type": "display_data",
          "data": {
            "text/html": [
              "<html>\n",
              "<head><meta charset=\"utf-8\" /></head>\n",
              "<body>\n",
              "    <div>            <script src=\"https://cdnjs.cloudflare.com/ajax/libs/mathjax/2.7.5/MathJax.js?config=TeX-AMS-MML_SVG\"></script><script type=\"text/javascript\">if (window.MathJax) {MathJax.Hub.Config({SVG: {font: \"STIX-Web\"}});}</script>                <script type=\"text/javascript\">window.PlotlyConfig = {MathJaxConfig: 'local'};</script>\n",
              "        <script src=\"https://cdn.plot.ly/plotly-2.8.3.min.js\"></script>                <div id=\"9da9dd90-a07e-4e50-ba94-bffbb47e8319\" class=\"plotly-graph-div\" style=\"height:525px; width:100%;\"></div>            <script type=\"text/javascript\">                                    window.PLOTLYENV=window.PLOTLYENV || {};                                    if (document.getElementById(\"9da9dd90-a07e-4e50-ba94-bffbb47e8319\")) {                    Plotly.newPlot(                        \"9da9dd90-a07e-4e50-ba94-bffbb47e8319\",                        [{\"alignmentgroup\":\"True\",\"hovertemplate\":\"variable=Maschine<br>index=%{x}<br>value=%{y}<extra></extra>\",\"legendgroup\":\"Maschine\",\"marker\":{\"color\":\"#636efa\",\"pattern\":{\"shape\":\"\"}},\"name\":\"Maschine\",\"offsetgroup\":\"Maschine\",\"orientation\":\"v\",\"showlegend\":true,\"textposition\":\"auto\",\"x\":[\"C\",\"A\",\"B\"],\"xaxis\":\"x\",\"y\":[416,401,183],\"yaxis\":\"y\",\"type\":\"bar\"}],                        {\"template\":{\"data\":{\"bar\":[{\"error_x\":{\"color\":\"#2a3f5f\"},\"error_y\":{\"color\":\"#2a3f5f\"},\"marker\":{\"line\":{\"color\":\"#E5ECF6\",\"width\":0.5},\"pattern\":{\"fillmode\":\"overlay\",\"size\":10,\"solidity\":0.2}},\"type\":\"bar\"}],\"barpolar\":[{\"marker\":{\"line\":{\"color\":\"#E5ECF6\",\"width\":0.5},\"pattern\":{\"fillmode\":\"overlay\",\"size\":10,\"solidity\":0.2}},\"type\":\"barpolar\"}],\"carpet\":[{\"aaxis\":{\"endlinecolor\":\"#2a3f5f\",\"gridcolor\":\"white\",\"linecolor\":\"white\",\"minorgridcolor\":\"white\",\"startlinecolor\":\"#2a3f5f\"},\"baxis\":{\"endlinecolor\":\"#2a3f5f\",\"gridcolor\":\"white\",\"linecolor\":\"white\",\"minorgridcolor\":\"white\",\"startlinecolor\":\"#2a3f5f\"},\"type\":\"carpet\"}],\"choropleth\":[{\"colorbar\":{\"outlinewidth\":0,\"ticks\":\"\"},\"type\":\"choropleth\"}],\"contour\":[{\"colorbar\":{\"outlinewidth\":0,\"ticks\":\"\"},\"colorscale\":[[0.0,\"#0d0887\"],[0.1111111111111111,\"#46039f\"],[0.2222222222222222,\"#7201a8\"],[0.3333333333333333,\"#9c179e\"],[0.4444444444444444,\"#bd3786\"],[0.5555555555555556,\"#d8576b\"],[0.6666666666666666,\"#ed7953\"],[0.7777777777777778,\"#fb9f3a\"],[0.8888888888888888,\"#fdca26\"],[1.0,\"#f0f921\"]],\"type\":\"contour\"}],\"contourcarpet\":[{\"colorbar\":{\"outlinewidth\":0,\"ticks\":\"\"},\"type\":\"contourcarpet\"}],\"heatmap\":[{\"colorbar\":{\"outlinewidth\":0,\"ticks\":\"\"},\"colorscale\":[[0.0,\"#0d0887\"],[0.1111111111111111,\"#46039f\"],[0.2222222222222222,\"#7201a8\"],[0.3333333333333333,\"#9c179e\"],[0.4444444444444444,\"#bd3786\"],[0.5555555555555556,\"#d8576b\"],[0.6666666666666666,\"#ed7953\"],[0.7777777777777778,\"#fb9f3a\"],[0.8888888888888888,\"#fdca26\"],[1.0,\"#f0f921\"]],\"type\":\"heatmap\"}],\"heatmapgl\":[{\"colorbar\":{\"outlinewidth\":0,\"ticks\":\"\"},\"colorscale\":[[0.0,\"#0d0887\"],[0.1111111111111111,\"#46039f\"],[0.2222222222222222,\"#7201a8\"],[0.3333333333333333,\"#9c179e\"],[0.4444444444444444,\"#bd3786\"],[0.5555555555555556,\"#d8576b\"],[0.6666666666666666,\"#ed7953\"],[0.7777777777777778,\"#fb9f3a\"],[0.8888888888888888,\"#fdca26\"],[1.0,\"#f0f921\"]],\"type\":\"heatmapgl\"}],\"histogram\":[{\"marker\":{\"pattern\":{\"fillmode\":\"overlay\",\"size\":10,\"solidity\":0.2}},\"type\":\"histogram\"}],\"histogram2d\":[{\"colorbar\":{\"outlinewidth\":0,\"ticks\":\"\"},\"colorscale\":[[0.0,\"#0d0887\"],[0.1111111111111111,\"#46039f\"],[0.2222222222222222,\"#7201a8\"],[0.3333333333333333,\"#9c179e\"],[0.4444444444444444,\"#bd3786\"],[0.5555555555555556,\"#d8576b\"],[0.6666666666666666,\"#ed7953\"],[0.7777777777777778,\"#fb9f3a\"],[0.8888888888888888,\"#fdca26\"],[1.0,\"#f0f921\"]],\"type\":\"histogram2d\"}],\"histogram2dcontour\":[{\"colorbar\":{\"outlinewidth\":0,\"ticks\":\"\"},\"colorscale\":[[0.0,\"#0d0887\"],[0.1111111111111111,\"#46039f\"],[0.2222222222222222,\"#7201a8\"],[0.3333333333333333,\"#9c179e\"],[0.4444444444444444,\"#bd3786\"],[0.5555555555555556,\"#d8576b\"],[0.6666666666666666,\"#ed7953\"],[0.7777777777777778,\"#fb9f3a\"],[0.8888888888888888,\"#fdca26\"],[1.0,\"#f0f921\"]],\"type\":\"histogram2dcontour\"}],\"mesh3d\":[{\"colorbar\":{\"outlinewidth\":0,\"ticks\":\"\"},\"type\":\"mesh3d\"}],\"parcoords\":[{\"line\":{\"colorbar\":{\"outlinewidth\":0,\"ticks\":\"\"}},\"type\":\"parcoords\"}],\"pie\":[{\"automargin\":true,\"type\":\"pie\"}],\"scatter\":[{\"marker\":{\"colorbar\":{\"outlinewidth\":0,\"ticks\":\"\"}},\"type\":\"scatter\"}],\"scatter3d\":[{\"line\":{\"colorbar\":{\"outlinewidth\":0,\"ticks\":\"\"}},\"marker\":{\"colorbar\":{\"outlinewidth\":0,\"ticks\":\"\"}},\"type\":\"scatter3d\"}],\"scattercarpet\":[{\"marker\":{\"colorbar\":{\"outlinewidth\":0,\"ticks\":\"\"}},\"type\":\"scattercarpet\"}],\"scattergeo\":[{\"marker\":{\"colorbar\":{\"outlinewidth\":0,\"ticks\":\"\"}},\"type\":\"scattergeo\"}],\"scattergl\":[{\"marker\":{\"colorbar\":{\"outlinewidth\":0,\"ticks\":\"\"}},\"type\":\"scattergl\"}],\"scattermapbox\":[{\"marker\":{\"colorbar\":{\"outlinewidth\":0,\"ticks\":\"\"}},\"type\":\"scattermapbox\"}],\"scatterpolar\":[{\"marker\":{\"colorbar\":{\"outlinewidth\":0,\"ticks\":\"\"}},\"type\":\"scatterpolar\"}],\"scatterpolargl\":[{\"marker\":{\"colorbar\":{\"outlinewidth\":0,\"ticks\":\"\"}},\"type\":\"scatterpolargl\"}],\"scatterternary\":[{\"marker\":{\"colorbar\":{\"outlinewidth\":0,\"ticks\":\"\"}},\"type\":\"scatterternary\"}],\"surface\":[{\"colorbar\":{\"outlinewidth\":0,\"ticks\":\"\"},\"colorscale\":[[0.0,\"#0d0887\"],[0.1111111111111111,\"#46039f\"],[0.2222222222222222,\"#7201a8\"],[0.3333333333333333,\"#9c179e\"],[0.4444444444444444,\"#bd3786\"],[0.5555555555555556,\"#d8576b\"],[0.6666666666666666,\"#ed7953\"],[0.7777777777777778,\"#fb9f3a\"],[0.8888888888888888,\"#fdca26\"],[1.0,\"#f0f921\"]],\"type\":\"surface\"}],\"table\":[{\"cells\":{\"fill\":{\"color\":\"#EBF0F8\"},\"line\":{\"color\":\"white\"}},\"header\":{\"fill\":{\"color\":\"#C8D4E3\"},\"line\":{\"color\":\"white\"}},\"type\":\"table\"}]},\"layout\":{\"annotationdefaults\":{\"arrowcolor\":\"#2a3f5f\",\"arrowhead\":0,\"arrowwidth\":1},\"autotypenumbers\":\"strict\",\"coloraxis\":{\"colorbar\":{\"outlinewidth\":0,\"ticks\":\"\"}},\"colorscale\":{\"diverging\":[[0,\"#8e0152\"],[0.1,\"#c51b7d\"],[0.2,\"#de77ae\"],[0.3,\"#f1b6da\"],[0.4,\"#fde0ef\"],[0.5,\"#f7f7f7\"],[0.6,\"#e6f5d0\"],[0.7,\"#b8e186\"],[0.8,\"#7fbc41\"],[0.9,\"#4d9221\"],[1,\"#276419\"]],\"sequential\":[[0.0,\"#0d0887\"],[0.1111111111111111,\"#46039f\"],[0.2222222222222222,\"#7201a8\"],[0.3333333333333333,\"#9c179e\"],[0.4444444444444444,\"#bd3786\"],[0.5555555555555556,\"#d8576b\"],[0.6666666666666666,\"#ed7953\"],[0.7777777777777778,\"#fb9f3a\"],[0.8888888888888888,\"#fdca26\"],[1.0,\"#f0f921\"]],\"sequentialminus\":[[0.0,\"#0d0887\"],[0.1111111111111111,\"#46039f\"],[0.2222222222222222,\"#7201a8\"],[0.3333333333333333,\"#9c179e\"],[0.4444444444444444,\"#bd3786\"],[0.5555555555555556,\"#d8576b\"],[0.6666666666666666,\"#ed7953\"],[0.7777777777777778,\"#fb9f3a\"],[0.8888888888888888,\"#fdca26\"],[1.0,\"#f0f921\"]]},\"colorway\":[\"#636efa\",\"#EF553B\",\"#00cc96\",\"#ab63fa\",\"#FFA15A\",\"#19d3f3\",\"#FF6692\",\"#B6E880\",\"#FF97FF\",\"#FECB52\"],\"font\":{\"color\":\"#2a3f5f\"},\"geo\":{\"bgcolor\":\"white\",\"lakecolor\":\"white\",\"landcolor\":\"#E5ECF6\",\"showlakes\":true,\"showland\":true,\"subunitcolor\":\"white\"},\"hoverlabel\":{\"align\":\"left\"},\"hovermode\":\"closest\",\"mapbox\":{\"style\":\"light\"},\"paper_bgcolor\":\"white\",\"plot_bgcolor\":\"#E5ECF6\",\"polar\":{\"angularaxis\":{\"gridcolor\":\"white\",\"linecolor\":\"white\",\"ticks\":\"\"},\"bgcolor\":\"#E5ECF6\",\"radialaxis\":{\"gridcolor\":\"white\",\"linecolor\":\"white\",\"ticks\":\"\"}},\"scene\":{\"xaxis\":{\"backgroundcolor\":\"#E5ECF6\",\"gridcolor\":\"white\",\"gridwidth\":2,\"linecolor\":\"white\",\"showbackground\":true,\"ticks\":\"\",\"zerolinecolor\":\"white\"},\"yaxis\":{\"backgroundcolor\":\"#E5ECF6\",\"gridcolor\":\"white\",\"gridwidth\":2,\"linecolor\":\"white\",\"showbackground\":true,\"ticks\":\"\",\"zerolinecolor\":\"white\"},\"zaxis\":{\"backgroundcolor\":\"#E5ECF6\",\"gridcolor\":\"white\",\"gridwidth\":2,\"linecolor\":\"white\",\"showbackground\":true,\"ticks\":\"\",\"zerolinecolor\":\"white\"}},\"shapedefaults\":{\"line\":{\"color\":\"#2a3f5f\"}},\"ternary\":{\"aaxis\":{\"gridcolor\":\"white\",\"linecolor\":\"white\",\"ticks\":\"\"},\"baxis\":{\"gridcolor\":\"white\",\"linecolor\":\"white\",\"ticks\":\"\"},\"bgcolor\":\"#E5ECF6\",\"caxis\":{\"gridcolor\":\"white\",\"linecolor\":\"white\",\"ticks\":\"\"}},\"title\":{\"x\":0.05},\"xaxis\":{\"automargin\":true,\"gridcolor\":\"white\",\"linecolor\":\"white\",\"ticks\":\"\",\"title\":{\"standoff\":15},\"zerolinecolor\":\"white\",\"zerolinewidth\":2},\"yaxis\":{\"automargin\":true,\"gridcolor\":\"white\",\"linecolor\":\"white\",\"ticks\":\"\",\"title\":{\"standoff\":15},\"zerolinecolor\":\"white\",\"zerolinewidth\":2}}},\"xaxis\":{\"anchor\":\"y\",\"domain\":[0.0,1.0],\"title\":{\"text\":\"index\"}},\"yaxis\":{\"anchor\":\"x\",\"domain\":[0.0,1.0],\"title\":{\"text\":\"value\"}},\"legend\":{\"title\":{\"text\":\"variable\"},\"tracegroupgap\":0},\"margin\":{\"t\":60},\"barmode\":\"relative\"},                        {\"responsive\": true}                    ).then(function(){\n",
              "                            \n",
              "var gd = document.getElementById('9da9dd90-a07e-4e50-ba94-bffbb47e8319');\n",
              "var x = new MutationObserver(function (mutations, observer) {{\n",
              "        var display = window.getComputedStyle(gd).display;\n",
              "        if (!display || display === 'none') {{\n",
              "            console.log([gd, 'removed!']);\n",
              "            Plotly.purge(gd);\n",
              "            observer.disconnect();\n",
              "        }}\n",
              "}});\n",
              "\n",
              "// Listen for the removal of the full notebook cells\n",
              "var notebookContainer = gd.closest('#notebook-container');\n",
              "if (notebookContainer) {{\n",
              "    x.observe(notebookContainer, {childList: true});\n",
              "}}\n",
              "\n",
              "// Listen for the clearing of the current output cell\n",
              "var outputEl = gd.closest('.output');\n",
              "if (outputEl) {{\n",
              "    x.observe(outputEl, {childList: true});\n",
              "}}\n",
              "\n",
              "                        })                };                            </script>        </div>\n",
              "</body>\n",
              "</html>"
            ]
          },
          "metadata": {}
        }
      ],
      "source": [
        "data[\"Maschine\"].value_counts().plot(kind=\"bar\")"
      ]
    },
    {
      "cell_type": "markdown",
      "id": "3169bcd7",
      "metadata": {
        "id": "3169bcd7"
      },
      "source": [
        "Das entsprechende [Balkendiagramm](https://plotly.github.io/plotly.py-docs/generated/plotly.express.bar.html) sähe so aus:"
      ]
    },
    {
      "cell_type": "code",
      "execution_count": 17,
      "id": "c5d57da4",
      "metadata": {
        "id": "c5d57da4",
        "outputId": "67c9fd5a-7dc2-4d45-900f-38e623600064",
        "colab": {
          "base_uri": "https://localhost:8080/",
          "height": 542
        }
      },
      "outputs": [
        {
          "output_type": "display_data",
          "data": {
            "text/html": [
              "<html>\n",
              "<head><meta charset=\"utf-8\" /></head>\n",
              "<body>\n",
              "    <div>            <script src=\"https://cdnjs.cloudflare.com/ajax/libs/mathjax/2.7.5/MathJax.js?config=TeX-AMS-MML_SVG\"></script><script type=\"text/javascript\">if (window.MathJax) {MathJax.Hub.Config({SVG: {font: \"STIX-Web\"}});}</script>                <script type=\"text/javascript\">window.PlotlyConfig = {MathJaxConfig: 'local'};</script>\n",
              "        <script src=\"https://cdn.plot.ly/plotly-2.8.3.min.js\"></script>                <div id=\"bada4522-144e-4c14-a103-a3a7c470f49d\" class=\"plotly-graph-div\" style=\"height:525px; width:100%;\"></div>            <script type=\"text/javascript\">                                    window.PLOTLYENV=window.PLOTLYENV || {};                                    if (document.getElementById(\"bada4522-144e-4c14-a103-a3a7c470f49d\")) {                    Plotly.newPlot(                        \"bada4522-144e-4c14-a103-a3a7c470f49d\",                        [{\"alignmentgroup\":\"True\",\"hovertemplate\":\"variable=Maschine<br>value=%{x}<br>index=%{y}<extra></extra>\",\"legendgroup\":\"Maschine\",\"marker\":{\"color\":\"#636efa\",\"pattern\":{\"shape\":\"\"}},\"name\":\"Maschine\",\"offsetgroup\":\"Maschine\",\"orientation\":\"h\",\"showlegend\":true,\"textposition\":\"auto\",\"x\":[416,401,183],\"xaxis\":\"x\",\"y\":[\"C\",\"A\",\"B\"],\"yaxis\":\"y\",\"type\":\"bar\"}],                        {\"template\":{\"data\":{\"bar\":[{\"error_x\":{\"color\":\"#2a3f5f\"},\"error_y\":{\"color\":\"#2a3f5f\"},\"marker\":{\"line\":{\"color\":\"#E5ECF6\",\"width\":0.5},\"pattern\":{\"fillmode\":\"overlay\",\"size\":10,\"solidity\":0.2}},\"type\":\"bar\"}],\"barpolar\":[{\"marker\":{\"line\":{\"color\":\"#E5ECF6\",\"width\":0.5},\"pattern\":{\"fillmode\":\"overlay\",\"size\":10,\"solidity\":0.2}},\"type\":\"barpolar\"}],\"carpet\":[{\"aaxis\":{\"endlinecolor\":\"#2a3f5f\",\"gridcolor\":\"white\",\"linecolor\":\"white\",\"minorgridcolor\":\"white\",\"startlinecolor\":\"#2a3f5f\"},\"baxis\":{\"endlinecolor\":\"#2a3f5f\",\"gridcolor\":\"white\",\"linecolor\":\"white\",\"minorgridcolor\":\"white\",\"startlinecolor\":\"#2a3f5f\"},\"type\":\"carpet\"}],\"choropleth\":[{\"colorbar\":{\"outlinewidth\":0,\"ticks\":\"\"},\"type\":\"choropleth\"}],\"contour\":[{\"colorbar\":{\"outlinewidth\":0,\"ticks\":\"\"},\"colorscale\":[[0.0,\"#0d0887\"],[0.1111111111111111,\"#46039f\"],[0.2222222222222222,\"#7201a8\"],[0.3333333333333333,\"#9c179e\"],[0.4444444444444444,\"#bd3786\"],[0.5555555555555556,\"#d8576b\"],[0.6666666666666666,\"#ed7953\"],[0.7777777777777778,\"#fb9f3a\"],[0.8888888888888888,\"#fdca26\"],[1.0,\"#f0f921\"]],\"type\":\"contour\"}],\"contourcarpet\":[{\"colorbar\":{\"outlinewidth\":0,\"ticks\":\"\"},\"type\":\"contourcarpet\"}],\"heatmap\":[{\"colorbar\":{\"outlinewidth\":0,\"ticks\":\"\"},\"colorscale\":[[0.0,\"#0d0887\"],[0.1111111111111111,\"#46039f\"],[0.2222222222222222,\"#7201a8\"],[0.3333333333333333,\"#9c179e\"],[0.4444444444444444,\"#bd3786\"],[0.5555555555555556,\"#d8576b\"],[0.6666666666666666,\"#ed7953\"],[0.7777777777777778,\"#fb9f3a\"],[0.8888888888888888,\"#fdca26\"],[1.0,\"#f0f921\"]],\"type\":\"heatmap\"}],\"heatmapgl\":[{\"colorbar\":{\"outlinewidth\":0,\"ticks\":\"\"},\"colorscale\":[[0.0,\"#0d0887\"],[0.1111111111111111,\"#46039f\"],[0.2222222222222222,\"#7201a8\"],[0.3333333333333333,\"#9c179e\"],[0.4444444444444444,\"#bd3786\"],[0.5555555555555556,\"#d8576b\"],[0.6666666666666666,\"#ed7953\"],[0.7777777777777778,\"#fb9f3a\"],[0.8888888888888888,\"#fdca26\"],[1.0,\"#f0f921\"]],\"type\":\"heatmapgl\"}],\"histogram\":[{\"marker\":{\"pattern\":{\"fillmode\":\"overlay\",\"size\":10,\"solidity\":0.2}},\"type\":\"histogram\"}],\"histogram2d\":[{\"colorbar\":{\"outlinewidth\":0,\"ticks\":\"\"},\"colorscale\":[[0.0,\"#0d0887\"],[0.1111111111111111,\"#46039f\"],[0.2222222222222222,\"#7201a8\"],[0.3333333333333333,\"#9c179e\"],[0.4444444444444444,\"#bd3786\"],[0.5555555555555556,\"#d8576b\"],[0.6666666666666666,\"#ed7953\"],[0.7777777777777778,\"#fb9f3a\"],[0.8888888888888888,\"#fdca26\"],[1.0,\"#f0f921\"]],\"type\":\"histogram2d\"}],\"histogram2dcontour\":[{\"colorbar\":{\"outlinewidth\":0,\"ticks\":\"\"},\"colorscale\":[[0.0,\"#0d0887\"],[0.1111111111111111,\"#46039f\"],[0.2222222222222222,\"#7201a8\"],[0.3333333333333333,\"#9c179e\"],[0.4444444444444444,\"#bd3786\"],[0.5555555555555556,\"#d8576b\"],[0.6666666666666666,\"#ed7953\"],[0.7777777777777778,\"#fb9f3a\"],[0.8888888888888888,\"#fdca26\"],[1.0,\"#f0f921\"]],\"type\":\"histogram2dcontour\"}],\"mesh3d\":[{\"colorbar\":{\"outlinewidth\":0,\"ticks\":\"\"},\"type\":\"mesh3d\"}],\"parcoords\":[{\"line\":{\"colorbar\":{\"outlinewidth\":0,\"ticks\":\"\"}},\"type\":\"parcoords\"}],\"pie\":[{\"automargin\":true,\"type\":\"pie\"}],\"scatter\":[{\"marker\":{\"colorbar\":{\"outlinewidth\":0,\"ticks\":\"\"}},\"type\":\"scatter\"}],\"scatter3d\":[{\"line\":{\"colorbar\":{\"outlinewidth\":0,\"ticks\":\"\"}},\"marker\":{\"colorbar\":{\"outlinewidth\":0,\"ticks\":\"\"}},\"type\":\"scatter3d\"}],\"scattercarpet\":[{\"marker\":{\"colorbar\":{\"outlinewidth\":0,\"ticks\":\"\"}},\"type\":\"scattercarpet\"}],\"scattergeo\":[{\"marker\":{\"colorbar\":{\"outlinewidth\":0,\"ticks\":\"\"}},\"type\":\"scattergeo\"}],\"scattergl\":[{\"marker\":{\"colorbar\":{\"outlinewidth\":0,\"ticks\":\"\"}},\"type\":\"scattergl\"}],\"scattermapbox\":[{\"marker\":{\"colorbar\":{\"outlinewidth\":0,\"ticks\":\"\"}},\"type\":\"scattermapbox\"}],\"scatterpolar\":[{\"marker\":{\"colorbar\":{\"outlinewidth\":0,\"ticks\":\"\"}},\"type\":\"scatterpolar\"}],\"scatterpolargl\":[{\"marker\":{\"colorbar\":{\"outlinewidth\":0,\"ticks\":\"\"}},\"type\":\"scatterpolargl\"}],\"scatterternary\":[{\"marker\":{\"colorbar\":{\"outlinewidth\":0,\"ticks\":\"\"}},\"type\":\"scatterternary\"}],\"surface\":[{\"colorbar\":{\"outlinewidth\":0,\"ticks\":\"\"},\"colorscale\":[[0.0,\"#0d0887\"],[0.1111111111111111,\"#46039f\"],[0.2222222222222222,\"#7201a8\"],[0.3333333333333333,\"#9c179e\"],[0.4444444444444444,\"#bd3786\"],[0.5555555555555556,\"#d8576b\"],[0.6666666666666666,\"#ed7953\"],[0.7777777777777778,\"#fb9f3a\"],[0.8888888888888888,\"#fdca26\"],[1.0,\"#f0f921\"]],\"type\":\"surface\"}],\"table\":[{\"cells\":{\"fill\":{\"color\":\"#EBF0F8\"},\"line\":{\"color\":\"white\"}},\"header\":{\"fill\":{\"color\":\"#C8D4E3\"},\"line\":{\"color\":\"white\"}},\"type\":\"table\"}]},\"layout\":{\"annotationdefaults\":{\"arrowcolor\":\"#2a3f5f\",\"arrowhead\":0,\"arrowwidth\":1},\"autotypenumbers\":\"strict\",\"coloraxis\":{\"colorbar\":{\"outlinewidth\":0,\"ticks\":\"\"}},\"colorscale\":{\"diverging\":[[0,\"#8e0152\"],[0.1,\"#c51b7d\"],[0.2,\"#de77ae\"],[0.3,\"#f1b6da\"],[0.4,\"#fde0ef\"],[0.5,\"#f7f7f7\"],[0.6,\"#e6f5d0\"],[0.7,\"#b8e186\"],[0.8,\"#7fbc41\"],[0.9,\"#4d9221\"],[1,\"#276419\"]],\"sequential\":[[0.0,\"#0d0887\"],[0.1111111111111111,\"#46039f\"],[0.2222222222222222,\"#7201a8\"],[0.3333333333333333,\"#9c179e\"],[0.4444444444444444,\"#bd3786\"],[0.5555555555555556,\"#d8576b\"],[0.6666666666666666,\"#ed7953\"],[0.7777777777777778,\"#fb9f3a\"],[0.8888888888888888,\"#fdca26\"],[1.0,\"#f0f921\"]],\"sequentialminus\":[[0.0,\"#0d0887\"],[0.1111111111111111,\"#46039f\"],[0.2222222222222222,\"#7201a8\"],[0.3333333333333333,\"#9c179e\"],[0.4444444444444444,\"#bd3786\"],[0.5555555555555556,\"#d8576b\"],[0.6666666666666666,\"#ed7953\"],[0.7777777777777778,\"#fb9f3a\"],[0.8888888888888888,\"#fdca26\"],[1.0,\"#f0f921\"]]},\"colorway\":[\"#636efa\",\"#EF553B\",\"#00cc96\",\"#ab63fa\",\"#FFA15A\",\"#19d3f3\",\"#FF6692\",\"#B6E880\",\"#FF97FF\",\"#FECB52\"],\"font\":{\"color\":\"#2a3f5f\"},\"geo\":{\"bgcolor\":\"white\",\"lakecolor\":\"white\",\"landcolor\":\"#E5ECF6\",\"showlakes\":true,\"showland\":true,\"subunitcolor\":\"white\"},\"hoverlabel\":{\"align\":\"left\"},\"hovermode\":\"closest\",\"mapbox\":{\"style\":\"light\"},\"paper_bgcolor\":\"white\",\"plot_bgcolor\":\"#E5ECF6\",\"polar\":{\"angularaxis\":{\"gridcolor\":\"white\",\"linecolor\":\"white\",\"ticks\":\"\"},\"bgcolor\":\"#E5ECF6\",\"radialaxis\":{\"gridcolor\":\"white\",\"linecolor\":\"white\",\"ticks\":\"\"}},\"scene\":{\"xaxis\":{\"backgroundcolor\":\"#E5ECF6\",\"gridcolor\":\"white\",\"gridwidth\":2,\"linecolor\":\"white\",\"showbackground\":true,\"ticks\":\"\",\"zerolinecolor\":\"white\"},\"yaxis\":{\"backgroundcolor\":\"#E5ECF6\",\"gridcolor\":\"white\",\"gridwidth\":2,\"linecolor\":\"white\",\"showbackground\":true,\"ticks\":\"\",\"zerolinecolor\":\"white\"},\"zaxis\":{\"backgroundcolor\":\"#E5ECF6\",\"gridcolor\":\"white\",\"gridwidth\":2,\"linecolor\":\"white\",\"showbackground\":true,\"ticks\":\"\",\"zerolinecolor\":\"white\"}},\"shapedefaults\":{\"line\":{\"color\":\"#2a3f5f\"}},\"ternary\":{\"aaxis\":{\"gridcolor\":\"white\",\"linecolor\":\"white\",\"ticks\":\"\"},\"baxis\":{\"gridcolor\":\"white\",\"linecolor\":\"white\",\"ticks\":\"\"},\"bgcolor\":\"#E5ECF6\",\"caxis\":{\"gridcolor\":\"white\",\"linecolor\":\"white\",\"ticks\":\"\"}},\"title\":{\"x\":0.05},\"xaxis\":{\"automargin\":true,\"gridcolor\":\"white\",\"linecolor\":\"white\",\"ticks\":\"\",\"title\":{\"standoff\":15},\"zerolinecolor\":\"white\",\"zerolinewidth\":2},\"yaxis\":{\"automargin\":true,\"gridcolor\":\"white\",\"linecolor\":\"white\",\"ticks\":\"\",\"title\":{\"standoff\":15},\"zerolinecolor\":\"white\",\"zerolinewidth\":2}}},\"xaxis\":{\"anchor\":\"y\",\"domain\":[0.0,1.0],\"title\":{\"text\":\"value\"}},\"yaxis\":{\"anchor\":\"x\",\"domain\":[0.0,1.0],\"title\":{\"text\":\"index\"}},\"legend\":{\"title\":{\"text\":\"variable\"},\"tracegroupgap\":0},\"margin\":{\"t\":60},\"barmode\":\"relative\"},                        {\"responsive\": true}                    ).then(function(){\n",
              "                            \n",
              "var gd = document.getElementById('bada4522-144e-4c14-a103-a3a7c470f49d');\n",
              "var x = new MutationObserver(function (mutations, observer) {{\n",
              "        var display = window.getComputedStyle(gd).display;\n",
              "        if (!display || display === 'none') {{\n",
              "            console.log([gd, 'removed!']);\n",
              "            Plotly.purge(gd);\n",
              "            observer.disconnect();\n",
              "        }}\n",
              "}});\n",
              "\n",
              "// Listen for the removal of the full notebook cells\n",
              "var notebookContainer = gd.closest('#notebook-container');\n",
              "if (notebookContainer) {{\n",
              "    x.observe(notebookContainer, {childList: true});\n",
              "}}\n",
              "\n",
              "// Listen for the clearing of the current output cell\n",
              "var outputEl = gd.closest('.output');\n",
              "if (outputEl) {{\n",
              "    x.observe(outputEl, {childList: true});\n",
              "}}\n",
              "\n",
              "                        })                };                            </script>        </div>\n",
              "</body>\n",
              "</html>"
            ]
          },
          "metadata": {}
        }
      ],
      "source": [
        "data[\"Maschine\"].value_counts().plot(kind=\"bar\", orientation=\"h\")"
      ]
    },
    {
      "cell_type": "markdown",
      "id": "ba23320c",
      "metadata": {
        "id": "ba23320c"
      },
      "source": [
        "Stellen Sie selbstständig ein Säulen- oder Balkendiagramm für das nominale Merkmal ```Produkt``` dar. Was fällt Ihnen auf?"
      ]
    },
    {
      "cell_type": "code",
      "execution_count": null,
      "id": "eb0e4c66",
      "metadata": {
        "id": "eb0e4c66"
      },
      "outputs": [],
      "source": []
    },
    {
      "cell_type": "markdown",
      "id": "568fa645",
      "metadata": {
        "id": "568fa645"
      },
      "source": [
        "Widmen wir uns als nächstes den metrischen Merkmalen. Metrische Merkmale kann man in Wertebereiche (englisch _bins_) einteilen und in einem [Histogramm](https://plotly.github.io/plotly.py-docs/generated/plotly.express.histogram.html) visualisieren. Ein Histogramm stellt eine Häufigkeitsverteilung dar, die man mit einigen Eigenschaften charakterisieren kann, wie dem Mittelwert, der Streuung, der Schiefe und der Wölbung. Ein Histogramm lässt sich mit Plotly ganz einfach darstellen, zum Beispiel für die Drehzahl pro Minute:"
      ]
    },
    {
      "cell_type": "code",
      "execution_count": 18,
      "id": "1a72846e",
      "metadata": {
        "id": "1a72846e",
        "outputId": "911a3499-bbe6-42b5-be74-1baab52e5715",
        "colab": {
          "base_uri": "https://localhost:8080/",
          "height": 542
        }
      },
      "outputs": [
        {
          "output_type": "display_data",
          "data": {
            "text/html": [
              "<html>\n",
              "<head><meta charset=\"utf-8\" /></head>\n",
              "<body>\n",
              "    <div>            <script src=\"https://cdnjs.cloudflare.com/ajax/libs/mathjax/2.7.5/MathJax.js?config=TeX-AMS-MML_SVG\"></script><script type=\"text/javascript\">if (window.MathJax) {MathJax.Hub.Config({SVG: {font: \"STIX-Web\"}});}</script>                <script type=\"text/javascript\">window.PlotlyConfig = {MathJaxConfig: 'local'};</script>\n",
              "        <script src=\"https://cdn.plot.ly/plotly-2.8.3.min.js\"></script>                <div id=\"a74bc19e-0133-4d2e-b338-311b15e2c051\" class=\"plotly-graph-div\" style=\"height:525px; width:100%;\"></div>            <script type=\"text/javascript\">                                    window.PLOTLYENV=window.PLOTLYENV || {};                                    if (document.getElementById(\"a74bc19e-0133-4d2e-b338-311b15e2c051\")) {                    Plotly.newPlot(                        \"a74bc19e-0133-4d2e-b338-311b15e2c051\",                        [{\"alignmentgroup\":\"True\",\"bingroup\":\"x\",\"hovertemplate\":\"variable=Drehzahl / 1/min<br>value=%{x}<br>count=%{y}<extra></extra>\",\"legendgroup\":\"Drehzahl / 1/min\",\"marker\":{\"color\":\"#636efa\",\"pattern\":{\"shape\":\"\"}},\"name\":\"Drehzahl / 1/min\",\"offsetgroup\":\"Drehzahl / 1/min\",\"orientation\":\"v\",\"showlegend\":true,\"x\":[1461,1460,1463,1461,1466,1463,1462,1462,1463,1462,1460,1460,1459,1460,1463,1462,1461,1459,1461,1461,1462,1460,1462,1465,1461,1463,1459,1464,1458,1461,1458,1462,1462,1461,1463,1459,1463,1458,1460,1462,1461,1459,1464,1460,1459,1459,1459,1462,1460,1460,1462,1464,1458,1459,1462,1460,1461,1459,1463,1461,1460,1461,1459,1462,1458,1462,1462,1459,1461,1458,1462,1462,1461,1462,1461,1462,1463,1460,1462,1460,1465,1463,1462,1459,1459,1462,1462,1458,1458,1458,1461,1467,1461,1461,1462,1461,1464,1459,1462,1461,1461,1460,1462,1460,1456,1464,1461,1461,1458,1464,1462,1460,1459,1459,1463,1463,1462,1462,1461,1460,1457,1461,1460,1463,1460,1460,1459,1460,1460,1462,1461,1465,1460,1459,1462,1461,1461,1463,1460,1464,1460,1458,1460,1460,1459,1464,1463,1461,1460,1458,1459,1460,1463,1458,1460,1460,1461,1460,1464,1460,1463,1464,1460,1459,1466,1461,1461,1462,1460,1461,1462,1464,1463,1459,1464,1464,1459,1461,1462,1457,1460,1462,1458,1462,1460,1458,1459,1461,1461,1461,1461,1459,1460,1460,1462,1465,1462,1461,1461,1461,1461,1463,1462,1460,1461,1463,1461,1461,1459,1463,1462,1464,1459,1460,1462,1461,1463,1459,1464,1460,1460,1461,1462,1459,1460,1464,1459,1462,1460,1460,1460,1462,1460,1459,1460,1462,1462,1463,1461,1461,1460,1459,1460,1461,1462,1461,1459,1461,1461,1457,1463,1460,1463,1461,1463,1462,1465,1462,1462,1461,1463,1460,1456,1463,1459,1461,1461,1462,1459,1464,1461,1460,1462,1459,1465,1463,1459,1463,1463,1460,1459,1460,1463,1461,1463,1461,1459,1460,1462,1461,1463,1463,1460,1462,1460,1461,1460,1461,1459,1461,1460,1462,1463,1459,1458,1462,1459,1462,1460,1459,1460,1460,1464,1458,1461,1466,1462,1462,1462,1462,1460,1461,1458,1462,1463,1461,1462,1462,1458,1463,1459,1461,1459,1461,1460,1461,1462,1462,1461,1463,1459,1459,1461,1457,1461,1462,1465,1464,1465,1461,1460,1461,1459,1457,1460,1460,1461,1459,1464,1461,1460,1461,1465,1461,1463,1461,1461,1460,1462,1457,1461,1459,1463,1456,1460,1462,1461,1461,1462,1462,1463,1461,1461,1458,1463,1464,1462,1461,1460,1459,1464,1458,1462,1459,1460,1462,1462,1461,1463,1463,1461,1458,1462,1462,1463,1462,1460,1460,1461,1462,1463,1464,1463,1459,1462,1457,1462,1461,1458,1462,1462,1458,1460,1462,1463,1463,1460,1460,1461,1462,1464,1461,1457,1464,1463,1458,1462,1461,1457,1462,1464,1462,1458,1464,1458,1459,1463,1461,1461,1457,1459,1460,1461,1462,1461,1464,1462,1457,1459,1465,1459,1463,1459,1460,1462,1463,1458,1461,1462,1465,1459,1458,1458,1461,1463,1459,1460,1458,1463,1463,1463,1464,1464,1460,1463,1459,1459,1461,1459,1462,1463,1461,1463,1460,1463,1464,1460,1464,1463,1462,1459,1461,1462,1460,1459,1463,1460,1458,1460,1460,1460,1462,1458,1464,1463,1461,1460,1461,1457,1461,1458,1461,1460,1461,1461,1459,1463,1465,1462,1461,1460,1464,1464,1460,1462,1459,1463,1460,1465,1462,1460,1464,1459,1461,1457,1462,1460,1459,1461,1461,1461,1461,1458,1463,1463,1464,1465,1462,1461,1461,1459,1460,1462,1459,1462,1461,1461,1464,1460,1461,1458,1464,1459,1459,1460,1465,1461,1462,1458,1461,1460,1464,1460,1464,1462,1458,1460,1462,1459,1458,1462,1460,1462,1461,1459,1462,1464,1462,1459,1462,1459,1463,1461,1460,1461,1462,1461,1459,1460,1461,1460,1459,1462,1464,1459,1464,1457,1457,1457,1460,1458,1460,1459,1461,1460,1462,1460,1462,1463,1463,1461,1462,1463,1460,1458,1462,1460,1460,1463,1464,1464,1463,1464,1463,1458,1459,1460,1463,1463,1459,1463,1459,1461,1460,1460,1462,1461,1458,1459,1459,1462,1460,1462,1462,1459,1461,1461,1462,1462,1461,1464,1457,1463,1461,1461,1463,1461,1460,1460,1464,1461,1458,1460,1458,1462,1462,1461,1460,1461,1459,1461,1458,1459,1462,1463,1460,1459,1464,1460,1461,1462,1459,1463,1459,1462,1461,1457,1458,1464,1461,1461,1464,1461,1463,1457,1462,1461,1458,1461,1464,1462,1462,1461,1460,1461,1462,1459,1465,1460,1458,1459,1462,1465,1462,1459,1457,1460,1459,1459,1460,1459,1466,1464,1463,1461,1463,1460,1460,1461,1457,1460,1458,1462,1460,1465,1462,1459,1459,1462,1461,1460,1463,1460,1460,1460,1464,1459,1460,1463,1461,1462,1460,1460,1461,1461,1464,1459,1459,1458,1464,1459,1464,1461,1462,1462,1461,1467,1460,1460,1460,1461,1460,1463,1461,1457,1460,1462,1462,1460,1459,1459,1461,1461,1460,1460,1461,1461,1461,1461,1461,1460,1459,1463,1460,1461,1458,1461,1462,1459,1458,1460,1459,1461,1460,1463,1460,1464,1457,1461,1463,1462,1463,1463,1462,1462,1462,1459,1465,1459,1460,1462,1460,1463,1463,1464,1459,1461,1460,1458,1460,1460,1458,1462,1461,1461,1462,1457,1462,1458,1462,1462,1463,1464,1460,1462,1460,1462,1460,1459,1460,1463,1461,1460,1462,1463,1462,1461,1461,1462,1463,1462,1460,1458,1462,1462,1462,1460,1460,1460,1459,1460,1460,1462,1461,1460,1458,1459,1457,1463,1461,1458,1458,1458,1458,1461,1463,1460,1461,1461,1458,1463,1467,1463,1463,1461,1459,1461,1457,1461,1461,1460,1461,1461,1464,1465,1459,1461,1459,1462,1463,1461,1463,1466,1461,1462,1463,1461,1462,1458,1460,1460,1458,1457,1461,1460,1460,1463,1458,1458,1459,1460,1465,1461,1459,1466,1464,1461,1459,1461,1464,1462,1462,1461,1461,1460,1461,1460,1458,1460,1459,1459,1458,1461,1457,1463,1461,1459,1461,1463,1461,1460,1461,1462,1459,1463,1459,1460,1461,1460,1465,1456,1461,1461,1463,1460,1460,1460,1460,1462,1461],\"xaxis\":\"x\",\"yaxis\":\"y\",\"type\":\"histogram\"}],                        {\"template\":{\"data\":{\"bar\":[{\"error_x\":{\"color\":\"#2a3f5f\"},\"error_y\":{\"color\":\"#2a3f5f\"},\"marker\":{\"line\":{\"color\":\"#E5ECF6\",\"width\":0.5},\"pattern\":{\"fillmode\":\"overlay\",\"size\":10,\"solidity\":0.2}},\"type\":\"bar\"}],\"barpolar\":[{\"marker\":{\"line\":{\"color\":\"#E5ECF6\",\"width\":0.5},\"pattern\":{\"fillmode\":\"overlay\",\"size\":10,\"solidity\":0.2}},\"type\":\"barpolar\"}],\"carpet\":[{\"aaxis\":{\"endlinecolor\":\"#2a3f5f\",\"gridcolor\":\"white\",\"linecolor\":\"white\",\"minorgridcolor\":\"white\",\"startlinecolor\":\"#2a3f5f\"},\"baxis\":{\"endlinecolor\":\"#2a3f5f\",\"gridcolor\":\"white\",\"linecolor\":\"white\",\"minorgridcolor\":\"white\",\"startlinecolor\":\"#2a3f5f\"},\"type\":\"carpet\"}],\"choropleth\":[{\"colorbar\":{\"outlinewidth\":0,\"ticks\":\"\"},\"type\":\"choropleth\"}],\"contour\":[{\"colorbar\":{\"outlinewidth\":0,\"ticks\":\"\"},\"colorscale\":[[0.0,\"#0d0887\"],[0.1111111111111111,\"#46039f\"],[0.2222222222222222,\"#7201a8\"],[0.3333333333333333,\"#9c179e\"],[0.4444444444444444,\"#bd3786\"],[0.5555555555555556,\"#d8576b\"],[0.6666666666666666,\"#ed7953\"],[0.7777777777777778,\"#fb9f3a\"],[0.8888888888888888,\"#fdca26\"],[1.0,\"#f0f921\"]],\"type\":\"contour\"}],\"contourcarpet\":[{\"colorbar\":{\"outlinewidth\":0,\"ticks\":\"\"},\"type\":\"contourcarpet\"}],\"heatmap\":[{\"colorbar\":{\"outlinewidth\":0,\"ticks\":\"\"},\"colorscale\":[[0.0,\"#0d0887\"],[0.1111111111111111,\"#46039f\"],[0.2222222222222222,\"#7201a8\"],[0.3333333333333333,\"#9c179e\"],[0.4444444444444444,\"#bd3786\"],[0.5555555555555556,\"#d8576b\"],[0.6666666666666666,\"#ed7953\"],[0.7777777777777778,\"#fb9f3a\"],[0.8888888888888888,\"#fdca26\"],[1.0,\"#f0f921\"]],\"type\":\"heatmap\"}],\"heatmapgl\":[{\"colorbar\":{\"outlinewidth\":0,\"ticks\":\"\"},\"colorscale\":[[0.0,\"#0d0887\"],[0.1111111111111111,\"#46039f\"],[0.2222222222222222,\"#7201a8\"],[0.3333333333333333,\"#9c179e\"],[0.4444444444444444,\"#bd3786\"],[0.5555555555555556,\"#d8576b\"],[0.6666666666666666,\"#ed7953\"],[0.7777777777777778,\"#fb9f3a\"],[0.8888888888888888,\"#fdca26\"],[1.0,\"#f0f921\"]],\"type\":\"heatmapgl\"}],\"histogram\":[{\"marker\":{\"pattern\":{\"fillmode\":\"overlay\",\"size\":10,\"solidity\":0.2}},\"type\":\"histogram\"}],\"histogram2d\":[{\"colorbar\":{\"outlinewidth\":0,\"ticks\":\"\"},\"colorscale\":[[0.0,\"#0d0887\"],[0.1111111111111111,\"#46039f\"],[0.2222222222222222,\"#7201a8\"],[0.3333333333333333,\"#9c179e\"],[0.4444444444444444,\"#bd3786\"],[0.5555555555555556,\"#d8576b\"],[0.6666666666666666,\"#ed7953\"],[0.7777777777777778,\"#fb9f3a\"],[0.8888888888888888,\"#fdca26\"],[1.0,\"#f0f921\"]],\"type\":\"histogram2d\"}],\"histogram2dcontour\":[{\"colorbar\":{\"outlinewidth\":0,\"ticks\":\"\"},\"colorscale\":[[0.0,\"#0d0887\"],[0.1111111111111111,\"#46039f\"],[0.2222222222222222,\"#7201a8\"],[0.3333333333333333,\"#9c179e\"],[0.4444444444444444,\"#bd3786\"],[0.5555555555555556,\"#d8576b\"],[0.6666666666666666,\"#ed7953\"],[0.7777777777777778,\"#fb9f3a\"],[0.8888888888888888,\"#fdca26\"],[1.0,\"#f0f921\"]],\"type\":\"histogram2dcontour\"}],\"mesh3d\":[{\"colorbar\":{\"outlinewidth\":0,\"ticks\":\"\"},\"type\":\"mesh3d\"}],\"parcoords\":[{\"line\":{\"colorbar\":{\"outlinewidth\":0,\"ticks\":\"\"}},\"type\":\"parcoords\"}],\"pie\":[{\"automargin\":true,\"type\":\"pie\"}],\"scatter\":[{\"marker\":{\"colorbar\":{\"outlinewidth\":0,\"ticks\":\"\"}},\"type\":\"scatter\"}],\"scatter3d\":[{\"line\":{\"colorbar\":{\"outlinewidth\":0,\"ticks\":\"\"}},\"marker\":{\"colorbar\":{\"outlinewidth\":0,\"ticks\":\"\"}},\"type\":\"scatter3d\"}],\"scattercarpet\":[{\"marker\":{\"colorbar\":{\"outlinewidth\":0,\"ticks\":\"\"}},\"type\":\"scattercarpet\"}],\"scattergeo\":[{\"marker\":{\"colorbar\":{\"outlinewidth\":0,\"ticks\":\"\"}},\"type\":\"scattergeo\"}],\"scattergl\":[{\"marker\":{\"colorbar\":{\"outlinewidth\":0,\"ticks\":\"\"}},\"type\":\"scattergl\"}],\"scattermapbox\":[{\"marker\":{\"colorbar\":{\"outlinewidth\":0,\"ticks\":\"\"}},\"type\":\"scattermapbox\"}],\"scatterpolar\":[{\"marker\":{\"colorbar\":{\"outlinewidth\":0,\"ticks\":\"\"}},\"type\":\"scatterpolar\"}],\"scatterpolargl\":[{\"marker\":{\"colorbar\":{\"outlinewidth\":0,\"ticks\":\"\"}},\"type\":\"scatterpolargl\"}],\"scatterternary\":[{\"marker\":{\"colorbar\":{\"outlinewidth\":0,\"ticks\":\"\"}},\"type\":\"scatterternary\"}],\"surface\":[{\"colorbar\":{\"outlinewidth\":0,\"ticks\":\"\"},\"colorscale\":[[0.0,\"#0d0887\"],[0.1111111111111111,\"#46039f\"],[0.2222222222222222,\"#7201a8\"],[0.3333333333333333,\"#9c179e\"],[0.4444444444444444,\"#bd3786\"],[0.5555555555555556,\"#d8576b\"],[0.6666666666666666,\"#ed7953\"],[0.7777777777777778,\"#fb9f3a\"],[0.8888888888888888,\"#fdca26\"],[1.0,\"#f0f921\"]],\"type\":\"surface\"}],\"table\":[{\"cells\":{\"fill\":{\"color\":\"#EBF0F8\"},\"line\":{\"color\":\"white\"}},\"header\":{\"fill\":{\"color\":\"#C8D4E3\"},\"line\":{\"color\":\"white\"}},\"type\":\"table\"}]},\"layout\":{\"annotationdefaults\":{\"arrowcolor\":\"#2a3f5f\",\"arrowhead\":0,\"arrowwidth\":1},\"autotypenumbers\":\"strict\",\"coloraxis\":{\"colorbar\":{\"outlinewidth\":0,\"ticks\":\"\"}},\"colorscale\":{\"diverging\":[[0,\"#8e0152\"],[0.1,\"#c51b7d\"],[0.2,\"#de77ae\"],[0.3,\"#f1b6da\"],[0.4,\"#fde0ef\"],[0.5,\"#f7f7f7\"],[0.6,\"#e6f5d0\"],[0.7,\"#b8e186\"],[0.8,\"#7fbc41\"],[0.9,\"#4d9221\"],[1,\"#276419\"]],\"sequential\":[[0.0,\"#0d0887\"],[0.1111111111111111,\"#46039f\"],[0.2222222222222222,\"#7201a8\"],[0.3333333333333333,\"#9c179e\"],[0.4444444444444444,\"#bd3786\"],[0.5555555555555556,\"#d8576b\"],[0.6666666666666666,\"#ed7953\"],[0.7777777777777778,\"#fb9f3a\"],[0.8888888888888888,\"#fdca26\"],[1.0,\"#f0f921\"]],\"sequentialminus\":[[0.0,\"#0d0887\"],[0.1111111111111111,\"#46039f\"],[0.2222222222222222,\"#7201a8\"],[0.3333333333333333,\"#9c179e\"],[0.4444444444444444,\"#bd3786\"],[0.5555555555555556,\"#d8576b\"],[0.6666666666666666,\"#ed7953\"],[0.7777777777777778,\"#fb9f3a\"],[0.8888888888888888,\"#fdca26\"],[1.0,\"#f0f921\"]]},\"colorway\":[\"#636efa\",\"#EF553B\",\"#00cc96\",\"#ab63fa\",\"#FFA15A\",\"#19d3f3\",\"#FF6692\",\"#B6E880\",\"#FF97FF\",\"#FECB52\"],\"font\":{\"color\":\"#2a3f5f\"},\"geo\":{\"bgcolor\":\"white\",\"lakecolor\":\"white\",\"landcolor\":\"#E5ECF6\",\"showlakes\":true,\"showland\":true,\"subunitcolor\":\"white\"},\"hoverlabel\":{\"align\":\"left\"},\"hovermode\":\"closest\",\"mapbox\":{\"style\":\"light\"},\"paper_bgcolor\":\"white\",\"plot_bgcolor\":\"#E5ECF6\",\"polar\":{\"angularaxis\":{\"gridcolor\":\"white\",\"linecolor\":\"white\",\"ticks\":\"\"},\"bgcolor\":\"#E5ECF6\",\"radialaxis\":{\"gridcolor\":\"white\",\"linecolor\":\"white\",\"ticks\":\"\"}},\"scene\":{\"xaxis\":{\"backgroundcolor\":\"#E5ECF6\",\"gridcolor\":\"white\",\"gridwidth\":2,\"linecolor\":\"white\",\"showbackground\":true,\"ticks\":\"\",\"zerolinecolor\":\"white\"},\"yaxis\":{\"backgroundcolor\":\"#E5ECF6\",\"gridcolor\":\"white\",\"gridwidth\":2,\"linecolor\":\"white\",\"showbackground\":true,\"ticks\":\"\",\"zerolinecolor\":\"white\"},\"zaxis\":{\"backgroundcolor\":\"#E5ECF6\",\"gridcolor\":\"white\",\"gridwidth\":2,\"linecolor\":\"white\",\"showbackground\":true,\"ticks\":\"\",\"zerolinecolor\":\"white\"}},\"shapedefaults\":{\"line\":{\"color\":\"#2a3f5f\"}},\"ternary\":{\"aaxis\":{\"gridcolor\":\"white\",\"linecolor\":\"white\",\"ticks\":\"\"},\"baxis\":{\"gridcolor\":\"white\",\"linecolor\":\"white\",\"ticks\":\"\"},\"bgcolor\":\"#E5ECF6\",\"caxis\":{\"gridcolor\":\"white\",\"linecolor\":\"white\",\"ticks\":\"\"}},\"title\":{\"x\":0.05},\"xaxis\":{\"automargin\":true,\"gridcolor\":\"white\",\"linecolor\":\"white\",\"ticks\":\"\",\"title\":{\"standoff\":15},\"zerolinecolor\":\"white\",\"zerolinewidth\":2},\"yaxis\":{\"automargin\":true,\"gridcolor\":\"white\",\"linecolor\":\"white\",\"ticks\":\"\",\"title\":{\"standoff\":15},\"zerolinecolor\":\"white\",\"zerolinewidth\":2}}},\"xaxis\":{\"anchor\":\"y\",\"domain\":[0.0,1.0],\"title\":{\"text\":\"value\"}},\"yaxis\":{\"anchor\":\"x\",\"domain\":[0.0,1.0],\"title\":{\"text\":\"count\"}},\"legend\":{\"title\":{\"text\":\"variable\"},\"tracegroupgap\":0},\"margin\":{\"t\":60},\"barmode\":\"relative\"},                        {\"responsive\": true}                    ).then(function(){\n",
              "                            \n",
              "var gd = document.getElementById('a74bc19e-0133-4d2e-b338-311b15e2c051');\n",
              "var x = new MutationObserver(function (mutations, observer) {{\n",
              "        var display = window.getComputedStyle(gd).display;\n",
              "        if (!display || display === 'none') {{\n",
              "            console.log([gd, 'removed!']);\n",
              "            Plotly.purge(gd);\n",
              "            observer.disconnect();\n",
              "        }}\n",
              "}});\n",
              "\n",
              "// Listen for the removal of the full notebook cells\n",
              "var notebookContainer = gd.closest('#notebook-container');\n",
              "if (notebookContainer) {{\n",
              "    x.observe(notebookContainer, {childList: true});\n",
              "}}\n",
              "\n",
              "// Listen for the clearing of the current output cell\n",
              "var outputEl = gd.closest('.output');\n",
              "if (outputEl) {{\n",
              "    x.observe(outputEl, {childList: true});\n",
              "}}\n",
              "\n",
              "                        })                };                            </script>        </div>\n",
              "</body>\n",
              "</html>"
            ]
          },
          "metadata": {}
        }
      ],
      "source": [
        "data[\"Drehzahl / 1/min\"].plot(kind=\"histogram\")"
      ]
    },
    {
      "cell_type": "markdown",
      "id": "3f111abe",
      "metadata": {
        "id": "3f111abe"
      },
      "source": [
        "Versuchen Sie, das Histogramm so weit wie möglich auf Basis der zuvorgenannten vier Eigenschaften zu beschreiben. Stellen Sie dann selbständig ein Histogramm von der Stromaufnahme in Ampere dar. Was fällt Ihnen an dieser Verteilung auf (Stichwort: Gipfel)?"
      ]
    },
    {
      "cell_type": "code",
      "execution_count": null,
      "id": "16b456c0",
      "metadata": {
        "id": "16b456c0"
      },
      "outputs": [],
      "source": []
    },
    {
      "cell_type": "markdown",
      "id": "e6cedb33",
      "metadata": {
        "id": "e6cedb33"
      },
      "source": [
        "Vielleicht ist Ihnen aufgefallen, dass sich die Anzahl der Wertebereiche zwischen den beiden Histogrammen unterscheidet. Im Histogramm zur Drehzahl pro Minute gibt es 12 solcher Bereiche, im Histogramm zur Stromaufname in Ampere 24. In Plotly gibt es einen Algorithmus, der die optimale Anzahl und Breite der Wertebereiche automatisch festlegt. Man kann allerdings über das ```nbins```-Argument zumindest die maximale Anzahl der Wertebereiche bestimmen. Setzen Sie das ```nbins```-Argument auf ```100``` und beobachten Sie, wie sich das Histogramm verändert. Fällt Ihnen bei der Häufigkeitsverteilung etwas auf, das Ihnen bei einer kleineren Anzahl von Wertebereichen vielleicht nicht aufgefallen wäre (Stichwort: Ausreißer)? Lohnt sich das Testen einer größeren Anzahl von Wertebereichen oder genügt die Standardeinstellung?"
      ]
    },
    {
      "cell_type": "code",
      "execution_count": null,
      "id": "ee5dbb7a",
      "metadata": {
        "id": "ee5dbb7a"
      },
      "outputs": [],
      "source": []
    },
    {
      "cell_type": "markdown",
      "id": "14e91bc7",
      "metadata": {
        "id": "14e91bc7"
      },
      "source": [
        "Zuletzt wollen wir uns noch anschauen, wie wir relative anstatt absolute Häufigkeiten angeben können. Nutzen Sie hierfür das ```histnorm```-Argument und setzen es auf ```\"probability\"```:"
      ]
    },
    {
      "cell_type": "code",
      "execution_count": null,
      "id": "e043711f",
      "metadata": {
        "id": "e043711f"
      },
      "outputs": [],
      "source": []
    },
    {
      "cell_type": "markdown",
      "id": "10fb24fe",
      "metadata": {
        "id": "10fb24fe"
      },
      "source": [
        "Natürlich ergibt es noch Sinn, die anderen Merkmale zu visualisieren. Da Ihnen die Funktionsaufrufe hierfür aber nun bekannt sein sollten, möchten wir an dieser Stelle darauf verzichten. Stattdessen wollen wir unsere Häufigkeitsverteilungen in einigen Kenngrößen zusammenzufassen. Dafür nutzen wir pandas' ```describe()```-Funktion und setzen ```include``` auf ```\"all\"```:"
      ]
    },
    {
      "cell_type": "code",
      "execution_count": 19,
      "id": "ae3ffcab",
      "metadata": {
        "id": "ae3ffcab",
        "outputId": "079ea028-6a8f-44de-b2e7-0b9751307b01",
        "colab": {
          "base_uri": "https://localhost:8080/",
          "height": 394
        }
      },
      "outputs": [
        {
          "output_type": "execute_result",
          "data": {
            "text/plain": [
              "       Maschine   Mode Produkt   Strom / A  Drehmoment / Nm  Drehzahl / 1/min  \\\n",
              "count      1000  999.0    1000  999.000000      1000.000000       1000.000000   \n",
              "unique        3    3.0       3         NaN              NaN               NaN   \n",
              "top           C    2.0       Y         NaN              NaN               NaN   \n",
              "freq        416  518.0     541         NaN              NaN               NaN   \n",
              "mean        NaN    NaN     NaN   22.501915        48.555380       1460.945000   \n",
              "std         NaN    NaN     NaN    2.520593         3.692908          1.916154   \n",
              "min         NaN    NaN     NaN   18.221000        41.430000       1456.000000   \n",
              "25%         NaN    NaN     NaN   20.435500        45.527500       1460.000000   \n",
              "50%         NaN    NaN     NaN   22.102000        47.515000       1461.000000   \n",
              "75%         NaN    NaN     NaN   24.668000        51.602500       1462.000000   \n",
              "max         NaN    NaN     NaN   29.530000        60.110000       1467.000000   \n",
              "\n",
              "        Temp Umgebung / degC  Temp Umrichter / degC  Temp Werkzeug / degC  \\\n",
              "count            1000.000000            1000.000000           1000.000000   \n",
              "unique                   NaN                    NaN                   NaN   \n",
              "top                      NaN                    NaN                   NaN   \n",
              "freq                     NaN                    NaN                   NaN   \n",
              "mean               20.984700              23.750500             95.196400   \n",
              "std                 1.374695               1.040876              5.688506   \n",
              "min                17.300000              20.300000             82.900000   \n",
              "25%                20.100000              23.075000             90.600000   \n",
              "50%                21.000000              23.700000             94.000000   \n",
              "75%                21.900000              24.400000             99.800000   \n",
              "max                26.000000              27.400000            113.100000   \n",
              "\n",
              "        Bearbeitungszeit / s  \n",
              "count            1000.000000  \n",
              "unique                   NaN  \n",
              "top                      NaN  \n",
              "freq                     NaN  \n",
              "mean               23.008900  \n",
              "std                 1.970897  \n",
              "min                19.900000  \n",
              "25%                21.400000  \n",
              "50%                22.400000  \n",
              "75%                25.300000  \n",
              "max                25.300000  "
            ],
            "text/html": [
              "\n",
              "  <div id=\"df-dc2a71ea-ef8a-449b-b78b-9f0f7586bdc6\">\n",
              "    <div class=\"colab-df-container\">\n",
              "      <div>\n",
              "<style scoped>\n",
              "    .dataframe tbody tr th:only-of-type {\n",
              "        vertical-align: middle;\n",
              "    }\n",
              "\n",
              "    .dataframe tbody tr th {\n",
              "        vertical-align: top;\n",
              "    }\n",
              "\n",
              "    .dataframe thead th {\n",
              "        text-align: right;\n",
              "    }\n",
              "</style>\n",
              "<table border=\"1\" class=\"dataframe\">\n",
              "  <thead>\n",
              "    <tr style=\"text-align: right;\">\n",
              "      <th></th>\n",
              "      <th>Maschine</th>\n",
              "      <th>Mode</th>\n",
              "      <th>Produkt</th>\n",
              "      <th>Strom / A</th>\n",
              "      <th>Drehmoment / Nm</th>\n",
              "      <th>Drehzahl / 1/min</th>\n",
              "      <th>Temp Umgebung / degC</th>\n",
              "      <th>Temp Umrichter / degC</th>\n",
              "      <th>Temp Werkzeug / degC</th>\n",
              "      <th>Bearbeitungszeit / s</th>\n",
              "    </tr>\n",
              "  </thead>\n",
              "  <tbody>\n",
              "    <tr>\n",
              "      <th>count</th>\n",
              "      <td>1000</td>\n",
              "      <td>999.0</td>\n",
              "      <td>1000</td>\n",
              "      <td>999.000000</td>\n",
              "      <td>1000.000000</td>\n",
              "      <td>1000.000000</td>\n",
              "      <td>1000.000000</td>\n",
              "      <td>1000.000000</td>\n",
              "      <td>1000.000000</td>\n",
              "      <td>1000.000000</td>\n",
              "    </tr>\n",
              "    <tr>\n",
              "      <th>unique</th>\n",
              "      <td>3</td>\n",
              "      <td>3.0</td>\n",
              "      <td>3</td>\n",
              "      <td>NaN</td>\n",
              "      <td>NaN</td>\n",
              "      <td>NaN</td>\n",
              "      <td>NaN</td>\n",
              "      <td>NaN</td>\n",
              "      <td>NaN</td>\n",
              "      <td>NaN</td>\n",
              "    </tr>\n",
              "    <tr>\n",
              "      <th>top</th>\n",
              "      <td>C</td>\n",
              "      <td>2.0</td>\n",
              "      <td>Y</td>\n",
              "      <td>NaN</td>\n",
              "      <td>NaN</td>\n",
              "      <td>NaN</td>\n",
              "      <td>NaN</td>\n",
              "      <td>NaN</td>\n",
              "      <td>NaN</td>\n",
              "      <td>NaN</td>\n",
              "    </tr>\n",
              "    <tr>\n",
              "      <th>freq</th>\n",
              "      <td>416</td>\n",
              "      <td>518.0</td>\n",
              "      <td>541</td>\n",
              "      <td>NaN</td>\n",
              "      <td>NaN</td>\n",
              "      <td>NaN</td>\n",
              "      <td>NaN</td>\n",
              "      <td>NaN</td>\n",
              "      <td>NaN</td>\n",
              "      <td>NaN</td>\n",
              "    </tr>\n",
              "    <tr>\n",
              "      <th>mean</th>\n",
              "      <td>NaN</td>\n",
              "      <td>NaN</td>\n",
              "      <td>NaN</td>\n",
              "      <td>22.501915</td>\n",
              "      <td>48.555380</td>\n",
              "      <td>1460.945000</td>\n",
              "      <td>20.984700</td>\n",
              "      <td>23.750500</td>\n",
              "      <td>95.196400</td>\n",
              "      <td>23.008900</td>\n",
              "    </tr>\n",
              "    <tr>\n",
              "      <th>std</th>\n",
              "      <td>NaN</td>\n",
              "      <td>NaN</td>\n",
              "      <td>NaN</td>\n",
              "      <td>2.520593</td>\n",
              "      <td>3.692908</td>\n",
              "      <td>1.916154</td>\n",
              "      <td>1.374695</td>\n",
              "      <td>1.040876</td>\n",
              "      <td>5.688506</td>\n",
              "      <td>1.970897</td>\n",
              "    </tr>\n",
              "    <tr>\n",
              "      <th>min</th>\n",
              "      <td>NaN</td>\n",
              "      <td>NaN</td>\n",
              "      <td>NaN</td>\n",
              "      <td>18.221000</td>\n",
              "      <td>41.430000</td>\n",
              "      <td>1456.000000</td>\n",
              "      <td>17.300000</td>\n",
              "      <td>20.300000</td>\n",
              "      <td>82.900000</td>\n",
              "      <td>19.900000</td>\n",
              "    </tr>\n",
              "    <tr>\n",
              "      <th>25%</th>\n",
              "      <td>NaN</td>\n",
              "      <td>NaN</td>\n",
              "      <td>NaN</td>\n",
              "      <td>20.435500</td>\n",
              "      <td>45.527500</td>\n",
              "      <td>1460.000000</td>\n",
              "      <td>20.100000</td>\n",
              "      <td>23.075000</td>\n",
              "      <td>90.600000</td>\n",
              "      <td>21.400000</td>\n",
              "    </tr>\n",
              "    <tr>\n",
              "      <th>50%</th>\n",
              "      <td>NaN</td>\n",
              "      <td>NaN</td>\n",
              "      <td>NaN</td>\n",
              "      <td>22.102000</td>\n",
              "      <td>47.515000</td>\n",
              "      <td>1461.000000</td>\n",
              "      <td>21.000000</td>\n",
              "      <td>23.700000</td>\n",
              "      <td>94.000000</td>\n",
              "      <td>22.400000</td>\n",
              "    </tr>\n",
              "    <tr>\n",
              "      <th>75%</th>\n",
              "      <td>NaN</td>\n",
              "      <td>NaN</td>\n",
              "      <td>NaN</td>\n",
              "      <td>24.668000</td>\n",
              "      <td>51.602500</td>\n",
              "      <td>1462.000000</td>\n",
              "      <td>21.900000</td>\n",
              "      <td>24.400000</td>\n",
              "      <td>99.800000</td>\n",
              "      <td>25.300000</td>\n",
              "    </tr>\n",
              "    <tr>\n",
              "      <th>max</th>\n",
              "      <td>NaN</td>\n",
              "      <td>NaN</td>\n",
              "      <td>NaN</td>\n",
              "      <td>29.530000</td>\n",
              "      <td>60.110000</td>\n",
              "      <td>1467.000000</td>\n",
              "      <td>26.000000</td>\n",
              "      <td>27.400000</td>\n",
              "      <td>113.100000</td>\n",
              "      <td>25.300000</td>\n",
              "    </tr>\n",
              "  </tbody>\n",
              "</table>\n",
              "</div>\n",
              "      <button class=\"colab-df-convert\" onclick=\"convertToInteractive('df-dc2a71ea-ef8a-449b-b78b-9f0f7586bdc6')\"\n",
              "              title=\"Convert this dataframe to an interactive table.\"\n",
              "              style=\"display:none;\">\n",
              "        \n",
              "  <svg xmlns=\"http://www.w3.org/2000/svg\" height=\"24px\"viewBox=\"0 0 24 24\"\n",
              "       width=\"24px\">\n",
              "    <path d=\"M0 0h24v24H0V0z\" fill=\"none\"/>\n",
              "    <path d=\"M18.56 5.44l.94 2.06.94-2.06 2.06-.94-2.06-.94-.94-2.06-.94 2.06-2.06.94zm-11 1L8.5 8.5l.94-2.06 2.06-.94-2.06-.94L8.5 2.5l-.94 2.06-2.06.94zm10 10l.94 2.06.94-2.06 2.06-.94-2.06-.94-.94-2.06-.94 2.06-2.06.94z\"/><path d=\"M17.41 7.96l-1.37-1.37c-.4-.4-.92-.59-1.43-.59-.52 0-1.04.2-1.43.59L10.3 9.45l-7.72 7.72c-.78.78-.78 2.05 0 2.83L4 21.41c.39.39.9.59 1.41.59.51 0 1.02-.2 1.41-.59l7.78-7.78 2.81-2.81c.8-.78.8-2.07 0-2.86zM5.41 20L4 18.59l7.72-7.72 1.47 1.35L5.41 20z\"/>\n",
              "  </svg>\n",
              "      </button>\n",
              "      \n",
              "  <style>\n",
              "    .colab-df-container {\n",
              "      display:flex;\n",
              "      flex-wrap:wrap;\n",
              "      gap: 12px;\n",
              "    }\n",
              "\n",
              "    .colab-df-convert {\n",
              "      background-color: #E8F0FE;\n",
              "      border: none;\n",
              "      border-radius: 50%;\n",
              "      cursor: pointer;\n",
              "      display: none;\n",
              "      fill: #1967D2;\n",
              "      height: 32px;\n",
              "      padding: 0 0 0 0;\n",
              "      width: 32px;\n",
              "    }\n",
              "\n",
              "    .colab-df-convert:hover {\n",
              "      background-color: #E2EBFA;\n",
              "      box-shadow: 0px 1px 2px rgba(60, 64, 67, 0.3), 0px 1px 3px 1px rgba(60, 64, 67, 0.15);\n",
              "      fill: #174EA6;\n",
              "    }\n",
              "\n",
              "    [theme=dark] .colab-df-convert {\n",
              "      background-color: #3B4455;\n",
              "      fill: #D2E3FC;\n",
              "    }\n",
              "\n",
              "    [theme=dark] .colab-df-convert:hover {\n",
              "      background-color: #434B5C;\n",
              "      box-shadow: 0px 1px 3px 1px rgba(0, 0, 0, 0.15);\n",
              "      filter: drop-shadow(0px 1px 2px rgba(0, 0, 0, 0.3));\n",
              "      fill: #FFFFFF;\n",
              "    }\n",
              "  </style>\n",
              "\n",
              "      <script>\n",
              "        const buttonEl =\n",
              "          document.querySelector('#df-dc2a71ea-ef8a-449b-b78b-9f0f7586bdc6 button.colab-df-convert');\n",
              "        buttonEl.style.display =\n",
              "          google.colab.kernel.accessAllowed ? 'block' : 'none';\n",
              "\n",
              "        async function convertToInteractive(key) {\n",
              "          const element = document.querySelector('#df-dc2a71ea-ef8a-449b-b78b-9f0f7586bdc6');\n",
              "          const dataTable =\n",
              "            await google.colab.kernel.invokeFunction('convertToInteractive',\n",
              "                                                     [key], {});\n",
              "          if (!dataTable) return;\n",
              "\n",
              "          const docLinkHtml = 'Like what you see? Visit the ' +\n",
              "            '<a target=\"_blank\" href=https://colab.research.google.com/notebooks/data_table.ipynb>data table notebook</a>'\n",
              "            + ' to learn more about interactive tables.';\n",
              "          element.innerHTML = '';\n",
              "          dataTable['output_type'] = 'display_data';\n",
              "          await google.colab.output.renderOutput(dataTable, element);\n",
              "          const docLink = document.createElement('div');\n",
              "          docLink.innerHTML = docLinkHtml;\n",
              "          element.appendChild(docLink);\n",
              "        }\n",
              "      </script>\n",
              "    </div>\n",
              "  </div>\n",
              "  "
            ]
          },
          "metadata": {},
          "execution_count": 19
        }
      ],
      "source": [
        "data.describe(include=\"all\")"
      ]
    },
    {
      "cell_type": "markdown",
      "id": "bfa834d6",
      "metadata": {
        "id": "bfa834d6"
      },
      "source": [
        "Durch diesen Funktionsaufruf werden eine ganze Menge Kenngrößen ausgegeben, von denen wir an dieser Stelle nur einige näher beleuchten möchten. Unter ```count``` wird die Anzahl von nicht-fehlenden Werten angegeben (also von Werten, die nicht \"not a number\" bzw. ```NaN``` sind) und unter ```unique``` wird die Anzahl der Kategorien bei nominalen und ordinalen Daten angegeben. Während uns ```count``` einen Aufschluss über die Datenqualität gibt, liefert uns ```unique``` eigentlich keine zusätzliche Information im Vergleich zu unserer interaktiven Visualisierung. Interessanter ist die Angabe des arithmetischen Mittels ```mean```, der Standardabweichung ```std``` und des Medians ```50%```. Weitere Streuungsmaße wie die Varianz können bei Bedarf aus den ausgegebenen Kenngrößen einfach berechnet werden. Wählen Sie nun ein metrisches Merkmal aus, bei dem es einen Unterschied ≥ 1 zwischen dem arithmetischen Mittel und dem Median gibt. Überlegen Sie sich zuerst allein auf Basis der Vorlesung, was Gründe für den Unterschied sein könnten. Überprüfen Sie Ihre Vermutungen dann durch eine passende Visualisierung:"
      ]
    },
    {
      "cell_type": "code",
      "execution_count": null,
      "id": "28dbe3d9",
      "metadata": {
        "id": "28dbe3d9"
      },
      "outputs": [],
      "source": []
    },
    {
      "cell_type": "markdown",
      "id": "15a5eb01",
      "metadata": {
        "id": "15a5eb01"
      },
      "source": [
        "<h5>Der Explorationsdatensatz</h5>"
      ]
    },
    {
      "cell_type": "markdown",
      "id": "88f681d9",
      "metadata": {
        "id": "88f681d9"
      },
      "source": [
        "Wir hoffen, dass wir Sie bereits von den Fähigkeiten von pandas und Plotly für die explorative Datenanalyse überzeugen konnten. Sie haben gesehen, dass es für die Darstellung eines Säulen- oder Balkendiagramms oder eines Histogramms jeweils nur einer einzigen Zeile Code bedarf; auch Lage- und Streuungsmaße können mit nur einer einzigen Zeile Code ausgegeben werden. Richtig interessant wird es oft aber erst, wenn wir nach weiteren Mustern und Zusammenhängen in den Daten suchen. Dazu müssen wir uns mehr als nur ein Merkmal zur gleichen Zeit anschauen. Wir gehen im Folgenden davon aus, dass wir nach unserer explorativen Analyse noch eine gezielte Analyse zu interessanten Muster und Zusammenhängen planen. Um Aussagen über unsere Stichprobe hinaus treffen zu können, müssen wir unsere Erkenntnisse später auf einem unabhängigen Datensatz testen können und daher an dieser Stelle unsere Daten in einen Explorations- und einen Testdatensatz aufteilen. Wir nutzen dazu eine einfache Randomisierung. Wir wählen also mit der ```sample()```-Funktion einen bestimmten Bruchteil unserer Daten zufällig zum Explorieren aus, zum Beispiel 75% bzw. ```0.75```. Um eine reproduzierbare Aufteilung zu erhalten, fixieren wir zudem den [Startwert des Zufallszahlengenerators](https://de.wikipedia.org/wiki/Seed_key), zum Beispiel auf ```42```:"
      ]
    },
    {
      "cell_type": "code",
      "execution_count": 20,
      "id": "c60c47ca",
      "metadata": {
        "id": "c60c47ca"
      },
      "outputs": [],
      "source": [
        "exploration_data = data.sample(frac=0.75, random_state=42)\n",
        "# test_data = data.drop(exploration_data.index)"
      ]
    },
    {
      "cell_type": "markdown",
      "id": "6ac8e828",
      "metadata": {
        "id": "6ac8e828"
      },
      "source": [
        "<h5>Zusammenhang von Merkmalen</h5>"
      ]
    },
    {
      "cell_type": "markdown",
      "id": "c38d5cfd",
      "metadata": {
        "id": "c38d5cfd"
      },
      "source": [
        "Nachdem wir nun einen Explorationsdatensatz erstellt haben, können wir uns den Zusammenhang von Merkmalen für diesen Datensatz anschauen. Hierzu erstellen wir ein [Streudiagramm](https://plotly.github.io/plotly.py-docs/generated/plotly.express.scatter.html), zum Beispiel für die Stromaufnahme in Ampere und das Drehmoment in Newtonmeter:"
      ]
    },
    {
      "cell_type": "code",
      "execution_count": 21,
      "id": "cec99e68",
      "metadata": {
        "id": "cec99e68",
        "outputId": "f6dfe90a-6651-42f3-cc97-f6944af61b96",
        "colab": {
          "base_uri": "https://localhost:8080/",
          "height": 542
        }
      },
      "outputs": [
        {
          "output_type": "display_data",
          "data": {
            "text/html": [
              "<html>\n",
              "<head><meta charset=\"utf-8\" /></head>\n",
              "<body>\n",
              "    <div>            <script src=\"https://cdnjs.cloudflare.com/ajax/libs/mathjax/2.7.5/MathJax.js?config=TeX-AMS-MML_SVG\"></script><script type=\"text/javascript\">if (window.MathJax) {MathJax.Hub.Config({SVG: {font: \"STIX-Web\"}});}</script>                <script type=\"text/javascript\">window.PlotlyConfig = {MathJaxConfig: 'local'};</script>\n",
              "        <script src=\"https://cdn.plot.ly/plotly-2.8.3.min.js\"></script>                <div id=\"8d226e68-2bb3-43db-9227-e35cfd7504be\" class=\"plotly-graph-div\" style=\"height:525px; width:100%;\"></div>            <script type=\"text/javascript\">                                    window.PLOTLYENV=window.PLOTLYENV || {};                                    if (document.getElementById(\"8d226e68-2bb3-43db-9227-e35cfd7504be\")) {                    Plotly.newPlot(                        \"8d226e68-2bb3-43db-9227-e35cfd7504be\",                        [{\"hovertemplate\":\"Strom / A=%{x}<br>Drehmoment / Nm=%{y}<extra></extra>\",\"legendgroup\":\"\",\"marker\":{\"color\":\"#636efa\",\"symbol\":\"circle\"},\"mode\":\"markers\",\"name\":\"\",\"orientation\":\"v\",\"showlegend\":false,\"x\":[19.328,21.265,20.198,25.7,21.949,23.257,21.687,27.614,20.87,22.751,19.739,22.776,22.696,20.368,20.649,20.079,20.462,19.492,19.703,25.844,19.756,18.86,20.519,19.829,25.472,23.401,26.36,19.615,25.59,25.316,21.051,29.129,23.281,28.278,22.731,21.243,22.667,20.642,23.233,22.52,24.273,22.562,23.023,21.115,20.074,20.462,26.122,20.081,20.331,19.903,19.23,22.437,21.031,19.955,21.357,20.909,22.078,19.847,23.06,20.237,22.553,19.555,20.514,21.431,22.607,19.174,21.114,19.858,22.859,22.523,22.244,25.759,24.902,21.452,19.794,20.628,19.221,27.926,23.615,20.859,21.537,21.219,21.269,21.84,28.789,25.85,28.423,23.347,22.831,28.184,25.216,18.805,21.104,23.626,25.693,20.94,20.408,19.451,25.038,20.452,21.151,20.765,22.434,22.817,25.728,26.258,23.121,20.708,20.319,28.085,27.975,27.885,20.102,26.334,19.791,19.41,21.367,22.176,21.824,18.714,25.745,19.642,19.402,22.713,20.768,22.215,23.624,20.991,20.242,25.085,26.334,22.614,null,22.347,23.944,20.399,23.323,21.112,27.73,20.844,20.77,21.02,19.93,19.587,20.684,20.57,20.915,22.33,26.044,26.441,26.005,21.918,20.194,21.913,22.719,25.985,26.209,23.306,26.699,19.379,24.402,22.326,21.87,25.422,22.777,23.159,26.643,20.413,21.884,24.942,21.129,26.033,20.774,25.549,22.406,25.043,20.921,19.856,22.534,23.192,25.59,26.044,22.749,22.622,22.065,26.394,25.842,20.443,21.887,19.12,27.259,28.313,25.831,20.232,26.166,22.925,19.341,26.714,27.938,26.097,20.681,20.935,23.333,23.181,19.447,21.877,22.875,19.884,22.298,23.554,26.521,25.527,26.582,25.852,25.895,20.613,19.591,19.457,22.727,24.829,22.684,25.506,22.388,20.208,19.131,25.581,23.513,21.875,23.027,25.98,24.963,23.154,20.371,19.898,21.245,21.812,19.626,19.577,24.327,19.733,28.145,19.283,19.356,23.333,25.415,22.843,19.772,21.506,19.902,22.117,22.55,27.104,19.888,22.746,21.28,29.53,22.453,21.116,23.12,21.426,25.014,26.208,27.201,22.443,22.718,21.585,25.798,25.388,21.55,21.057,20.773,20.398,29.328,21.948,22.785,26.195,20.791,20.336,23.025,20.109,21.378,23.832,28.324,26.524,19.523,20.441,19.942,19.644,20.531,18.221,21.911,20.884,21.337,26.063,21.187,19.623,22.963,22.349,23.021,25.478,22.363,24.741,20.296,23.359,22.211,28.395,25.388,22.632,21.753,20.21,22.599,24.573,23.636,22.138,26.167,25.937,20.532,22.842,27.742,21.973,19.0,20.405,25.468,22.444,25.54,22.443,19.245,21.968,19.523,21.132,20.009,21.2,20.021,20.486,22.782,22.379,20.516,25.546,21.621,20.16,24.499,25.892,25.968,20.543,19.539,26.209,19.159,19.917,19.633,23.21,19.712,22.125,23.455,24.66,24.908,22.218,26.72,25.261,22.791,19.651,20.723,22.514,22.012,18.712,22.465,26.049,20.814,26.639,23.513,19.442,25.292,22.735,20.456,24.675,22.786,21.539,22.398,19.955,21.199,27.154,25.989,19.098,19.825,26.094,21.031,22.587,21.164,25.872,23.02,23.428,19.354,22.58,25.561,19.723,22.213,26.312,25.485,18.774,20.82,21.879,25.944,20.939,23.194,21.299,20.823,23.053,19.685,24.927,23.376,20.719,24.575,21.546,20.605,25.54,21.268,19.296,25.515,24.996,22.008,22.284,19.385,20.956,22.341,22.677,25.61,20.314,24.787,27.957,19.084,22.699,22.133,27.689,26.475,19.308,19.853,26.221,23.544,20.47,20.05,20.856,22.242,26.177,27.527,22.931,18.932,22.037,27.056,21.483,20.474,21.22,20.841,19.714,19.417,21.365,22.511,19.565,22.569,20.466,19.809,23.153,20.208,19.401,19.517,25.129,22.208,22.334,23.201,21.518,24.944,28.583,25.769,22.349,19.568,25.821,21.144,26.335,19.941,25.727,23.001,25.544,25.817,21.479,20.524,19.802,20.357,20.489,21.269,23.229,28.946,26.32,26.535,22.102,19.691,21.174,22.696,21.146,21.862,21.983,22.168,20.706,24.395,21.045,19.381,26.393,25.599,26.365,22.371,19.723,22.775,20.66,22.06,19.889,23.012,22.419,21.169,21.659,22.332,25.514,20.463,20.541,28.426,22.077,20.468,23.239,20.935,22.63,20.381,26.343,28.754,22.459,21.587,20.936,22.347,27.671,19.18,22.905,20.322,21.128,25.823,21.276,22.385,22.892,19.139,23.796,19.485,26.46,22.911,25.728,22.336,22.38,25.135,19.64,21.502,20.338,19.458,21.807,22.982,19.28,19.198,24.825,25.352,19.404,20.988,27.927,24.723,19.033,24.898,22.933,19.983,22.79,19.657,25.698,19.723,20.413,22.616,19.367,20.556,24.278,19.789,22.372,22.409,25.683,21.798,21.476,20.744,19.828,28.311,22.897,20.814,20.178,19.574,20.921,19.943,25.586,22.018,28.187,19.319,20.592,21.107,25.953,19.752,27.2,19.655,21.182,20.286,23.182,22.832,22.778,28.625,20.58,20.365,20.743,25.976,22.59,23.782,23.311,26.479,19.336,20.66,25.079,20.378,21.051,22.733,27.651,25.2,19.666,22.842,20.22,25.016,21.221,22.339,25.896,22.778,20.879,18.703,19.608,25.289,19.262,22.24,21.415,21.15,19.957,23.126,19.465,19.951,20.976,24.661,21.231,20.464,25.414,25.184,23.364,21.845,19.525,19.776,22.671,23.491,20.171,20.125,24.976,21.41,24.529,20.123,20.957,24.695,25.003,21.294,20.646,21.563,21.802,26.164,24.875,22.537,25.372,20.238,19.155,22.156,23.093,24.719,22.407,23.836,25.92,19.818,22.255,23.275,26.164,23.173,20.43,20.799,26.142,20.825,24.119,26.03,21.172,20.877,22.734,19.371,22.522,21.827,22.745,19.632,20.992,25.672,27.749,19.238,25.915,22.611,23.311,19.625,20.809,19.67,25.553,20.75,24.038,21.124,18.835,19.774,19.886,19.888,25.749,22.553,20.994,20.315,21.377,26.349,25.375,22.601,23.244,19.614,20.005,23.128,21.327,20.079,22.75,23.507,19.747,22.288,21.879,25.918,19.322,21.03,21.625,23.232,25.795,25.455,22.299,22.801,26.118,20.283,20.514],\"xaxis\":\"x\",\"y\":[43.92,43.37,45.96,52.28,44.61,47.39,44.2,56.1,46.64,51.73,44.94,46.32,46.24,46.41,46.26,45.65,46.56,44.28,44.71,52.57,44.91,42.78,46.72,44.96,51.84,47.63,53.71,44.62,52.23,51.65,47.73,59.18,47.44,57.56,46.29,47.5,51.57,46.9,52.06,50.37,49.51,45.86,46.8,47.15,45.64,45.69,53.06,45.59,46.18,45.12,43.79,45.63,47.06,45.45,47.61,46.85,50.31,45.14,46.95,46.05,45.97,44.43,45.93,48.65,51.4,43.63,47.97,45.1,51.06,45.88,50.55,52.49,50.67,47.81,45.02,46.9,43.69,56.84,48.17,47.37,43.77,47.41,48.28,49.7,58.6,52.64,57.85,47.69,51.93,57.37,51.35,42.76,47.22,53.6,52.34,47.56,45.68,44.29,50.96,46.38,47.28,47.19,50.18,46.35,52.35,53.59,51.64,46.97,46.21,57.36,56.93,56.83,45.75,53.63,44.96,44.24,48.59,49.51,48.78,42.58,52.4,44.59,44.03,51.54,46.37,49.67,48.02,47.01,46.05,51.15,53.6,46.07,48.07,49.99,48.75,46.41,47.62,47.2,56.4,46.59,46.51,42.8,45.26,44.55,47.02,46.0,46.78,45.46,53.03,53.85,52.88,48.9,45.92,44.59,50.9,52.99,53.45,52.01,54.42,44.03,49.65,50.78,44.6,51.71,51.79,51.75,54.32,45.69,44.56,50.83,47.24,52.95,47.18,51.9,51.0,50.99,47.5,45.14,51.22,51.88,52.03,52.92,46.32,46.01,50.22,53.68,52.64,46.46,49.06,43.58,55.63,57.59,52.6,45.98,53.33,46.69,44.02,54.47,56.77,53.12,47.02,42.68,47.55,51.78,44.25,44.44,46.59,45.21,45.33,52.61,53.96,52.1,54.2,52.78,52.7,46.08,44.58,44.33,50.81,50.45,50.7,52.01,45.59,45.97,43.54,52.0,48.0,49.75,51.49,52.83,50.83,47.19,45.46,45.1,47.51,44.4,44.57,44.5,49.59,44.84,57.3,43.84,43.94,52.25,51.82,50.99,44.85,48.91,45.29,45.1,50.4,55.19,45.24,50.89,47.52,60.11,45.72,47.2,47.06,48.64,50.91,53.31,55.47,51.03,46.32,48.34,52.57,51.64,43.86,47.09,47.15,46.37,59.86,49.81,46.4,53.29,46.44,46.24,51.43,45.69,47.76,48.5,57.66,53.94,44.29,46.57,45.32,44.77,46.64,41.43,49.72,46.66,47.71,53.04,47.25,44.56,46.71,45.51,46.85,51.91,45.43,50.28,46.04,47.59,45.31,57.92,51.73,46.08,44.27,45.85,46.08,50.07,48.02,45.17,53.29,52.79,46.71,51.14,56.52,50.03,43.22,46.4,51.79,50.96,52.07,51.07,43.76,50.01,44.3,48.1,45.53,47.44,45.52,46.51,51.79,50.82,46.01,52.08,44.05,45.74,49.99,52.67,52.8,45.98,44.46,53.32,43.64,45.36,44.62,51.94,44.79,50.16,47.85,50.31,50.66,50.38,54.44,51.37,46.39,44.74,47.06,50.37,49.21,42.59,50.06,53.15,47.32,54.3,47.91,44.16,51.52,46.3,46.51,50.31,50.92,43.81,45.53,45.34,48.13,55.34,52.92,43.31,44.99,53.18,47.07,45.89,47.38,52.72,52.5,53.25,44.08,51.41,52.13,44.93,49.74,53.58,51.86,42.75,47.39,44.58,52.81,46.82,52.69,47.54,46.68,46.89,44.74,50.75,47.51,47.18,50.09,43.9,45.97,52.07,47.52,43.86,51.99,50.83,44.93,50.64,44.06,47.61,45.51,51.57,52.05,46.21,50.53,56.93,43.31,50.73,50.32,56.44,53.97,43.84,45.08,53.46,48.03,46.51,45.6,46.55,49.79,53.39,56.12,51.32,42.99,44.9,55.14,48.91,46.54,48.23,47.48,44.77,44.19,48.63,45.83,44.57,45.94,46.51,44.99,47.07,45.94,44.16,44.42,51.13,45.14,50.94,51.82,48.92,50.85,58.37,52.44,50.79,44.49,52.7,48.03,53.67,45.34,52.4,52.23,52.01,52.66,48.79,46.69,44.98,46.29,46.59,48.26,47.24,58.91,53.49,54.02,44.98,44.83,47.34,50.8,47.25,44.6,49.93,50.32,46.38,49.67,47.84,44.01,53.52,52.13,53.64,49.98,44.93,50.92,46.28,44.88,45.09,51.44,50.92,47.27,49.21,49.89,52.09,46.57,46.67,57.89,50.19,46.45,47.38,47.59,46.07,46.29,53.69,58.56,51.06,43.94,47.58,45.56,56.27,43.51,51.13,45.55,47.2,52.66,48.29,50.06,46.64,43.48,54.08,44.26,53.89,52.19,52.42,45.52,50.93,51.16,44.64,48.03,46.28,44.26,49.52,51.53,43.88,43.69,50.54,51.49,44.1,42.72,56.89,50.27,43.16,50.64,46.8,45.5,46.44,44.76,52.35,44.65,46.38,51.54,44.08,46.76,49.49,44.93,50.83,50.97,52.29,44.4,43.75,46.39,45.09,57.7,52.15,46.58,45.76,44.49,46.78,45.31,51.97,44.91,57.45,43.93,46.82,47.2,52.76,44.97,55.41,44.75,47.32,46.21,52.72,46.5,51.71,58.43,46.03,46.31,47.12,52.91,46.0,48.46,52.94,53.93,43.94,46.89,51.15,46.4,47.9,51.79,56.2,51.33,44.68,51.1,46.07,50.98,47.46,50.77,52.65,50.91,47.46,42.53,44.48,51.58,43.63,45.3,47.75,47.23,45.4,47.19,44.25,45.38,47.56,50.31,47.51,45.73,51.78,51.23,47.58,44.44,44.41,45.01,46.13,47.84,45.87,45.04,50.87,47.79,49.95,45.67,46.82,50.33,50.97,43.37,46.96,48.3,44.37,53.32,50.68,50.45,51.59,45.28,43.59,45.13,47.0,50.38,50.92,48.61,52.72,45.07,49.69,47.4,53.19,47.17,46.5,47.28,53.3,47.38,49.01,53.0,47.99,47.5,46.45,44.07,50.35,49.58,51.75,44.65,47.63,52.37,56.49,43.76,52.86,46.05,52.05,44.59,47.24,44.73,52.1,46.27,48.99,43.0,42.88,44.89,45.2,45.22,52.46,50.44,46.96,46.19,43.57,53.6,51.66,46.06,47.3,44.56,45.59,51.77,48.6,45.49,51.62,52.58,44.87,49.87,48.88,52.8,43.88,47.75,48.31,52.09,52.44,51.87,50.61,46.49,53.16,46.11,45.86],\"yaxis\":\"y\",\"type\":\"scatter\"}],                        {\"template\":{\"data\":{\"bar\":[{\"error_x\":{\"color\":\"#2a3f5f\"},\"error_y\":{\"color\":\"#2a3f5f\"},\"marker\":{\"line\":{\"color\":\"#E5ECF6\",\"width\":0.5},\"pattern\":{\"fillmode\":\"overlay\",\"size\":10,\"solidity\":0.2}},\"type\":\"bar\"}],\"barpolar\":[{\"marker\":{\"line\":{\"color\":\"#E5ECF6\",\"width\":0.5},\"pattern\":{\"fillmode\":\"overlay\",\"size\":10,\"solidity\":0.2}},\"type\":\"barpolar\"}],\"carpet\":[{\"aaxis\":{\"endlinecolor\":\"#2a3f5f\",\"gridcolor\":\"white\",\"linecolor\":\"white\",\"minorgridcolor\":\"white\",\"startlinecolor\":\"#2a3f5f\"},\"baxis\":{\"endlinecolor\":\"#2a3f5f\",\"gridcolor\":\"white\",\"linecolor\":\"white\",\"minorgridcolor\":\"white\",\"startlinecolor\":\"#2a3f5f\"},\"type\":\"carpet\"}],\"choropleth\":[{\"colorbar\":{\"outlinewidth\":0,\"ticks\":\"\"},\"type\":\"choropleth\"}],\"contour\":[{\"colorbar\":{\"outlinewidth\":0,\"ticks\":\"\"},\"colorscale\":[[0.0,\"#0d0887\"],[0.1111111111111111,\"#46039f\"],[0.2222222222222222,\"#7201a8\"],[0.3333333333333333,\"#9c179e\"],[0.4444444444444444,\"#bd3786\"],[0.5555555555555556,\"#d8576b\"],[0.6666666666666666,\"#ed7953\"],[0.7777777777777778,\"#fb9f3a\"],[0.8888888888888888,\"#fdca26\"],[1.0,\"#f0f921\"]],\"type\":\"contour\"}],\"contourcarpet\":[{\"colorbar\":{\"outlinewidth\":0,\"ticks\":\"\"},\"type\":\"contourcarpet\"}],\"heatmap\":[{\"colorbar\":{\"outlinewidth\":0,\"ticks\":\"\"},\"colorscale\":[[0.0,\"#0d0887\"],[0.1111111111111111,\"#46039f\"],[0.2222222222222222,\"#7201a8\"],[0.3333333333333333,\"#9c179e\"],[0.4444444444444444,\"#bd3786\"],[0.5555555555555556,\"#d8576b\"],[0.6666666666666666,\"#ed7953\"],[0.7777777777777778,\"#fb9f3a\"],[0.8888888888888888,\"#fdca26\"],[1.0,\"#f0f921\"]],\"type\":\"heatmap\"}],\"heatmapgl\":[{\"colorbar\":{\"outlinewidth\":0,\"ticks\":\"\"},\"colorscale\":[[0.0,\"#0d0887\"],[0.1111111111111111,\"#46039f\"],[0.2222222222222222,\"#7201a8\"],[0.3333333333333333,\"#9c179e\"],[0.4444444444444444,\"#bd3786\"],[0.5555555555555556,\"#d8576b\"],[0.6666666666666666,\"#ed7953\"],[0.7777777777777778,\"#fb9f3a\"],[0.8888888888888888,\"#fdca26\"],[1.0,\"#f0f921\"]],\"type\":\"heatmapgl\"}],\"histogram\":[{\"marker\":{\"pattern\":{\"fillmode\":\"overlay\",\"size\":10,\"solidity\":0.2}},\"type\":\"histogram\"}],\"histogram2d\":[{\"colorbar\":{\"outlinewidth\":0,\"ticks\":\"\"},\"colorscale\":[[0.0,\"#0d0887\"],[0.1111111111111111,\"#46039f\"],[0.2222222222222222,\"#7201a8\"],[0.3333333333333333,\"#9c179e\"],[0.4444444444444444,\"#bd3786\"],[0.5555555555555556,\"#d8576b\"],[0.6666666666666666,\"#ed7953\"],[0.7777777777777778,\"#fb9f3a\"],[0.8888888888888888,\"#fdca26\"],[1.0,\"#f0f921\"]],\"type\":\"histogram2d\"}],\"histogram2dcontour\":[{\"colorbar\":{\"outlinewidth\":0,\"ticks\":\"\"},\"colorscale\":[[0.0,\"#0d0887\"],[0.1111111111111111,\"#46039f\"],[0.2222222222222222,\"#7201a8\"],[0.3333333333333333,\"#9c179e\"],[0.4444444444444444,\"#bd3786\"],[0.5555555555555556,\"#d8576b\"],[0.6666666666666666,\"#ed7953\"],[0.7777777777777778,\"#fb9f3a\"],[0.8888888888888888,\"#fdca26\"],[1.0,\"#f0f921\"]],\"type\":\"histogram2dcontour\"}],\"mesh3d\":[{\"colorbar\":{\"outlinewidth\":0,\"ticks\":\"\"},\"type\":\"mesh3d\"}],\"parcoords\":[{\"line\":{\"colorbar\":{\"outlinewidth\":0,\"ticks\":\"\"}},\"type\":\"parcoords\"}],\"pie\":[{\"automargin\":true,\"type\":\"pie\"}],\"scatter\":[{\"marker\":{\"colorbar\":{\"outlinewidth\":0,\"ticks\":\"\"}},\"type\":\"scatter\"}],\"scatter3d\":[{\"line\":{\"colorbar\":{\"outlinewidth\":0,\"ticks\":\"\"}},\"marker\":{\"colorbar\":{\"outlinewidth\":0,\"ticks\":\"\"}},\"type\":\"scatter3d\"}],\"scattercarpet\":[{\"marker\":{\"colorbar\":{\"outlinewidth\":0,\"ticks\":\"\"}},\"type\":\"scattercarpet\"}],\"scattergeo\":[{\"marker\":{\"colorbar\":{\"outlinewidth\":0,\"ticks\":\"\"}},\"type\":\"scattergeo\"}],\"scattergl\":[{\"marker\":{\"colorbar\":{\"outlinewidth\":0,\"ticks\":\"\"}},\"type\":\"scattergl\"}],\"scattermapbox\":[{\"marker\":{\"colorbar\":{\"outlinewidth\":0,\"ticks\":\"\"}},\"type\":\"scattermapbox\"}],\"scatterpolar\":[{\"marker\":{\"colorbar\":{\"outlinewidth\":0,\"ticks\":\"\"}},\"type\":\"scatterpolar\"}],\"scatterpolargl\":[{\"marker\":{\"colorbar\":{\"outlinewidth\":0,\"ticks\":\"\"}},\"type\":\"scatterpolargl\"}],\"scatterternary\":[{\"marker\":{\"colorbar\":{\"outlinewidth\":0,\"ticks\":\"\"}},\"type\":\"scatterternary\"}],\"surface\":[{\"colorbar\":{\"outlinewidth\":0,\"ticks\":\"\"},\"colorscale\":[[0.0,\"#0d0887\"],[0.1111111111111111,\"#46039f\"],[0.2222222222222222,\"#7201a8\"],[0.3333333333333333,\"#9c179e\"],[0.4444444444444444,\"#bd3786\"],[0.5555555555555556,\"#d8576b\"],[0.6666666666666666,\"#ed7953\"],[0.7777777777777778,\"#fb9f3a\"],[0.8888888888888888,\"#fdca26\"],[1.0,\"#f0f921\"]],\"type\":\"surface\"}],\"table\":[{\"cells\":{\"fill\":{\"color\":\"#EBF0F8\"},\"line\":{\"color\":\"white\"}},\"header\":{\"fill\":{\"color\":\"#C8D4E3\"},\"line\":{\"color\":\"white\"}},\"type\":\"table\"}]},\"layout\":{\"annotationdefaults\":{\"arrowcolor\":\"#2a3f5f\",\"arrowhead\":0,\"arrowwidth\":1},\"autotypenumbers\":\"strict\",\"coloraxis\":{\"colorbar\":{\"outlinewidth\":0,\"ticks\":\"\"}},\"colorscale\":{\"diverging\":[[0,\"#8e0152\"],[0.1,\"#c51b7d\"],[0.2,\"#de77ae\"],[0.3,\"#f1b6da\"],[0.4,\"#fde0ef\"],[0.5,\"#f7f7f7\"],[0.6,\"#e6f5d0\"],[0.7,\"#b8e186\"],[0.8,\"#7fbc41\"],[0.9,\"#4d9221\"],[1,\"#276419\"]],\"sequential\":[[0.0,\"#0d0887\"],[0.1111111111111111,\"#46039f\"],[0.2222222222222222,\"#7201a8\"],[0.3333333333333333,\"#9c179e\"],[0.4444444444444444,\"#bd3786\"],[0.5555555555555556,\"#d8576b\"],[0.6666666666666666,\"#ed7953\"],[0.7777777777777778,\"#fb9f3a\"],[0.8888888888888888,\"#fdca26\"],[1.0,\"#f0f921\"]],\"sequentialminus\":[[0.0,\"#0d0887\"],[0.1111111111111111,\"#46039f\"],[0.2222222222222222,\"#7201a8\"],[0.3333333333333333,\"#9c179e\"],[0.4444444444444444,\"#bd3786\"],[0.5555555555555556,\"#d8576b\"],[0.6666666666666666,\"#ed7953\"],[0.7777777777777778,\"#fb9f3a\"],[0.8888888888888888,\"#fdca26\"],[1.0,\"#f0f921\"]]},\"colorway\":[\"#636efa\",\"#EF553B\",\"#00cc96\",\"#ab63fa\",\"#FFA15A\",\"#19d3f3\",\"#FF6692\",\"#B6E880\",\"#FF97FF\",\"#FECB52\"],\"font\":{\"color\":\"#2a3f5f\"},\"geo\":{\"bgcolor\":\"white\",\"lakecolor\":\"white\",\"landcolor\":\"#E5ECF6\",\"showlakes\":true,\"showland\":true,\"subunitcolor\":\"white\"},\"hoverlabel\":{\"align\":\"left\"},\"hovermode\":\"closest\",\"mapbox\":{\"style\":\"light\"},\"paper_bgcolor\":\"white\",\"plot_bgcolor\":\"#E5ECF6\",\"polar\":{\"angularaxis\":{\"gridcolor\":\"white\",\"linecolor\":\"white\",\"ticks\":\"\"},\"bgcolor\":\"#E5ECF6\",\"radialaxis\":{\"gridcolor\":\"white\",\"linecolor\":\"white\",\"ticks\":\"\"}},\"scene\":{\"xaxis\":{\"backgroundcolor\":\"#E5ECF6\",\"gridcolor\":\"white\",\"gridwidth\":2,\"linecolor\":\"white\",\"showbackground\":true,\"ticks\":\"\",\"zerolinecolor\":\"white\"},\"yaxis\":{\"backgroundcolor\":\"#E5ECF6\",\"gridcolor\":\"white\",\"gridwidth\":2,\"linecolor\":\"white\",\"showbackground\":true,\"ticks\":\"\",\"zerolinecolor\":\"white\"},\"zaxis\":{\"backgroundcolor\":\"#E5ECF6\",\"gridcolor\":\"white\",\"gridwidth\":2,\"linecolor\":\"white\",\"showbackground\":true,\"ticks\":\"\",\"zerolinecolor\":\"white\"}},\"shapedefaults\":{\"line\":{\"color\":\"#2a3f5f\"}},\"ternary\":{\"aaxis\":{\"gridcolor\":\"white\",\"linecolor\":\"white\",\"ticks\":\"\"},\"baxis\":{\"gridcolor\":\"white\",\"linecolor\":\"white\",\"ticks\":\"\"},\"bgcolor\":\"#E5ECF6\",\"caxis\":{\"gridcolor\":\"white\",\"linecolor\":\"white\",\"ticks\":\"\"}},\"title\":{\"x\":0.05},\"xaxis\":{\"automargin\":true,\"gridcolor\":\"white\",\"linecolor\":\"white\",\"ticks\":\"\",\"title\":{\"standoff\":15},\"zerolinecolor\":\"white\",\"zerolinewidth\":2},\"yaxis\":{\"automargin\":true,\"gridcolor\":\"white\",\"linecolor\":\"white\",\"ticks\":\"\",\"title\":{\"standoff\":15},\"zerolinecolor\":\"white\",\"zerolinewidth\":2}}},\"xaxis\":{\"anchor\":\"y\",\"domain\":[0.0,1.0],\"title\":{\"text\":\"Strom / A\"}},\"yaxis\":{\"anchor\":\"x\",\"domain\":[0.0,1.0],\"title\":{\"text\":\"Drehmoment / Nm\"}},\"legend\":{\"tracegroupgap\":0},\"margin\":{\"t\":60}},                        {\"responsive\": true}                    ).then(function(){\n",
              "                            \n",
              "var gd = document.getElementById('8d226e68-2bb3-43db-9227-e35cfd7504be');\n",
              "var x = new MutationObserver(function (mutations, observer) {{\n",
              "        var display = window.getComputedStyle(gd).display;\n",
              "        if (!display || display === 'none') {{\n",
              "            console.log([gd, 'removed!']);\n",
              "            Plotly.purge(gd);\n",
              "            observer.disconnect();\n",
              "        }}\n",
              "}});\n",
              "\n",
              "// Listen for the removal of the full notebook cells\n",
              "var notebookContainer = gd.closest('#notebook-container');\n",
              "if (notebookContainer) {{\n",
              "    x.observe(notebookContainer, {childList: true});\n",
              "}}\n",
              "\n",
              "// Listen for the clearing of the current output cell\n",
              "var outputEl = gd.closest('.output');\n",
              "if (outputEl) {{\n",
              "    x.observe(outputEl, {childList: true});\n",
              "}}\n",
              "\n",
              "                        })                };                            </script>        </div>\n",
              "</body>\n",
              "</html>"
            ]
          },
          "metadata": {}
        }
      ],
      "source": [
        "exploration_data.plot(kind=\"scatter\", x=\"Strom / A\", y=\"Drehmoment / Nm\")"
      ]
    },
    {
      "cell_type": "markdown",
      "id": "08d5a3fa",
      "metadata": {
        "id": "08d5a3fa"
      },
      "source": [
        "Man kann in dem Streudiagramm gut sehen, dass das Drehmoment steigt, wenn die Stromaufnahme steigt - und zwar linear. Genausogut kann man natürlich sagen, dass die Stromaufnahme steigt, wenn das Drehmoment steigt. Das Streudiagramm erlaubt immerhin keine Aussage über die Ursache-Wirkung-Beziehung der Merkmale. Zudem kann man einen Ausreißer in der linken unteren Ecke des Diagramms vermuten. Interessant ist außerdem, dass man ganz deutlich drei Kategorien bzw. gerade Linien erkennen kann. Da es in unserem Datensatz zwei Merkmale mit drei klaren Kategorien gibt, nämlich ```Maschine``` und ```Mode```, wollen wir als nächstes untersuchen, ob der lineare Zusammenhang zwischen Stromaufnahme und Drehmoment vielleicht von den verschiedenen Maschinen bzw. Betriebsmodi abhängt. Dazu nutzen wir das ```color```-Argument, um den Kategorien eines dritten Merkmals verschiedene Farben zuzuweisen:"
      ]
    },
    {
      "cell_type": "code",
      "execution_count": 22,
      "id": "e2b550d9",
      "metadata": {
        "id": "e2b550d9",
        "outputId": "83c14290-a438-411e-e7e3-7288b0eb68c6",
        "colab": {
          "base_uri": "https://localhost:8080/",
          "height": 542
        }
      },
      "outputs": [
        {
          "output_type": "display_data",
          "data": {
            "text/html": [
              "<html>\n",
              "<head><meta charset=\"utf-8\" /></head>\n",
              "<body>\n",
              "    <div>            <script src=\"https://cdnjs.cloudflare.com/ajax/libs/mathjax/2.7.5/MathJax.js?config=TeX-AMS-MML_SVG\"></script><script type=\"text/javascript\">if (window.MathJax) {MathJax.Hub.Config({SVG: {font: \"STIX-Web\"}});}</script>                <script type=\"text/javascript\">window.PlotlyConfig = {MathJaxConfig: 'local'};</script>\n",
              "        <script src=\"https://cdn.plot.ly/plotly-2.8.3.min.js\"></script>                <div id=\"306ae439-b0d3-43ac-84b8-5149cb15fc3f\" class=\"plotly-graph-div\" style=\"height:525px; width:100%;\"></div>            <script type=\"text/javascript\">                                    window.PLOTLYENV=window.PLOTLYENV || {};                                    if (document.getElementById(\"306ae439-b0d3-43ac-84b8-5149cb15fc3f\")) {                    Plotly.newPlot(                        \"306ae439-b0d3-43ac-84b8-5149cb15fc3f\",                        [{\"hovertemplate\":\"Mode=1.0<br>Strom / A=%{x}<br>Drehmoment / Nm=%{y}<extra></extra>\",\"legendgroup\":\"1.0\",\"marker\":{\"color\":\"#636efa\",\"symbol\":\"circle\"},\"mode\":\"markers\",\"name\":\"1.0\",\"orientation\":\"v\",\"showlegend\":true,\"x\":[19.328,21.265,20.198,21.949,21.687,19.739,20.462,19.492,19.703,19.756,18.86,19.829,19.615,23.023,20.074,20.081,19.903,19.23,22.437,19.955,19.847,20.237,19.555,19.174,19.858,22.523,19.794,20.628,19.221,21.537,18.805,19.451,20.102,19.791,19.41,18.714,19.642,19.402,20.242,21.02,19.93,19.587,20.194,21.913,19.379,21.87,21.884,19.856,19.12,19.341,19.447,21.877,19.884,19.457,20.208,19.131,19.898,21.812,19.626,19.577,19.733,19.283,19.356,19.772,19.902,22.117,19.888,22.453,21.55,20.398,20.109,19.523,20.441,19.942,19.644,18.221,19.623,22.349,20.296,21.753,20.21,22.599,22.138,20.532,19.0,19.245,19.523,20.009,20.021,20.486,21.621,20.16,19.539,19.159,19.917,19.633,19.712,19.651,20.723,18.712,19.442,20.456,21.539,22.398,19.955,19.098,19.825,22.587,19.354,19.723,18.774,19.685,21.546,19.296,22.008,19.385,20.314,19.084,19.308,19.853,20.47,18.932,22.037,19.714,19.417,19.565,22.569,19.809,20.208,19.401,19.517,19.568,19.941,20.524,19.802,20.357,22.102,19.691,21.862,19.381,19.723,22.06,19.889,20.463,20.381,21.587,19.18,19.139,19.485,22.336,19.64,19.458,19.28,19.198,19.404,20.988,19.033,19.983,19.657,19.723,19.367,19.789,21.798,21.476,20.178,19.574,22.018,19.752,19.655,20.286,22.832,20.743,19.336,19.666,18.703,19.608,19.262,22.24,19.957,19.465,19.951,21.845,19.525,19.776,22.671,20.123,21.294,21.802,19.155,19.818,19.371,19.632,19.238,22.611,19.625,19.67,21.124,18.835,19.774,19.888,20.315,21.377,19.614,20.005,20.079,19.747,19.322,20.283],\"xaxis\":\"x\",\"y\":[43.92,43.37,45.96,44.61,44.2,44.94,46.56,44.28,44.71,44.91,42.78,44.96,44.62,46.8,45.64,45.59,45.12,43.79,45.63,45.45,45.14,46.05,44.43,43.63,45.1,45.88,45.02,46.9,43.69,43.77,42.76,44.29,45.75,44.96,44.24,42.58,44.59,44.03,46.05,42.8,45.26,44.55,45.92,44.59,44.03,44.6,44.56,45.14,43.58,44.02,44.25,44.44,45.21,44.33,45.97,43.54,45.1,44.4,44.57,44.5,44.84,43.84,43.94,44.85,45.29,45.1,45.24,45.72,43.86,46.37,45.69,44.29,46.57,45.32,44.77,41.43,44.56,45.51,46.04,44.27,45.85,46.08,45.17,46.71,43.22,43.76,44.3,45.53,45.52,46.51,44.05,45.74,44.46,43.64,45.36,44.62,44.79,44.74,47.06,42.59,44.16,46.51,43.81,45.53,45.34,43.31,44.99,45.89,44.08,44.93,42.75,44.74,43.9,43.86,44.93,44.06,46.21,43.31,43.84,45.08,46.51,42.99,44.9,44.77,44.19,44.57,45.94,44.99,45.94,44.16,44.42,44.49,45.34,46.69,44.98,46.29,44.98,44.83,44.6,44.01,44.93,44.88,45.09,46.57,46.29,43.94,43.51,43.48,44.26,45.52,44.64,44.26,43.88,43.69,44.1,42.72,43.16,45.5,44.76,44.65,44.08,44.93,44.4,43.75,45.76,44.49,44.91,44.97,44.75,46.21,46.5,47.12,43.94,44.68,42.53,44.48,43.63,45.3,45.4,44.25,45.38,44.44,44.41,45.01,46.13,45.67,43.37,44.37,43.59,45.07,44.07,44.65,43.76,46.05,44.59,44.73,43.0,42.88,44.89,45.22,46.19,43.57,44.56,45.59,45.49,44.87,43.88,46.11],\"yaxis\":\"y\",\"type\":\"scatter\"},{\"hovertemplate\":\"Mode=3.0<br>Strom / A=%{x}<br>Drehmoment / Nm=%{y}<extra></extra>\",\"legendgroup\":\"3.0\",\"marker\":{\"color\":\"#EF553B\",\"symbol\":\"circle\"},\"mode\":\"markers\",\"name\":\"3.0\",\"orientation\":\"v\",\"showlegend\":true,\"x\":[25.7,27.614,25.844,26.36,25.59,25.316,29.129,28.278,25.759,27.926,28.789,25.85,28.423,28.184,25.216,25.693,25.038,25.728,26.258,28.085,27.975,27.885,26.334,26.334,27.73,26.044,26.441,26.005,25.985,26.209,26.699,26.643,25.549,25.59,26.044,26.394,27.259,28.313,25.831,26.166,26.714,27.938,26.097,26.521,25.527,26.582,25.852,25.895,25.581,25.98,24.963,28.145,27.104,29.53,26.208,27.201,25.798,26.195,28.324,26.524,26.063,25.478,28.395,25.388,26.167,25.937,27.742,25.468,25.54,24.499,25.892,26.209,26.72,26.049,26.639,25.292,27.154,25.989,26.094,25.872,26.312,25.485,25.944,24.927,25.54,25.61,27.957,27.689,26.475,26.221,26.177,27.527,27.056,28.583,25.769,25.821,26.335,25.727,25.544,25.817,28.946,26.32,26.535,26.393,26.365,25.514,28.426,26.343,28.754,27.671,25.823,26.46,25.728,25.352,27.927,24.723,24.898,25.698,25.683,28.311,25.586,28.187,25.953,27.2,28.625,25.976,26.479,27.651,25.896,25.414,25.184,26.164,25.372,25.92,26.164,26.142,26.03,25.672,27.749,25.915,25.553,25.749,26.349,25.375,25.918,25.795,25.455,26.118],\"xaxis\":\"x\",\"y\":[52.28,56.1,52.57,53.71,52.23,51.65,59.18,57.56,52.49,56.84,58.6,52.64,57.85,57.37,51.35,52.34,50.96,52.35,53.59,57.36,56.93,56.83,53.63,53.6,56.4,53.03,53.85,52.88,52.99,53.45,54.42,54.32,51.9,52.03,52.92,53.68,55.63,57.59,52.6,53.33,54.47,56.77,53.12,53.96,52.1,54.2,52.78,52.7,52.0,52.83,50.83,57.3,55.19,60.11,53.31,55.47,52.57,53.29,57.66,53.94,53.04,51.91,57.92,51.73,53.29,52.79,56.52,51.79,52.07,49.99,52.67,53.32,54.44,53.15,54.3,51.52,55.34,52.92,53.18,52.72,53.58,51.86,52.81,50.75,52.07,52.05,56.93,56.44,53.97,53.46,53.39,56.12,55.14,58.37,52.44,52.7,53.67,52.4,52.01,52.66,58.91,53.49,54.02,53.52,53.64,52.09,57.89,53.69,58.56,56.27,52.66,53.89,52.42,51.49,56.89,50.27,50.64,52.35,52.29,57.7,51.97,57.45,52.76,55.41,58.43,52.91,53.93,56.2,52.65,51.78,51.23,53.32,51.59,52.72,53.19,53.3,53.0,52.37,56.49,52.86,52.1,52.46,53.6,51.66,52.8,52.44,51.87,53.16],\"yaxis\":\"y\",\"type\":\"scatter\"},{\"hovertemplate\":\"Mode=2.0<br>Strom / A=%{x}<br>Drehmoment / Nm=%{y}<extra></extra>\",\"legendgroup\":\"2.0\",\"marker\":{\"color\":\"#00cc96\",\"symbol\":\"circle\"},\"mode\":\"markers\",\"name\":\"2.0\",\"orientation\":\"v\",\"showlegend\":true,\"x\":[23.257,20.87,22.751,22.776,22.696,20.368,20.649,20.079,20.519,25.472,23.401,21.051,23.281,22.731,21.243,22.667,20.642,23.233,22.52,24.273,22.562,21.115,20.462,26.122,20.331,21.031,21.357,20.909,22.078,23.06,22.553,20.514,21.431,22.607,21.114,22.859,22.244,24.902,21.452,23.615,20.859,21.219,21.269,21.84,23.347,22.831,21.104,23.626,20.94,20.408,20.452,21.151,20.765,22.434,22.817,23.121,20.708,20.319,21.367,22.176,21.824,25.745,22.713,20.768,22.215,23.624,20.991,25.085,22.614,null,22.347,23.944,20.399,23.323,21.112,20.844,20.77,20.684,20.57,20.915,22.33,21.918,22.719,23.306,24.402,22.326,25.422,22.777,23.159,20.413,24.942,21.129,26.033,20.774,22.406,25.043,20.921,22.534,23.192,22.749,22.622,22.065,25.842,20.443,21.887,20.232,22.925,20.681,20.935,23.333,23.181,22.875,22.298,23.554,20.613,19.591,22.727,24.829,22.684,25.506,22.388,23.513,21.875,23.027,23.154,20.371,21.245,24.327,23.333,25.415,22.843,21.506,22.55,22.746,21.28,21.116,23.12,21.426,25.014,22.443,22.718,21.585,25.388,21.057,20.773,29.328,21.948,22.785,20.791,20.336,23.025,21.378,23.832,20.531,21.911,20.884,21.337,21.187,22.963,23.021,22.363,24.741,23.359,22.211,22.632,24.573,23.636,22.842,21.973,20.405,22.444,22.443,21.968,21.132,21.2,22.782,22.379,20.516,25.546,25.968,20.543,23.21,22.125,23.455,24.66,24.908,22.218,25.261,22.791,22.514,22.012,22.465,20.814,23.513,22.735,24.675,22.786,21.199,21.031,21.164,23.02,23.428,22.58,25.561,22.213,20.82,21.879,20.939,23.194,21.299,20.823,23.053,23.376,20.719,24.575,20.605,21.268,25.515,24.996,22.284,20.956,22.341,22.677,24.787,22.699,22.133,23.544,20.05,20.856,22.242,22.931,21.483,20.474,21.22,20.841,21.365,22.511,20.466,23.153,25.129,22.208,22.334,23.201,21.518,24.944,22.349,21.144,23.001,21.479,20.489,21.269,23.229,21.174,22.696,21.146,21.983,22.168,20.706,24.395,21.045,25.599,22.371,22.775,20.66,23.012,22.419,21.169,21.659,22.332,20.541,22.077,20.468,23.239,20.935,22.63,22.459,20.936,22.347,22.905,20.322,21.128,21.276,22.385,22.892,23.796,22.911,22.38,25.135,21.502,20.338,21.807,22.982,24.825,22.933,22.79,20.413,22.616,20.556,24.278,22.372,22.409,20.744,19.828,22.897,20.814,20.921,19.943,19.319,20.592,21.107,21.182,23.182,22.778,20.58,20.365,22.59,23.782,23.311,20.66,25.079,20.378,21.051,22.733,25.2,22.842,20.22,25.016,21.221,22.339,22.778,20.879,25.289,21.415,21.15,23.126,20.976,24.661,21.231,20.464,23.364,23.491,20.171,20.125,24.976,21.41,24.529,20.957,24.695,25.003,20.646,21.563,24.875,22.537,20.238,22.156,23.093,24.719,22.407,23.836,22.255,23.275,23.173,20.43,20.799,20.825,24.119,21.172,20.877,22.734,22.522,21.827,22.745,20.992,23.311,20.809,20.75,24.038,19.886,22.553,20.994,22.601,23.244,23.128,21.327,22.75,23.507,22.288,21.879,21.03,21.625,23.232,22.299,22.801,20.514],\"xaxis\":\"x\",\"y\":[47.39,46.64,51.73,46.32,46.24,46.41,46.26,45.65,46.72,51.84,47.63,47.73,47.44,46.29,47.5,51.57,46.9,52.06,50.37,49.51,45.86,47.15,45.69,53.06,46.18,47.06,47.61,46.85,50.31,46.95,45.97,45.93,48.65,51.4,47.97,51.06,50.55,50.67,47.81,48.17,47.37,47.41,48.28,49.7,47.69,51.93,47.22,53.6,47.56,45.68,46.38,47.28,47.19,50.18,46.35,51.64,46.97,46.21,48.59,49.51,48.78,52.4,51.54,46.37,49.67,48.02,47.01,51.15,46.07,48.07,49.99,48.75,46.41,47.62,47.2,46.59,46.51,47.02,46.0,46.78,45.46,48.9,50.9,52.01,49.65,50.78,51.71,51.79,51.75,45.69,50.83,47.24,52.95,47.18,51.0,50.99,47.5,51.22,51.88,46.32,46.01,50.22,52.64,46.46,49.06,45.98,46.69,47.02,42.68,47.55,51.78,46.59,45.33,52.61,46.08,44.58,50.81,50.45,50.7,52.01,45.59,48.0,49.75,51.49,47.19,45.46,47.51,49.59,52.25,51.82,50.99,48.91,50.4,50.89,47.52,47.2,47.06,48.64,50.91,51.03,46.32,48.34,51.64,47.09,47.15,59.86,49.81,46.4,46.44,46.24,51.43,47.76,48.5,46.64,49.72,46.66,47.71,47.25,46.71,46.85,45.43,50.28,47.59,45.31,46.08,50.07,48.02,51.14,50.03,46.4,50.96,51.07,50.01,48.1,47.44,51.79,50.82,46.01,52.08,52.8,45.98,51.94,50.16,47.85,50.31,50.66,50.38,51.37,46.39,50.37,49.21,50.06,47.32,47.91,46.3,50.31,50.92,48.13,47.07,47.38,52.5,53.25,51.41,52.13,49.74,47.39,44.58,46.82,52.69,47.54,46.68,46.89,47.51,47.18,50.09,45.97,47.52,51.99,50.83,50.64,47.61,45.51,51.57,50.53,50.73,50.32,48.03,45.6,46.55,49.79,51.32,48.91,46.54,48.23,47.48,48.63,45.83,46.51,47.07,51.13,45.14,50.94,51.82,48.92,50.85,50.79,48.03,52.23,48.79,46.59,48.26,47.24,47.34,50.8,47.25,49.93,50.32,46.38,49.67,47.84,52.13,49.98,50.92,46.28,51.44,50.92,47.27,49.21,49.89,46.67,50.19,46.45,47.38,47.59,46.07,51.06,47.58,45.56,51.13,45.55,47.2,48.29,50.06,46.64,54.08,52.19,50.93,51.16,48.03,46.28,49.52,51.53,50.54,46.8,46.44,46.38,51.54,46.76,49.49,50.83,50.97,46.39,45.09,52.15,46.58,46.78,45.31,43.93,46.82,47.2,47.32,52.72,51.71,46.03,46.31,46.0,48.46,52.94,46.89,51.15,46.4,47.9,51.79,51.33,51.1,46.07,50.98,47.46,50.77,50.91,47.46,51.58,47.75,47.23,47.19,47.56,50.31,47.51,45.73,47.58,47.84,45.87,45.04,50.87,47.79,49.95,46.82,50.33,50.97,46.96,48.3,50.68,50.45,45.28,45.13,47.0,50.38,50.92,48.61,49.69,47.4,47.17,46.5,47.28,47.38,49.01,47.99,47.5,46.45,50.35,49.58,51.75,47.63,52.05,47.24,46.27,48.99,45.2,50.44,46.96,46.06,47.3,51.77,48.6,51.62,52.58,49.87,48.88,47.75,48.31,52.09,50.61,46.49,45.86],\"yaxis\":\"y\",\"type\":\"scatter\"}],                        {\"template\":{\"data\":{\"bar\":[{\"error_x\":{\"color\":\"#2a3f5f\"},\"error_y\":{\"color\":\"#2a3f5f\"},\"marker\":{\"line\":{\"color\":\"#E5ECF6\",\"width\":0.5},\"pattern\":{\"fillmode\":\"overlay\",\"size\":10,\"solidity\":0.2}},\"type\":\"bar\"}],\"barpolar\":[{\"marker\":{\"line\":{\"color\":\"#E5ECF6\",\"width\":0.5},\"pattern\":{\"fillmode\":\"overlay\",\"size\":10,\"solidity\":0.2}},\"type\":\"barpolar\"}],\"carpet\":[{\"aaxis\":{\"endlinecolor\":\"#2a3f5f\",\"gridcolor\":\"white\",\"linecolor\":\"white\",\"minorgridcolor\":\"white\",\"startlinecolor\":\"#2a3f5f\"},\"baxis\":{\"endlinecolor\":\"#2a3f5f\",\"gridcolor\":\"white\",\"linecolor\":\"white\",\"minorgridcolor\":\"white\",\"startlinecolor\":\"#2a3f5f\"},\"type\":\"carpet\"}],\"choropleth\":[{\"colorbar\":{\"outlinewidth\":0,\"ticks\":\"\"},\"type\":\"choropleth\"}],\"contour\":[{\"colorbar\":{\"outlinewidth\":0,\"ticks\":\"\"},\"colorscale\":[[0.0,\"#0d0887\"],[0.1111111111111111,\"#46039f\"],[0.2222222222222222,\"#7201a8\"],[0.3333333333333333,\"#9c179e\"],[0.4444444444444444,\"#bd3786\"],[0.5555555555555556,\"#d8576b\"],[0.6666666666666666,\"#ed7953\"],[0.7777777777777778,\"#fb9f3a\"],[0.8888888888888888,\"#fdca26\"],[1.0,\"#f0f921\"]],\"type\":\"contour\"}],\"contourcarpet\":[{\"colorbar\":{\"outlinewidth\":0,\"ticks\":\"\"},\"type\":\"contourcarpet\"}],\"heatmap\":[{\"colorbar\":{\"outlinewidth\":0,\"ticks\":\"\"},\"colorscale\":[[0.0,\"#0d0887\"],[0.1111111111111111,\"#46039f\"],[0.2222222222222222,\"#7201a8\"],[0.3333333333333333,\"#9c179e\"],[0.4444444444444444,\"#bd3786\"],[0.5555555555555556,\"#d8576b\"],[0.6666666666666666,\"#ed7953\"],[0.7777777777777778,\"#fb9f3a\"],[0.8888888888888888,\"#fdca26\"],[1.0,\"#f0f921\"]],\"type\":\"heatmap\"}],\"heatmapgl\":[{\"colorbar\":{\"outlinewidth\":0,\"ticks\":\"\"},\"colorscale\":[[0.0,\"#0d0887\"],[0.1111111111111111,\"#46039f\"],[0.2222222222222222,\"#7201a8\"],[0.3333333333333333,\"#9c179e\"],[0.4444444444444444,\"#bd3786\"],[0.5555555555555556,\"#d8576b\"],[0.6666666666666666,\"#ed7953\"],[0.7777777777777778,\"#fb9f3a\"],[0.8888888888888888,\"#fdca26\"],[1.0,\"#f0f921\"]],\"type\":\"heatmapgl\"}],\"histogram\":[{\"marker\":{\"pattern\":{\"fillmode\":\"overlay\",\"size\":10,\"solidity\":0.2}},\"type\":\"histogram\"}],\"histogram2d\":[{\"colorbar\":{\"outlinewidth\":0,\"ticks\":\"\"},\"colorscale\":[[0.0,\"#0d0887\"],[0.1111111111111111,\"#46039f\"],[0.2222222222222222,\"#7201a8\"],[0.3333333333333333,\"#9c179e\"],[0.4444444444444444,\"#bd3786\"],[0.5555555555555556,\"#d8576b\"],[0.6666666666666666,\"#ed7953\"],[0.7777777777777778,\"#fb9f3a\"],[0.8888888888888888,\"#fdca26\"],[1.0,\"#f0f921\"]],\"type\":\"histogram2d\"}],\"histogram2dcontour\":[{\"colorbar\":{\"outlinewidth\":0,\"ticks\":\"\"},\"colorscale\":[[0.0,\"#0d0887\"],[0.1111111111111111,\"#46039f\"],[0.2222222222222222,\"#7201a8\"],[0.3333333333333333,\"#9c179e\"],[0.4444444444444444,\"#bd3786\"],[0.5555555555555556,\"#d8576b\"],[0.6666666666666666,\"#ed7953\"],[0.7777777777777778,\"#fb9f3a\"],[0.8888888888888888,\"#fdca26\"],[1.0,\"#f0f921\"]],\"type\":\"histogram2dcontour\"}],\"mesh3d\":[{\"colorbar\":{\"outlinewidth\":0,\"ticks\":\"\"},\"type\":\"mesh3d\"}],\"parcoords\":[{\"line\":{\"colorbar\":{\"outlinewidth\":0,\"ticks\":\"\"}},\"type\":\"parcoords\"}],\"pie\":[{\"automargin\":true,\"type\":\"pie\"}],\"scatter\":[{\"marker\":{\"colorbar\":{\"outlinewidth\":0,\"ticks\":\"\"}},\"type\":\"scatter\"}],\"scatter3d\":[{\"line\":{\"colorbar\":{\"outlinewidth\":0,\"ticks\":\"\"}},\"marker\":{\"colorbar\":{\"outlinewidth\":0,\"ticks\":\"\"}},\"type\":\"scatter3d\"}],\"scattercarpet\":[{\"marker\":{\"colorbar\":{\"outlinewidth\":0,\"ticks\":\"\"}},\"type\":\"scattercarpet\"}],\"scattergeo\":[{\"marker\":{\"colorbar\":{\"outlinewidth\":0,\"ticks\":\"\"}},\"type\":\"scattergeo\"}],\"scattergl\":[{\"marker\":{\"colorbar\":{\"outlinewidth\":0,\"ticks\":\"\"}},\"type\":\"scattergl\"}],\"scattermapbox\":[{\"marker\":{\"colorbar\":{\"outlinewidth\":0,\"ticks\":\"\"}},\"type\":\"scattermapbox\"}],\"scatterpolar\":[{\"marker\":{\"colorbar\":{\"outlinewidth\":0,\"ticks\":\"\"}},\"type\":\"scatterpolar\"}],\"scatterpolargl\":[{\"marker\":{\"colorbar\":{\"outlinewidth\":0,\"ticks\":\"\"}},\"type\":\"scatterpolargl\"}],\"scatterternary\":[{\"marker\":{\"colorbar\":{\"outlinewidth\":0,\"ticks\":\"\"}},\"type\":\"scatterternary\"}],\"surface\":[{\"colorbar\":{\"outlinewidth\":0,\"ticks\":\"\"},\"colorscale\":[[0.0,\"#0d0887\"],[0.1111111111111111,\"#46039f\"],[0.2222222222222222,\"#7201a8\"],[0.3333333333333333,\"#9c179e\"],[0.4444444444444444,\"#bd3786\"],[0.5555555555555556,\"#d8576b\"],[0.6666666666666666,\"#ed7953\"],[0.7777777777777778,\"#fb9f3a\"],[0.8888888888888888,\"#fdca26\"],[1.0,\"#f0f921\"]],\"type\":\"surface\"}],\"table\":[{\"cells\":{\"fill\":{\"color\":\"#EBF0F8\"},\"line\":{\"color\":\"white\"}},\"header\":{\"fill\":{\"color\":\"#C8D4E3\"},\"line\":{\"color\":\"white\"}},\"type\":\"table\"}]},\"layout\":{\"annotationdefaults\":{\"arrowcolor\":\"#2a3f5f\",\"arrowhead\":0,\"arrowwidth\":1},\"autotypenumbers\":\"strict\",\"coloraxis\":{\"colorbar\":{\"outlinewidth\":0,\"ticks\":\"\"}},\"colorscale\":{\"diverging\":[[0,\"#8e0152\"],[0.1,\"#c51b7d\"],[0.2,\"#de77ae\"],[0.3,\"#f1b6da\"],[0.4,\"#fde0ef\"],[0.5,\"#f7f7f7\"],[0.6,\"#e6f5d0\"],[0.7,\"#b8e186\"],[0.8,\"#7fbc41\"],[0.9,\"#4d9221\"],[1,\"#276419\"]],\"sequential\":[[0.0,\"#0d0887\"],[0.1111111111111111,\"#46039f\"],[0.2222222222222222,\"#7201a8\"],[0.3333333333333333,\"#9c179e\"],[0.4444444444444444,\"#bd3786\"],[0.5555555555555556,\"#d8576b\"],[0.6666666666666666,\"#ed7953\"],[0.7777777777777778,\"#fb9f3a\"],[0.8888888888888888,\"#fdca26\"],[1.0,\"#f0f921\"]],\"sequentialminus\":[[0.0,\"#0d0887\"],[0.1111111111111111,\"#46039f\"],[0.2222222222222222,\"#7201a8\"],[0.3333333333333333,\"#9c179e\"],[0.4444444444444444,\"#bd3786\"],[0.5555555555555556,\"#d8576b\"],[0.6666666666666666,\"#ed7953\"],[0.7777777777777778,\"#fb9f3a\"],[0.8888888888888888,\"#fdca26\"],[1.0,\"#f0f921\"]]},\"colorway\":[\"#636efa\",\"#EF553B\",\"#00cc96\",\"#ab63fa\",\"#FFA15A\",\"#19d3f3\",\"#FF6692\",\"#B6E880\",\"#FF97FF\",\"#FECB52\"],\"font\":{\"color\":\"#2a3f5f\"},\"geo\":{\"bgcolor\":\"white\",\"lakecolor\":\"white\",\"landcolor\":\"#E5ECF6\",\"showlakes\":true,\"showland\":true,\"subunitcolor\":\"white\"},\"hoverlabel\":{\"align\":\"left\"},\"hovermode\":\"closest\",\"mapbox\":{\"style\":\"light\"},\"paper_bgcolor\":\"white\",\"plot_bgcolor\":\"#E5ECF6\",\"polar\":{\"angularaxis\":{\"gridcolor\":\"white\",\"linecolor\":\"white\",\"ticks\":\"\"},\"bgcolor\":\"#E5ECF6\",\"radialaxis\":{\"gridcolor\":\"white\",\"linecolor\":\"white\",\"ticks\":\"\"}},\"scene\":{\"xaxis\":{\"backgroundcolor\":\"#E5ECF6\",\"gridcolor\":\"white\",\"gridwidth\":2,\"linecolor\":\"white\",\"showbackground\":true,\"ticks\":\"\",\"zerolinecolor\":\"white\"},\"yaxis\":{\"backgroundcolor\":\"#E5ECF6\",\"gridcolor\":\"white\",\"gridwidth\":2,\"linecolor\":\"white\",\"showbackground\":true,\"ticks\":\"\",\"zerolinecolor\":\"white\"},\"zaxis\":{\"backgroundcolor\":\"#E5ECF6\",\"gridcolor\":\"white\",\"gridwidth\":2,\"linecolor\":\"white\",\"showbackground\":true,\"ticks\":\"\",\"zerolinecolor\":\"white\"}},\"shapedefaults\":{\"line\":{\"color\":\"#2a3f5f\"}},\"ternary\":{\"aaxis\":{\"gridcolor\":\"white\",\"linecolor\":\"white\",\"ticks\":\"\"},\"baxis\":{\"gridcolor\":\"white\",\"linecolor\":\"white\",\"ticks\":\"\"},\"bgcolor\":\"#E5ECF6\",\"caxis\":{\"gridcolor\":\"white\",\"linecolor\":\"white\",\"ticks\":\"\"}},\"title\":{\"x\":0.05},\"xaxis\":{\"automargin\":true,\"gridcolor\":\"white\",\"linecolor\":\"white\",\"ticks\":\"\",\"title\":{\"standoff\":15},\"zerolinecolor\":\"white\",\"zerolinewidth\":2},\"yaxis\":{\"automargin\":true,\"gridcolor\":\"white\",\"linecolor\":\"white\",\"ticks\":\"\",\"title\":{\"standoff\":15},\"zerolinecolor\":\"white\",\"zerolinewidth\":2}}},\"xaxis\":{\"anchor\":\"y\",\"domain\":[0.0,1.0],\"title\":{\"text\":\"Strom / A\"}},\"yaxis\":{\"anchor\":\"x\",\"domain\":[0.0,1.0],\"title\":{\"text\":\"Drehmoment / Nm\"}},\"legend\":{\"title\":{\"text\":\"Mode\"},\"tracegroupgap\":0},\"margin\":{\"t\":60}},                        {\"responsive\": true}                    ).then(function(){\n",
              "                            \n",
              "var gd = document.getElementById('306ae439-b0d3-43ac-84b8-5149cb15fc3f');\n",
              "var x = new MutationObserver(function (mutations, observer) {{\n",
              "        var display = window.getComputedStyle(gd).display;\n",
              "        if (!display || display === 'none') {{\n",
              "            console.log([gd, 'removed!']);\n",
              "            Plotly.purge(gd);\n",
              "            observer.disconnect();\n",
              "        }}\n",
              "}});\n",
              "\n",
              "// Listen for the removal of the full notebook cells\n",
              "var notebookContainer = gd.closest('#notebook-container');\n",
              "if (notebookContainer) {{\n",
              "    x.observe(notebookContainer, {childList: true});\n",
              "}}\n",
              "\n",
              "// Listen for the clearing of the current output cell\n",
              "var outputEl = gd.closest('.output');\n",
              "if (outputEl) {{\n",
              "    x.observe(outputEl, {childList: true});\n",
              "}}\n",
              "\n",
              "                        })                };                            </script>        </div>\n",
              "</body>\n",
              "</html>"
            ]
          },
          "metadata": {}
        }
      ],
      "source": [
        "exploration_data.plot(kind=\"scatter\", x=\"Strom / A\", y=\"Drehmoment / Nm\", color=\"Mode\")"
      ]
    },
    {
      "cell_type": "code",
      "execution_count": 23,
      "id": "a72ee68f",
      "metadata": {
        "id": "a72ee68f",
        "outputId": "31ac64bc-7c7e-4956-a587-d2550e3aa440",
        "colab": {
          "base_uri": "https://localhost:8080/",
          "height": 542
        }
      },
      "outputs": [
        {
          "output_type": "display_data",
          "data": {
            "text/html": [
              "<html>\n",
              "<head><meta charset=\"utf-8\" /></head>\n",
              "<body>\n",
              "    <div>            <script src=\"https://cdnjs.cloudflare.com/ajax/libs/mathjax/2.7.5/MathJax.js?config=TeX-AMS-MML_SVG\"></script><script type=\"text/javascript\">if (window.MathJax) {MathJax.Hub.Config({SVG: {font: \"STIX-Web\"}});}</script>                <script type=\"text/javascript\">window.PlotlyConfig = {MathJaxConfig: 'local'};</script>\n",
              "        <script src=\"https://cdn.plot.ly/plotly-2.8.3.min.js\"></script>                <div id=\"76ec6535-f88b-41d2-9187-516755f19bfb\" class=\"plotly-graph-div\" style=\"height:525px; width:100%;\"></div>            <script type=\"text/javascript\">                                    window.PLOTLYENV=window.PLOTLYENV || {};                                    if (document.getElementById(\"76ec6535-f88b-41d2-9187-516755f19bfb\")) {                    Plotly.newPlot(                        \"76ec6535-f88b-41d2-9187-516755f19bfb\",                        [{\"hovertemplate\":\"Maschine=A<br>Strom / A=%{x}<br>Drehmoment / Nm=%{y}<extra></extra>\",\"legendgroup\":\"A\",\"marker\":{\"color\":\"#636efa\",\"symbol\":\"circle\"},\"mode\":\"markers\",\"name\":\"A\",\"orientation\":\"v\",\"showlegend\":true,\"x\":[19.328,20.198,22.751,19.739,20.368,20.079,20.462,19.492,19.703,19.756,18.86,20.519,19.829,19.615,21.051,22.667,20.642,20.074,20.081,20.331,19.903,19.23,19.955,22.078,19.847,20.237,19.555,21.431,22.607,19.174,21.114,19.858,22.244,19.794,20.628,19.221,20.859,21.269,21.84,22.831,18.805,23.626,20.94,19.451,20.452,20.765,20.708,20.319,20.102,19.791,19.41,21.367,18.714,19.642,19.402,22.713,20.242,20.399,19.93,19.587,20.684,20.194,19.379,22.326,22.777,20.774,22.406,20.921,19.856,22.534,22.065,20.443,19.12,20.232,19.341,20.681,19.447,19.884,19.591,19.457,20.208,19.131,21.875,19.898,19.626,19.577,19.733,19.283,19.356,19.772,21.506,19.902,19.888,21.426,22.443,20.773,20.398,21.948,20.336,20.109,19.523,20.441,19.942,19.644,20.531,18.221,21.911,19.623,20.296,20.21,20.532,21.973,19.0,20.405,22.444,22.443,19.245,21.968,19.523,21.132,20.009,20.021,20.486,22.782,22.379,20.16,19.539,19.159,19.917,19.633,19.712,22.125,22.218,19.651,20.723,18.712,20.814,19.442,20.456,19.955,21.199,19.098,19.825,23.02,23.428,19.354,22.58,19.723,18.774,20.82,23.194,19.685,20.719,19.296,22.284,19.385,20.956,22.677,20.314,19.084,22.133,19.308,19.853,20.47,20.05,18.932,21.483,20.474,21.22,20.841,19.714,19.417,21.365,19.565,20.466,19.809,20.208,19.401,19.517,22.334,21.518,22.349,19.568,21.144,19.941,23.001,21.479,20.524,19.802,20.357,20.489,21.269,19.691,21.983,22.168,21.045,19.381,19.723,19.889,22.419,21.659,20.463,20.541,22.077,20.468,20.935,20.381,22.459,20.936,19.18,21.276,19.139,23.796,19.485,22.911,22.38,19.64,20.338,19.458,21.807,19.28,19.198,19.404,19.033,19.983,19.657,19.723,20.413,22.616,19.367,20.556,19.789,22.372,22.409,19.828,22.897,20.178,19.574,19.943,19.319,20.592,19.752,19.655,20.286,23.182,22.778,20.365,20.743,23.311,19.336,20.66,20.378,21.051,22.733,19.666,20.22,22.339,20.879,18.703,19.608,19.262,19.957,19.465,19.951,20.976,19.525,19.776,20.171,20.123,20.646,19.155,22.407,19.818,20.43,20.799,20.825,21.172,20.877,19.371,21.827,22.745,19.632,20.992,19.238,19.625,20.809,19.67,18.835,19.774,19.886,19.888,20.315,19.614,20.005,21.327,20.079,22.75,19.747,19.322,21.03,22.299,20.283],\"xaxis\":\"x\",\"y\":[43.92,45.96,51.73,44.94,46.41,45.65,46.56,44.28,44.71,44.91,42.78,46.72,44.96,44.62,47.73,51.57,46.9,45.64,45.59,46.18,45.12,43.79,45.45,50.31,45.14,46.05,44.43,48.65,51.4,43.63,47.97,45.1,50.55,45.02,46.9,43.69,47.37,48.28,49.7,51.93,42.76,53.6,47.56,44.29,46.38,47.19,46.97,46.21,45.75,44.96,44.24,48.59,42.58,44.59,44.03,51.54,46.05,46.41,45.26,44.55,47.02,45.92,44.03,50.78,51.79,47.18,51.0,47.5,45.14,51.22,50.22,46.46,43.58,45.98,44.02,47.02,44.25,45.21,44.58,44.33,45.97,43.54,49.75,45.1,44.57,44.5,44.84,43.84,43.94,44.85,48.91,45.29,45.24,48.64,51.03,47.15,46.37,49.81,46.24,45.69,44.29,46.57,45.32,44.77,46.64,41.43,49.72,44.56,46.04,45.85,46.71,50.03,43.22,46.4,50.96,51.07,43.76,50.01,44.3,48.1,45.53,45.52,46.51,51.79,50.82,45.74,44.46,43.64,45.36,44.62,44.79,50.16,50.38,44.74,47.06,42.59,47.32,44.16,46.51,45.34,48.13,43.31,44.99,52.5,53.25,44.08,51.41,44.93,42.75,47.39,52.69,44.74,47.18,43.86,50.64,44.06,47.61,51.57,46.21,43.31,50.32,43.84,45.08,46.51,45.6,42.99,48.91,46.54,48.23,47.48,44.77,44.19,48.63,44.57,46.51,44.99,45.94,44.16,44.42,50.94,48.92,50.79,44.49,48.03,45.34,52.23,48.79,46.69,44.98,46.29,46.59,48.26,44.83,49.93,50.32,47.84,44.01,44.93,45.09,50.92,49.21,46.57,46.67,50.19,46.45,47.59,46.29,51.06,47.58,43.51,48.29,43.48,54.08,44.26,52.19,50.93,44.64,46.28,44.26,49.52,43.88,43.69,44.1,43.16,45.5,44.76,44.65,46.38,51.54,44.08,46.76,44.93,50.83,50.97,45.09,52.15,45.76,44.49,45.31,43.93,46.82,44.97,44.75,46.21,52.72,51.71,46.31,47.12,52.94,43.94,46.89,46.4,47.9,51.79,44.68,46.07,50.77,47.46,42.53,44.48,43.63,45.4,44.25,45.38,47.56,44.41,45.01,45.87,45.67,46.96,43.59,50.92,45.07,46.5,47.28,47.38,47.99,47.5,44.07,49.58,51.75,44.65,47.63,43.76,44.59,47.24,44.73,42.88,44.89,45.2,45.22,46.19,44.56,45.59,48.6,45.49,51.62,44.87,43.88,47.75,50.61,46.11],\"yaxis\":\"y\",\"type\":\"scatter\"},{\"hovertemplate\":\"Maschine=C<br>Strom / A=%{x}<br>Drehmoment / Nm=%{y}<extra></extra>\",\"legendgroup\":\"C\",\"marker\":{\"color\":\"#EF553B\",\"symbol\":\"circle\"},\"mode\":\"markers\",\"name\":\"C\",\"orientation\":\"v\",\"showlegend\":true,\"x\":[21.265,25.7,21.949,23.257,21.687,27.614,22.776,22.696,25.844,25.472,23.401,26.36,25.59,25.316,29.129,23.281,28.278,22.731,24.273,22.562,23.023,26.122,22.437,23.06,22.553,22.523,25.759,24.902,27.926,23.615,21.537,28.789,25.85,28.423,23.347,28.184,25.216,25.693,25.038,22.817,25.728,26.258,28.085,27.975,27.885,26.334,25.745,23.624,25.085,26.334,22.614,23.944,23.323,27.73,21.02,22.33,26.044,26.441,26.005,21.913,25.985,26.209,26.699,24.402,21.87,25.422,26.643,21.884,24.942,26.033,25.549,25.043,25.59,26.044,22.749,22.622,26.394,25.842,27.259,28.313,25.831,26.166,22.925,26.714,27.938,26.097,20.935,23.333,21.877,22.875,22.298,26.521,25.527,26.582,25.852,25.895,24.829,25.506,22.388,25.581,23.513,25.98,24.963,23.154,21.812,24.327,28.145,25.415,22.117,27.104,29.53,22.453,23.12,25.014,26.208,27.201,22.718,25.798,25.388,21.55,29.328,22.785,26.195,23.832,28.324,26.524,26.063,22.963,22.349,23.021,25.478,22.363,24.741,23.359,22.211,28.395,25.388,22.632,21.753,22.599,24.573,23.636,22.138,26.167,25.937,27.742,25.468,25.54,25.546,21.621,24.499,25.892,25.968,26.209,23.455,24.66,24.908,26.72,25.261,22.791,26.049,26.639,23.513,25.292,22.735,24.675,21.539,22.398,27.154,25.989,26.094,22.587,25.872,25.561,26.312,25.485,21.879,25.944,23.053,24.927,23.376,24.575,21.546,25.54,25.515,24.996,22.008,22.341,25.61,24.787,27.957,27.689,26.475,26.221,23.544,26.177,27.527,22.037,27.056,22.511,22.569,23.153,25.129,22.208,24.944,28.583,25.769,25.821,26.335,25.727,25.544,25.817,23.229,28.946,26.32,26.535,22.102,21.862,24.395,26.393,25.599,26.365,22.06,25.514,28.426,23.239,22.63,26.343,28.754,21.587,22.347,27.671,25.823,22.892,26.46,25.728,22.336,25.135,24.825,25.352,20.988,27.927,24.723,24.898,22.933,22.79,25.698,24.278,25.683,21.798,21.476,28.311,25.586,22.018,28.187,25.953,27.2,22.832,28.625,25.976,22.59,23.782,26.479,25.079,27.651,25.2,25.016,25.896,25.289,22.24,23.126,24.661,25.414,25.184,23.364,21.845,22.671,23.491,24.976,24.529,24.695,25.003,21.294,21.802,26.164,24.875,25.372,22.156,23.093,24.719,23.836,25.92,23.275,26.164,23.173,26.142,24.119,26.03,22.734,25.672,27.749,25.915,22.611,25.553,24.038,21.124,25.749,21.377,26.349,25.375,22.601,23.244,25.918,25.795,25.455,22.801,26.118],\"xaxis\":\"x\",\"y\":[43.37,52.28,44.61,47.39,44.2,56.1,46.32,46.24,52.57,51.84,47.63,53.71,52.23,51.65,59.18,47.44,57.56,46.29,49.51,45.86,46.8,53.06,45.63,46.95,45.97,45.88,52.49,50.67,56.84,48.17,43.77,58.6,52.64,57.85,47.69,57.37,51.35,52.34,50.96,46.35,52.35,53.59,57.36,56.93,56.83,53.63,52.4,48.02,51.15,53.6,46.07,48.75,47.62,56.4,42.8,45.46,53.03,53.85,52.88,44.59,52.99,53.45,54.42,49.65,44.6,51.71,54.32,44.56,50.83,52.95,51.9,50.99,52.03,52.92,46.32,46.01,53.68,52.64,55.63,57.59,52.6,53.33,46.69,54.47,56.77,53.12,42.68,47.55,44.44,46.59,45.33,53.96,52.1,54.2,52.78,52.7,50.45,52.01,45.59,52.0,48.0,52.83,50.83,47.19,44.4,49.59,57.3,51.82,45.1,55.19,60.11,45.72,47.06,50.91,53.31,55.47,46.32,52.57,51.64,43.86,59.86,46.4,53.29,48.5,57.66,53.94,53.04,46.71,45.51,46.85,51.91,45.43,50.28,47.59,45.31,57.92,51.73,46.08,44.27,46.08,50.07,48.02,45.17,53.29,52.79,56.52,51.79,52.07,52.08,44.05,49.99,52.67,52.8,53.32,47.85,50.31,50.66,54.44,51.37,46.39,53.15,54.3,47.91,51.52,46.3,50.31,43.81,45.53,55.34,52.92,53.18,45.89,52.72,52.13,53.58,51.86,44.58,52.81,46.89,50.75,47.51,50.09,43.9,52.07,51.99,50.83,44.93,45.51,52.05,50.53,56.93,56.44,53.97,53.46,48.03,53.39,56.12,44.9,55.14,45.83,45.94,47.07,51.13,45.14,50.85,58.37,52.44,52.7,53.67,52.4,52.01,52.66,47.24,58.91,53.49,54.02,44.98,44.6,49.67,53.52,52.13,53.64,44.88,52.09,57.89,47.38,46.07,53.69,58.56,43.94,45.56,56.27,52.66,46.64,53.89,52.42,45.52,51.16,50.54,51.49,42.72,56.89,50.27,50.64,46.8,46.44,52.35,49.49,52.29,44.4,43.75,57.7,51.97,44.91,57.45,52.76,55.41,46.5,58.43,52.91,46.0,48.46,53.93,51.15,56.2,51.33,50.98,52.65,51.58,45.3,47.19,50.31,51.78,51.23,47.58,44.44,46.13,47.84,50.87,49.95,50.33,50.97,43.37,44.37,53.32,50.68,51.59,45.13,47.0,50.38,48.61,52.72,47.4,53.19,47.17,53.3,49.01,53.0,46.45,52.37,56.49,52.86,46.05,52.1,48.99,43.0,52.46,43.57,53.6,51.66,46.06,47.3,52.8,52.44,51.87,46.49,53.16],\"yaxis\":\"y\",\"type\":\"scatter\"},{\"hovertemplate\":\"Maschine=B<br>Strom / A=%{x}<br>Drehmoment / Nm=%{y}<extra></extra>\",\"legendgroup\":\"B\",\"marker\":{\"color\":\"#00cc96\",\"symbol\":\"circle\"},\"mode\":\"markers\",\"name\":\"B\",\"orientation\":\"v\",\"showlegend\":true,\"x\":[20.87,20.649,21.243,23.233,22.52,21.115,20.462,21.031,21.357,20.909,20.514,22.859,21.452,21.219,21.104,20.408,21.151,22.434,23.121,22.176,21.824,20.768,22.215,20.991,null,22.347,21.112,20.844,20.77,20.57,20.915,21.918,22.719,23.306,23.159,20.413,21.129,23.192,21.887,23.181,23.554,20.613,22.727,22.684,23.027,20.371,21.245,23.333,22.843,22.55,22.746,21.28,21.116,21.585,21.057,20.791,23.025,21.378,20.884,21.337,21.187,22.842,21.2,20.516,20.543,23.21,22.514,22.012,22.465,22.786,21.031,21.164,22.213,20.939,21.299,20.823,20.605,21.268,22.699,20.856,22.242,22.931,23.201,21.174,22.696,21.146,20.706,22.371,22.775,20.66,23.012,21.169,22.332,22.905,20.322,21.128,22.385,21.502,22.982,20.744,20.814,20.921,21.107,21.182,20.58,22.842,21.221,22.778,21.415,21.15,21.231,20.464,20.125,21.41,20.957,21.563,22.537,20.238,22.255,22.522,23.311,20.75,22.553,20.994,23.128,23.507,22.288,21.879,21.625,23.232,20.514],\"xaxis\":\"x\",\"y\":[46.64,46.26,47.5,52.06,50.37,47.15,45.69,47.06,47.61,46.85,45.93,51.06,47.81,47.41,47.22,45.68,47.28,50.18,51.64,49.51,48.78,46.37,49.67,47.01,48.07,49.99,47.2,46.59,46.51,46.0,46.78,48.9,50.9,52.01,51.75,45.69,47.24,51.88,49.06,51.78,52.61,46.08,50.81,50.7,51.49,45.46,47.51,52.25,50.99,50.4,50.89,47.52,47.2,48.34,47.09,46.44,51.43,47.76,46.66,47.71,47.25,51.14,47.44,46.01,45.98,51.94,50.37,49.21,50.06,50.92,47.07,47.38,49.74,46.82,47.54,46.68,45.97,47.52,50.73,46.55,49.79,51.32,51.82,47.34,50.8,47.25,46.38,49.98,50.92,46.28,51.44,47.27,49.89,51.13,45.55,47.2,50.06,48.03,51.53,46.39,46.58,46.78,47.2,47.32,46.03,51.1,47.46,50.91,47.75,47.23,47.51,45.73,45.04,47.79,46.82,48.3,50.45,45.28,49.69,50.35,52.05,46.27,50.44,46.96,51.77,52.58,49.87,48.88,48.31,52.09,45.86],\"yaxis\":\"y\",\"type\":\"scatter\"}],                        {\"template\":{\"data\":{\"bar\":[{\"error_x\":{\"color\":\"#2a3f5f\"},\"error_y\":{\"color\":\"#2a3f5f\"},\"marker\":{\"line\":{\"color\":\"#E5ECF6\",\"width\":0.5},\"pattern\":{\"fillmode\":\"overlay\",\"size\":10,\"solidity\":0.2}},\"type\":\"bar\"}],\"barpolar\":[{\"marker\":{\"line\":{\"color\":\"#E5ECF6\",\"width\":0.5},\"pattern\":{\"fillmode\":\"overlay\",\"size\":10,\"solidity\":0.2}},\"type\":\"barpolar\"}],\"carpet\":[{\"aaxis\":{\"endlinecolor\":\"#2a3f5f\",\"gridcolor\":\"white\",\"linecolor\":\"white\",\"minorgridcolor\":\"white\",\"startlinecolor\":\"#2a3f5f\"},\"baxis\":{\"endlinecolor\":\"#2a3f5f\",\"gridcolor\":\"white\",\"linecolor\":\"white\",\"minorgridcolor\":\"white\",\"startlinecolor\":\"#2a3f5f\"},\"type\":\"carpet\"}],\"choropleth\":[{\"colorbar\":{\"outlinewidth\":0,\"ticks\":\"\"},\"type\":\"choropleth\"}],\"contour\":[{\"colorbar\":{\"outlinewidth\":0,\"ticks\":\"\"},\"colorscale\":[[0.0,\"#0d0887\"],[0.1111111111111111,\"#46039f\"],[0.2222222222222222,\"#7201a8\"],[0.3333333333333333,\"#9c179e\"],[0.4444444444444444,\"#bd3786\"],[0.5555555555555556,\"#d8576b\"],[0.6666666666666666,\"#ed7953\"],[0.7777777777777778,\"#fb9f3a\"],[0.8888888888888888,\"#fdca26\"],[1.0,\"#f0f921\"]],\"type\":\"contour\"}],\"contourcarpet\":[{\"colorbar\":{\"outlinewidth\":0,\"ticks\":\"\"},\"type\":\"contourcarpet\"}],\"heatmap\":[{\"colorbar\":{\"outlinewidth\":0,\"ticks\":\"\"},\"colorscale\":[[0.0,\"#0d0887\"],[0.1111111111111111,\"#46039f\"],[0.2222222222222222,\"#7201a8\"],[0.3333333333333333,\"#9c179e\"],[0.4444444444444444,\"#bd3786\"],[0.5555555555555556,\"#d8576b\"],[0.6666666666666666,\"#ed7953\"],[0.7777777777777778,\"#fb9f3a\"],[0.8888888888888888,\"#fdca26\"],[1.0,\"#f0f921\"]],\"type\":\"heatmap\"}],\"heatmapgl\":[{\"colorbar\":{\"outlinewidth\":0,\"ticks\":\"\"},\"colorscale\":[[0.0,\"#0d0887\"],[0.1111111111111111,\"#46039f\"],[0.2222222222222222,\"#7201a8\"],[0.3333333333333333,\"#9c179e\"],[0.4444444444444444,\"#bd3786\"],[0.5555555555555556,\"#d8576b\"],[0.6666666666666666,\"#ed7953\"],[0.7777777777777778,\"#fb9f3a\"],[0.8888888888888888,\"#fdca26\"],[1.0,\"#f0f921\"]],\"type\":\"heatmapgl\"}],\"histogram\":[{\"marker\":{\"pattern\":{\"fillmode\":\"overlay\",\"size\":10,\"solidity\":0.2}},\"type\":\"histogram\"}],\"histogram2d\":[{\"colorbar\":{\"outlinewidth\":0,\"ticks\":\"\"},\"colorscale\":[[0.0,\"#0d0887\"],[0.1111111111111111,\"#46039f\"],[0.2222222222222222,\"#7201a8\"],[0.3333333333333333,\"#9c179e\"],[0.4444444444444444,\"#bd3786\"],[0.5555555555555556,\"#d8576b\"],[0.6666666666666666,\"#ed7953\"],[0.7777777777777778,\"#fb9f3a\"],[0.8888888888888888,\"#fdca26\"],[1.0,\"#f0f921\"]],\"type\":\"histogram2d\"}],\"histogram2dcontour\":[{\"colorbar\":{\"outlinewidth\":0,\"ticks\":\"\"},\"colorscale\":[[0.0,\"#0d0887\"],[0.1111111111111111,\"#46039f\"],[0.2222222222222222,\"#7201a8\"],[0.3333333333333333,\"#9c179e\"],[0.4444444444444444,\"#bd3786\"],[0.5555555555555556,\"#d8576b\"],[0.6666666666666666,\"#ed7953\"],[0.7777777777777778,\"#fb9f3a\"],[0.8888888888888888,\"#fdca26\"],[1.0,\"#f0f921\"]],\"type\":\"histogram2dcontour\"}],\"mesh3d\":[{\"colorbar\":{\"outlinewidth\":0,\"ticks\":\"\"},\"type\":\"mesh3d\"}],\"parcoords\":[{\"line\":{\"colorbar\":{\"outlinewidth\":0,\"ticks\":\"\"}},\"type\":\"parcoords\"}],\"pie\":[{\"automargin\":true,\"type\":\"pie\"}],\"scatter\":[{\"marker\":{\"colorbar\":{\"outlinewidth\":0,\"ticks\":\"\"}},\"type\":\"scatter\"}],\"scatter3d\":[{\"line\":{\"colorbar\":{\"outlinewidth\":0,\"ticks\":\"\"}},\"marker\":{\"colorbar\":{\"outlinewidth\":0,\"ticks\":\"\"}},\"type\":\"scatter3d\"}],\"scattercarpet\":[{\"marker\":{\"colorbar\":{\"outlinewidth\":0,\"ticks\":\"\"}},\"type\":\"scattercarpet\"}],\"scattergeo\":[{\"marker\":{\"colorbar\":{\"outlinewidth\":0,\"ticks\":\"\"}},\"type\":\"scattergeo\"}],\"scattergl\":[{\"marker\":{\"colorbar\":{\"outlinewidth\":0,\"ticks\":\"\"}},\"type\":\"scattergl\"}],\"scattermapbox\":[{\"marker\":{\"colorbar\":{\"outlinewidth\":0,\"ticks\":\"\"}},\"type\":\"scattermapbox\"}],\"scatterpolar\":[{\"marker\":{\"colorbar\":{\"outlinewidth\":0,\"ticks\":\"\"}},\"type\":\"scatterpolar\"}],\"scatterpolargl\":[{\"marker\":{\"colorbar\":{\"outlinewidth\":0,\"ticks\":\"\"}},\"type\":\"scatterpolargl\"}],\"scatterternary\":[{\"marker\":{\"colorbar\":{\"outlinewidth\":0,\"ticks\":\"\"}},\"type\":\"scatterternary\"}],\"surface\":[{\"colorbar\":{\"outlinewidth\":0,\"ticks\":\"\"},\"colorscale\":[[0.0,\"#0d0887\"],[0.1111111111111111,\"#46039f\"],[0.2222222222222222,\"#7201a8\"],[0.3333333333333333,\"#9c179e\"],[0.4444444444444444,\"#bd3786\"],[0.5555555555555556,\"#d8576b\"],[0.6666666666666666,\"#ed7953\"],[0.7777777777777778,\"#fb9f3a\"],[0.8888888888888888,\"#fdca26\"],[1.0,\"#f0f921\"]],\"type\":\"surface\"}],\"table\":[{\"cells\":{\"fill\":{\"color\":\"#EBF0F8\"},\"line\":{\"color\":\"white\"}},\"header\":{\"fill\":{\"color\":\"#C8D4E3\"},\"line\":{\"color\":\"white\"}},\"type\":\"table\"}]},\"layout\":{\"annotationdefaults\":{\"arrowcolor\":\"#2a3f5f\",\"arrowhead\":0,\"arrowwidth\":1},\"autotypenumbers\":\"strict\",\"coloraxis\":{\"colorbar\":{\"outlinewidth\":0,\"ticks\":\"\"}},\"colorscale\":{\"diverging\":[[0,\"#8e0152\"],[0.1,\"#c51b7d\"],[0.2,\"#de77ae\"],[0.3,\"#f1b6da\"],[0.4,\"#fde0ef\"],[0.5,\"#f7f7f7\"],[0.6,\"#e6f5d0\"],[0.7,\"#b8e186\"],[0.8,\"#7fbc41\"],[0.9,\"#4d9221\"],[1,\"#276419\"]],\"sequential\":[[0.0,\"#0d0887\"],[0.1111111111111111,\"#46039f\"],[0.2222222222222222,\"#7201a8\"],[0.3333333333333333,\"#9c179e\"],[0.4444444444444444,\"#bd3786\"],[0.5555555555555556,\"#d8576b\"],[0.6666666666666666,\"#ed7953\"],[0.7777777777777778,\"#fb9f3a\"],[0.8888888888888888,\"#fdca26\"],[1.0,\"#f0f921\"]],\"sequentialminus\":[[0.0,\"#0d0887\"],[0.1111111111111111,\"#46039f\"],[0.2222222222222222,\"#7201a8\"],[0.3333333333333333,\"#9c179e\"],[0.4444444444444444,\"#bd3786\"],[0.5555555555555556,\"#d8576b\"],[0.6666666666666666,\"#ed7953\"],[0.7777777777777778,\"#fb9f3a\"],[0.8888888888888888,\"#fdca26\"],[1.0,\"#f0f921\"]]},\"colorway\":[\"#636efa\",\"#EF553B\",\"#00cc96\",\"#ab63fa\",\"#FFA15A\",\"#19d3f3\",\"#FF6692\",\"#B6E880\",\"#FF97FF\",\"#FECB52\"],\"font\":{\"color\":\"#2a3f5f\"},\"geo\":{\"bgcolor\":\"white\",\"lakecolor\":\"white\",\"landcolor\":\"#E5ECF6\",\"showlakes\":true,\"showland\":true,\"subunitcolor\":\"white\"},\"hoverlabel\":{\"align\":\"left\"},\"hovermode\":\"closest\",\"mapbox\":{\"style\":\"light\"},\"paper_bgcolor\":\"white\",\"plot_bgcolor\":\"#E5ECF6\",\"polar\":{\"angularaxis\":{\"gridcolor\":\"white\",\"linecolor\":\"white\",\"ticks\":\"\"},\"bgcolor\":\"#E5ECF6\",\"radialaxis\":{\"gridcolor\":\"white\",\"linecolor\":\"white\",\"ticks\":\"\"}},\"scene\":{\"xaxis\":{\"backgroundcolor\":\"#E5ECF6\",\"gridcolor\":\"white\",\"gridwidth\":2,\"linecolor\":\"white\",\"showbackground\":true,\"ticks\":\"\",\"zerolinecolor\":\"white\"},\"yaxis\":{\"backgroundcolor\":\"#E5ECF6\",\"gridcolor\":\"white\",\"gridwidth\":2,\"linecolor\":\"white\",\"showbackground\":true,\"ticks\":\"\",\"zerolinecolor\":\"white\"},\"zaxis\":{\"backgroundcolor\":\"#E5ECF6\",\"gridcolor\":\"white\",\"gridwidth\":2,\"linecolor\":\"white\",\"showbackground\":true,\"ticks\":\"\",\"zerolinecolor\":\"white\"}},\"shapedefaults\":{\"line\":{\"color\":\"#2a3f5f\"}},\"ternary\":{\"aaxis\":{\"gridcolor\":\"white\",\"linecolor\":\"white\",\"ticks\":\"\"},\"baxis\":{\"gridcolor\":\"white\",\"linecolor\":\"white\",\"ticks\":\"\"},\"bgcolor\":\"#E5ECF6\",\"caxis\":{\"gridcolor\":\"white\",\"linecolor\":\"white\",\"ticks\":\"\"}},\"title\":{\"x\":0.05},\"xaxis\":{\"automargin\":true,\"gridcolor\":\"white\",\"linecolor\":\"white\",\"ticks\":\"\",\"title\":{\"standoff\":15},\"zerolinecolor\":\"white\",\"zerolinewidth\":2},\"yaxis\":{\"automargin\":true,\"gridcolor\":\"white\",\"linecolor\":\"white\",\"ticks\":\"\",\"title\":{\"standoff\":15},\"zerolinecolor\":\"white\",\"zerolinewidth\":2}}},\"xaxis\":{\"anchor\":\"y\",\"domain\":[0.0,1.0],\"title\":{\"text\":\"Strom / A\"}},\"yaxis\":{\"anchor\":\"x\",\"domain\":[0.0,1.0],\"title\":{\"text\":\"Drehmoment / Nm\"}},\"legend\":{\"title\":{\"text\":\"Maschine\"},\"tracegroupgap\":0},\"margin\":{\"t\":60}},                        {\"responsive\": true}                    ).then(function(){\n",
              "                            \n",
              "var gd = document.getElementById('76ec6535-f88b-41d2-9187-516755f19bfb');\n",
              "var x = new MutationObserver(function (mutations, observer) {{\n",
              "        var display = window.getComputedStyle(gd).display;\n",
              "        if (!display || display === 'none') {{\n",
              "            console.log([gd, 'removed!']);\n",
              "            Plotly.purge(gd);\n",
              "            observer.disconnect();\n",
              "        }}\n",
              "}});\n",
              "\n",
              "// Listen for the removal of the full notebook cells\n",
              "var notebookContainer = gd.closest('#notebook-container');\n",
              "if (notebookContainer) {{\n",
              "    x.observe(notebookContainer, {childList: true});\n",
              "}}\n",
              "\n",
              "// Listen for the clearing of the current output cell\n",
              "var outputEl = gd.closest('.output');\n",
              "if (outputEl) {{\n",
              "    x.observe(outputEl, {childList: true});\n",
              "}}\n",
              "\n",
              "                        })                };                            </script>        </div>\n",
              "</body>\n",
              "</html>"
            ]
          },
          "metadata": {}
        }
      ],
      "source": [
        "exploration_data.plot(kind=\"scatter\", x=\"Strom / A\", y=\"Drehmoment / Nm\", color=\"Maschine\")"
      ]
    },
    {
      "cell_type": "markdown",
      "id": "8f2e6afb",
      "metadata": {
        "id": "8f2e6afb"
      },
      "source": [
        "Die beiden Streudiagramme zeigen, dass sich die drei geraden Linien durch die verschiedenen Maschinen ergeben. Testen Sie als nächstes den Zusammenhang zwischen der Stromaufnahme in Ampere und der Werkzeug-Temperatur in °Celsius. Was können Sie erkennen?"
      ]
    },
    {
      "cell_type": "code",
      "execution_count": null,
      "id": "fdf89ed3",
      "metadata": {
        "id": "fdf89ed3"
      },
      "outputs": [],
      "source": []
    },
    {
      "cell_type": "markdown",
      "id": "a7386715",
      "metadata": {
        "id": "a7386715"
      },
      "source": [
        "Um Ihnen eine bessere Intuition über die Größe und Richtung eines Zusammenhangs zu geben, haben wir eine Auswahl an Streudiagrammen mit unterschiedlichen Zusammenhängen zusammengestellt. Versuchen Sie, die unten aufgeführten Zusammenhänge einzuschätzen. Ihre Schätzungen können Sie in Abbildung 7 im Skript kontrollieren. Ist der folgende Zusammenhang groß oder klein, positiv oder negativ?"
      ]
    },
    {
      "cell_type": "markdown",
      "id": "bda5963c",
      "metadata": {
        "id": "bda5963c"
      },
      "source": [
        "![](../pics/corr_10.svg \"Example 1.0\")"
      ]
    },
    {
      "cell_type": "markdown",
      "id": "15aa2b41",
      "metadata": {
        "id": "15aa2b41"
      },
      "source": [
        "Wie sieht es bei dem nächsten Zusammenhang aus?"
      ]
    },
    {
      "cell_type": "markdown",
      "id": "9e44ab79",
      "metadata": {
        "id": "9e44ab79"
      },
      "source": [
        "![](../pics/corr_-10.svg \"Example -1.0\")"
      ]
    },
    {
      "cell_type": "markdown",
      "id": "266058d6",
      "metadata": {
        "id": "266058d6"
      },
      "source": [
        "Überlegen Sie, wie ein Streudiagramm aussehen würde, wenn es keinen Zusammenhang zwischen den Merkmalen gäbe. Beschreiben Sie dann den folgenden Zusammenhang:"
      ]
    },
    {
      "cell_type": "markdown",
      "id": "3d97edc5",
      "metadata": {
        "id": "3d97edc5"
      },
      "source": [
        "![](../pics/corr_00.svg \"Example 0.0\")"
      ]
    },
    {
      "cell_type": "markdown",
      "id": "70215686",
      "metadata": {
        "id": "70215686"
      },
      "source": [
        "Schätzen Sie zum Schluss noch diesen Zusammenhang ein:"
      ]
    },
    {
      "cell_type": "markdown",
      "id": "e4a4be8d",
      "metadata": {
        "id": "e4a4be8d"
      },
      "source": [
        "![](../pics/corr_08.svg \"Example 0.8\")"
      ]
    },
    {
      "cell_type": "markdown",
      "id": "448bf037",
      "metadata": {
        "id": "448bf037"
      },
      "source": [
        "Möchten Sie Ihre Intuition über die Größe von Zusammenhängen (mit dem Korrelationskoeffizienten nach Pearson) noch weiter ausbauen, empfehlen wir Ihnen das Online-Spiel [Guess the Correlation](http://guessthecorrelation.com/). Mit dem besseren Verständnis über die Stärke und Richtung von Zusammenhängen können wir uns nun direkt die Korrelationskoeffizienten nach Pearson für unsere metrischen Merkmale anschauen. Dazu benutzen wir die ```corr()```-Funktion (zur Bestimmung der Korrelationen) in Verbindung mit ```\"imshow\"``` (kurz für _image show_) und passenden Farben (```\"RdBu_r\"```) zur Erstellung einer [Heatmap](https://plotly.github.io/plotly.py-docs/generated/plotly.express.imshow.html):"
      ]
    },
    {
      "cell_type": "code",
      "execution_count": 24,
      "id": "1fb8953a",
      "metadata": {
        "id": "1fb8953a",
        "outputId": "9923b94d-2c28-4e2b-cab2-b39852e443e2",
        "colab": {
          "base_uri": "https://localhost:8080/",
          "height": 542
        }
      },
      "outputs": [
        {
          "output_type": "display_data",
          "data": {
            "text/html": [
              "<html>\n",
              "<head><meta charset=\"utf-8\" /></head>\n",
              "<body>\n",
              "    <div>            <script src=\"https://cdnjs.cloudflare.com/ajax/libs/mathjax/2.7.5/MathJax.js?config=TeX-AMS-MML_SVG\"></script><script type=\"text/javascript\">if (window.MathJax) {MathJax.Hub.Config({SVG: {font: \"STIX-Web\"}});}</script>                <script type=\"text/javascript\">window.PlotlyConfig = {MathJaxConfig: 'local'};</script>\n",
              "        <script src=\"https://cdn.plot.ly/plotly-2.8.3.min.js\"></script>                <div id=\"f7d1cde9-9180-4958-9941-0ce2b6672247\" class=\"plotly-graph-div\" style=\"height:525px; width:100%;\"></div>            <script type=\"text/javascript\">                                    window.PLOTLYENV=window.PLOTLYENV || {};                                    if (document.getElementById(\"f7d1cde9-9180-4958-9941-0ce2b6672247\")) {                    Plotly.newPlot(                        \"f7d1cde9-9180-4958-9941-0ce2b6672247\",                        [{\"coloraxis\":\"coloraxis\",\"name\":\"0\",\"x\":[\"Strom / A\",\"Drehmoment / Nm\",\"Drehzahl / 1/min\",\"Temp Umgebung / degC\",\"Temp Umrichter / degC\",\"Temp Werkzeug / degC\",\"Bearbeitungszeit / s\"],\"y\":[\"Strom / A\",\"Drehmoment / Nm\",\"Drehzahl / 1/min\",\"Temp Umgebung / degC\",\"Temp Umrichter / degC\",\"Temp Werkzeug / degC\",\"Bearbeitungszeit / s\"],\"z\":[[1.0,0.9081221707806225,-4.464156819146652e-05,-0.04961264968368445,0.20918430689487413,0.8986794805400433,-0.5733916297916344],[0.9081221707806225,1.0,-0.006215254911727872,-0.03450541540046895,0.19444646025587395,0.981825068039937,-0.4929809989595763],[-4.464156819146652e-05,-0.006215254911727872,1.0,0.03515921196572386,0.034130972242379265,0.014836592845735313,-0.007917774641413253],[-0.04961264968368445,-0.03450541540046895,0.03515921196572386,1.0,0.5854946004299829,0.07794635392228501,0.024695658699443106],[0.20918430689487413,0.19444646025587395,0.034130972242379265,0.5854946004299829,1.0,0.36936120489271435,-0.1527182762904839],[0.8986794805400433,0.981825068039937,0.014836592845735313,0.07794635392228501,0.36936120489271435,1.0,-0.49632213575249884],[-0.5733916297916344,-0.4929809989595763,-0.007917774641413253,0.024695658699443106,-0.1527182762904839,-0.49632213575249884,1.0]],\"type\":\"heatmap\",\"xaxis\":\"x\",\"yaxis\":\"y\",\"hovertemplate\":\"x: %{x}<br>y: %{y}<br>color: %{z}<extra></extra>\"}],                        {\"template\":{\"data\":{\"bar\":[{\"error_x\":{\"color\":\"#2a3f5f\"},\"error_y\":{\"color\":\"#2a3f5f\"},\"marker\":{\"line\":{\"color\":\"#E5ECF6\",\"width\":0.5},\"pattern\":{\"fillmode\":\"overlay\",\"size\":10,\"solidity\":0.2}},\"type\":\"bar\"}],\"barpolar\":[{\"marker\":{\"line\":{\"color\":\"#E5ECF6\",\"width\":0.5},\"pattern\":{\"fillmode\":\"overlay\",\"size\":10,\"solidity\":0.2}},\"type\":\"barpolar\"}],\"carpet\":[{\"aaxis\":{\"endlinecolor\":\"#2a3f5f\",\"gridcolor\":\"white\",\"linecolor\":\"white\",\"minorgridcolor\":\"white\",\"startlinecolor\":\"#2a3f5f\"},\"baxis\":{\"endlinecolor\":\"#2a3f5f\",\"gridcolor\":\"white\",\"linecolor\":\"white\",\"minorgridcolor\":\"white\",\"startlinecolor\":\"#2a3f5f\"},\"type\":\"carpet\"}],\"choropleth\":[{\"colorbar\":{\"outlinewidth\":0,\"ticks\":\"\"},\"type\":\"choropleth\"}],\"contour\":[{\"colorbar\":{\"outlinewidth\":0,\"ticks\":\"\"},\"colorscale\":[[0.0,\"#0d0887\"],[0.1111111111111111,\"#46039f\"],[0.2222222222222222,\"#7201a8\"],[0.3333333333333333,\"#9c179e\"],[0.4444444444444444,\"#bd3786\"],[0.5555555555555556,\"#d8576b\"],[0.6666666666666666,\"#ed7953\"],[0.7777777777777778,\"#fb9f3a\"],[0.8888888888888888,\"#fdca26\"],[1.0,\"#f0f921\"]],\"type\":\"contour\"}],\"contourcarpet\":[{\"colorbar\":{\"outlinewidth\":0,\"ticks\":\"\"},\"type\":\"contourcarpet\"}],\"heatmap\":[{\"colorbar\":{\"outlinewidth\":0,\"ticks\":\"\"},\"colorscale\":[[0.0,\"#0d0887\"],[0.1111111111111111,\"#46039f\"],[0.2222222222222222,\"#7201a8\"],[0.3333333333333333,\"#9c179e\"],[0.4444444444444444,\"#bd3786\"],[0.5555555555555556,\"#d8576b\"],[0.6666666666666666,\"#ed7953\"],[0.7777777777777778,\"#fb9f3a\"],[0.8888888888888888,\"#fdca26\"],[1.0,\"#f0f921\"]],\"type\":\"heatmap\"}],\"heatmapgl\":[{\"colorbar\":{\"outlinewidth\":0,\"ticks\":\"\"},\"colorscale\":[[0.0,\"#0d0887\"],[0.1111111111111111,\"#46039f\"],[0.2222222222222222,\"#7201a8\"],[0.3333333333333333,\"#9c179e\"],[0.4444444444444444,\"#bd3786\"],[0.5555555555555556,\"#d8576b\"],[0.6666666666666666,\"#ed7953\"],[0.7777777777777778,\"#fb9f3a\"],[0.8888888888888888,\"#fdca26\"],[1.0,\"#f0f921\"]],\"type\":\"heatmapgl\"}],\"histogram\":[{\"marker\":{\"pattern\":{\"fillmode\":\"overlay\",\"size\":10,\"solidity\":0.2}},\"type\":\"histogram\"}],\"histogram2d\":[{\"colorbar\":{\"outlinewidth\":0,\"ticks\":\"\"},\"colorscale\":[[0.0,\"#0d0887\"],[0.1111111111111111,\"#46039f\"],[0.2222222222222222,\"#7201a8\"],[0.3333333333333333,\"#9c179e\"],[0.4444444444444444,\"#bd3786\"],[0.5555555555555556,\"#d8576b\"],[0.6666666666666666,\"#ed7953\"],[0.7777777777777778,\"#fb9f3a\"],[0.8888888888888888,\"#fdca26\"],[1.0,\"#f0f921\"]],\"type\":\"histogram2d\"}],\"histogram2dcontour\":[{\"colorbar\":{\"outlinewidth\":0,\"ticks\":\"\"},\"colorscale\":[[0.0,\"#0d0887\"],[0.1111111111111111,\"#46039f\"],[0.2222222222222222,\"#7201a8\"],[0.3333333333333333,\"#9c179e\"],[0.4444444444444444,\"#bd3786\"],[0.5555555555555556,\"#d8576b\"],[0.6666666666666666,\"#ed7953\"],[0.7777777777777778,\"#fb9f3a\"],[0.8888888888888888,\"#fdca26\"],[1.0,\"#f0f921\"]],\"type\":\"histogram2dcontour\"}],\"mesh3d\":[{\"colorbar\":{\"outlinewidth\":0,\"ticks\":\"\"},\"type\":\"mesh3d\"}],\"parcoords\":[{\"line\":{\"colorbar\":{\"outlinewidth\":0,\"ticks\":\"\"}},\"type\":\"parcoords\"}],\"pie\":[{\"automargin\":true,\"type\":\"pie\"}],\"scatter\":[{\"marker\":{\"colorbar\":{\"outlinewidth\":0,\"ticks\":\"\"}},\"type\":\"scatter\"}],\"scatter3d\":[{\"line\":{\"colorbar\":{\"outlinewidth\":0,\"ticks\":\"\"}},\"marker\":{\"colorbar\":{\"outlinewidth\":0,\"ticks\":\"\"}},\"type\":\"scatter3d\"}],\"scattercarpet\":[{\"marker\":{\"colorbar\":{\"outlinewidth\":0,\"ticks\":\"\"}},\"type\":\"scattercarpet\"}],\"scattergeo\":[{\"marker\":{\"colorbar\":{\"outlinewidth\":0,\"ticks\":\"\"}},\"type\":\"scattergeo\"}],\"scattergl\":[{\"marker\":{\"colorbar\":{\"outlinewidth\":0,\"ticks\":\"\"}},\"type\":\"scattergl\"}],\"scattermapbox\":[{\"marker\":{\"colorbar\":{\"outlinewidth\":0,\"ticks\":\"\"}},\"type\":\"scattermapbox\"}],\"scatterpolar\":[{\"marker\":{\"colorbar\":{\"outlinewidth\":0,\"ticks\":\"\"}},\"type\":\"scatterpolar\"}],\"scatterpolargl\":[{\"marker\":{\"colorbar\":{\"outlinewidth\":0,\"ticks\":\"\"}},\"type\":\"scatterpolargl\"}],\"scatterternary\":[{\"marker\":{\"colorbar\":{\"outlinewidth\":0,\"ticks\":\"\"}},\"type\":\"scatterternary\"}],\"surface\":[{\"colorbar\":{\"outlinewidth\":0,\"ticks\":\"\"},\"colorscale\":[[0.0,\"#0d0887\"],[0.1111111111111111,\"#46039f\"],[0.2222222222222222,\"#7201a8\"],[0.3333333333333333,\"#9c179e\"],[0.4444444444444444,\"#bd3786\"],[0.5555555555555556,\"#d8576b\"],[0.6666666666666666,\"#ed7953\"],[0.7777777777777778,\"#fb9f3a\"],[0.8888888888888888,\"#fdca26\"],[1.0,\"#f0f921\"]],\"type\":\"surface\"}],\"table\":[{\"cells\":{\"fill\":{\"color\":\"#EBF0F8\"},\"line\":{\"color\":\"white\"}},\"header\":{\"fill\":{\"color\":\"#C8D4E3\"},\"line\":{\"color\":\"white\"}},\"type\":\"table\"}]},\"layout\":{\"annotationdefaults\":{\"arrowcolor\":\"#2a3f5f\",\"arrowhead\":0,\"arrowwidth\":1},\"autotypenumbers\":\"strict\",\"coloraxis\":{\"colorbar\":{\"outlinewidth\":0,\"ticks\":\"\"}},\"colorscale\":{\"diverging\":[[0,\"#8e0152\"],[0.1,\"#c51b7d\"],[0.2,\"#de77ae\"],[0.3,\"#f1b6da\"],[0.4,\"#fde0ef\"],[0.5,\"#f7f7f7\"],[0.6,\"#e6f5d0\"],[0.7,\"#b8e186\"],[0.8,\"#7fbc41\"],[0.9,\"#4d9221\"],[1,\"#276419\"]],\"sequential\":[[0.0,\"#0d0887\"],[0.1111111111111111,\"#46039f\"],[0.2222222222222222,\"#7201a8\"],[0.3333333333333333,\"#9c179e\"],[0.4444444444444444,\"#bd3786\"],[0.5555555555555556,\"#d8576b\"],[0.6666666666666666,\"#ed7953\"],[0.7777777777777778,\"#fb9f3a\"],[0.8888888888888888,\"#fdca26\"],[1.0,\"#f0f921\"]],\"sequentialminus\":[[0.0,\"#0d0887\"],[0.1111111111111111,\"#46039f\"],[0.2222222222222222,\"#7201a8\"],[0.3333333333333333,\"#9c179e\"],[0.4444444444444444,\"#bd3786\"],[0.5555555555555556,\"#d8576b\"],[0.6666666666666666,\"#ed7953\"],[0.7777777777777778,\"#fb9f3a\"],[0.8888888888888888,\"#fdca26\"],[1.0,\"#f0f921\"]]},\"colorway\":[\"#636efa\",\"#EF553B\",\"#00cc96\",\"#ab63fa\",\"#FFA15A\",\"#19d3f3\",\"#FF6692\",\"#B6E880\",\"#FF97FF\",\"#FECB52\"],\"font\":{\"color\":\"#2a3f5f\"},\"geo\":{\"bgcolor\":\"white\",\"lakecolor\":\"white\",\"landcolor\":\"#E5ECF6\",\"showlakes\":true,\"showland\":true,\"subunitcolor\":\"white\"},\"hoverlabel\":{\"align\":\"left\"},\"hovermode\":\"closest\",\"mapbox\":{\"style\":\"light\"},\"paper_bgcolor\":\"white\",\"plot_bgcolor\":\"#E5ECF6\",\"polar\":{\"angularaxis\":{\"gridcolor\":\"white\",\"linecolor\":\"white\",\"ticks\":\"\"},\"bgcolor\":\"#E5ECF6\",\"radialaxis\":{\"gridcolor\":\"white\",\"linecolor\":\"white\",\"ticks\":\"\"}},\"scene\":{\"xaxis\":{\"backgroundcolor\":\"#E5ECF6\",\"gridcolor\":\"white\",\"gridwidth\":2,\"linecolor\":\"white\",\"showbackground\":true,\"ticks\":\"\",\"zerolinecolor\":\"white\"},\"yaxis\":{\"backgroundcolor\":\"#E5ECF6\",\"gridcolor\":\"white\",\"gridwidth\":2,\"linecolor\":\"white\",\"showbackground\":true,\"ticks\":\"\",\"zerolinecolor\":\"white\"},\"zaxis\":{\"backgroundcolor\":\"#E5ECF6\",\"gridcolor\":\"white\",\"gridwidth\":2,\"linecolor\":\"white\",\"showbackground\":true,\"ticks\":\"\",\"zerolinecolor\":\"white\"}},\"shapedefaults\":{\"line\":{\"color\":\"#2a3f5f\"}},\"ternary\":{\"aaxis\":{\"gridcolor\":\"white\",\"linecolor\":\"white\",\"ticks\":\"\"},\"baxis\":{\"gridcolor\":\"white\",\"linecolor\":\"white\",\"ticks\":\"\"},\"bgcolor\":\"#E5ECF6\",\"caxis\":{\"gridcolor\":\"white\",\"linecolor\":\"white\",\"ticks\":\"\"}},\"title\":{\"x\":0.05},\"xaxis\":{\"automargin\":true,\"gridcolor\":\"white\",\"linecolor\":\"white\",\"ticks\":\"\",\"title\":{\"standoff\":15},\"zerolinecolor\":\"white\",\"zerolinewidth\":2},\"yaxis\":{\"automargin\":true,\"gridcolor\":\"white\",\"linecolor\":\"white\",\"ticks\":\"\",\"title\":{\"standoff\":15},\"zerolinecolor\":\"white\",\"zerolinewidth\":2}}},\"xaxis\":{\"anchor\":\"y\",\"domain\":[0.0,1.0],\"scaleanchor\":\"y\",\"constrain\":\"domain\"},\"yaxis\":{\"anchor\":\"x\",\"domain\":[0.0,1.0],\"autorange\":\"reversed\",\"constrain\":\"domain\"},\"coloraxis\":{\"colorscale\":[[0.0,\"rgb(5,48,97)\"],[0.1,\"rgb(33,102,172)\"],[0.2,\"rgb(67,147,195)\"],[0.3,\"rgb(146,197,222)\"],[0.4,\"rgb(209,229,240)\"],[0.5,\"rgb(247,247,247)\"],[0.6,\"rgb(253,219,199)\"],[0.7,\"rgb(244,165,130)\"],[0.8,\"rgb(214,96,77)\"],[0.9,\"rgb(178,24,43)\"],[1.0,\"rgb(103,0,31)\"]]},\"margin\":{\"t\":60}},                        {\"responsive\": true}                    ).then(function(){\n",
              "                            \n",
              "var gd = document.getElementById('f7d1cde9-9180-4958-9941-0ce2b6672247');\n",
              "var x = new MutationObserver(function (mutations, observer) {{\n",
              "        var display = window.getComputedStyle(gd).display;\n",
              "        if (!display || display === 'none') {{\n",
              "            console.log([gd, 'removed!']);\n",
              "            Plotly.purge(gd);\n",
              "            observer.disconnect();\n",
              "        }}\n",
              "}});\n",
              "\n",
              "// Listen for the removal of the full notebook cells\n",
              "var notebookContainer = gd.closest('#notebook-container');\n",
              "if (notebookContainer) {{\n",
              "    x.observe(notebookContainer, {childList: true});\n",
              "}}\n",
              "\n",
              "// Listen for the clearing of the current output cell\n",
              "var outputEl = gd.closest('.output');\n",
              "if (outputEl) {{\n",
              "    x.observe(outputEl, {childList: true});\n",
              "}}\n",
              "\n",
              "                        })                };                            </script>        </div>\n",
              "</body>\n",
              "</html>"
            ]
          },
          "metadata": {}
        }
      ],
      "source": [
        "exploration_data.corr().plot(kind=\"imshow\", color_continuous_scale=\"RdBu_r\")"
      ]
    },
    {
      "cell_type": "markdown",
      "id": "ad04c052",
      "metadata": {
        "id": "ad04c052"
      },
      "source": [
        "Deckt sich die berechnete Korrelation mit Ihren Erkenntnissen aus den Streudiagrammen? Fallen Ihnen noch weitere interessante Zusammenhänge auf? Manchmal ergeben sich interessante Zusammenhänge erst, wenn man verschiedene Merkmale miteinander kombiniert. So können wir zum Beispiel die Spannung aus der Drehzahl, dem Drehmoment und der Stromstärke [berechnen](https://en.wikipedia.org/wiki/Electric_motor). Lassen Sie uns hierzu eine neue Spalte in unserer Tabelle anlegen:"
      ]
    },
    {
      "cell_type": "code",
      "execution_count": 25,
      "id": "c4b054ba",
      "metadata": {
        "id": "c4b054ba"
      },
      "outputs": [],
      "source": [
        "exploration_data[\"Spannung / V\"] = (2 * 3.14 / 60 * exploration_data[\"Drehzahl / 1/min\"] *\n",
        "exploration_data[\"Drehmoment / Nm\"] / exploration_data[\"Strom / A\"])"
      ]
    },
    {
      "cell_type": "markdown",
      "id": "b19bc6bb",
      "metadata": {
        "id": "b19bc6bb"
      },
      "source": [
        "Nun können wir die Korrelationskoeffizienten nach Pearson für unser neues Merkmal noch einmal darstellen:"
      ]
    },
    {
      "cell_type": "code",
      "execution_count": 26,
      "id": "cf1e057f",
      "metadata": {
        "id": "cf1e057f",
        "outputId": "b84a9b2b-b99b-4e93-dd0f-570860bc805a",
        "colab": {
          "base_uri": "https://localhost:8080/",
          "height": 542
        }
      },
      "outputs": [
        {
          "output_type": "display_data",
          "data": {
            "text/html": [
              "<html>\n",
              "<head><meta charset=\"utf-8\" /></head>\n",
              "<body>\n",
              "    <div>            <script src=\"https://cdnjs.cloudflare.com/ajax/libs/mathjax/2.7.5/MathJax.js?config=TeX-AMS-MML_SVG\"></script><script type=\"text/javascript\">if (window.MathJax) {MathJax.Hub.Config({SVG: {font: \"STIX-Web\"}});}</script>                <script type=\"text/javascript\">window.PlotlyConfig = {MathJaxConfig: 'local'};</script>\n",
              "        <script src=\"https://cdn.plot.ly/plotly-2.8.3.min.js\"></script>                <div id=\"446a13d0-02c1-4936-ab4f-65c6ce487c34\" class=\"plotly-graph-div\" style=\"height:525px; width:100%;\"></div>            <script type=\"text/javascript\">                                    window.PLOTLYENV=window.PLOTLYENV || {};                                    if (document.getElementById(\"446a13d0-02c1-4936-ab4f-65c6ce487c34\")) {                    Plotly.newPlot(                        \"446a13d0-02c1-4936-ab4f-65c6ce487c34\",                        [{\"coloraxis\":\"coloraxis\",\"name\":\"0\",\"x\":[\"Strom / A\",\"Drehmoment / Nm\",\"Drehzahl / 1/min\",\"Temp Umgebung / degC\",\"Temp Umrichter / degC\",\"Temp Werkzeug / degC\",\"Bearbeitungszeit / s\",\"Spannung / V\"],\"y\":[\"Strom / A\",\"Drehmoment / Nm\",\"Drehzahl / 1/min\",\"Temp Umgebung / degC\",\"Temp Umrichter / degC\",\"Temp Werkzeug / degC\",\"Bearbeitungszeit / s\",\"Spannung / V\"],\"z\":[[1.0,0.9081221707806225,-4.464156819146652e-05,-0.04961264968368445,0.20918430689487413,0.8986794805400433,-0.5733916297916344,-0.7854245381605522],[0.9081221707806225,1.0,-0.006215254911727872,-0.03450541540046895,0.19444646025587395,0.981825068039937,-0.4929809989595763,-0.45600460182299096],[-4.464156819146652e-05,-0.006215254911727872,1.0,0.03515921196572386,0.034130972242379265,0.014836592845735313,-0.007917774641413253,0.01456615694117196],[-0.04961264968368445,-0.03450541540046895,0.03515921196572386,1.0,0.5854946004299829,0.07794635392228501,0.024695658699443106,0.06172574975712798],[0.20918430689487413,0.19444646025587395,0.034130972242379265,0.5854946004299829,1.0,0.36936120489271435,-0.1527182762904839,-0.1532579594128903],[0.8986794805400433,0.981825068039937,0.014836592845735313,0.07794635392228501,0.36936120489271435,1.0,-0.49632213575249884,-0.4614451051445119],[-0.5733916297916344,-0.4929809989595763,-0.007917774641413253,0.024695658699443106,-0.1527182762904839,-0.49632213575249884,1.0,0.48687785550691604],[-0.7854245381605522,-0.45600460182299096,0.01456615694117196,0.06172574975712798,-0.1532579594128903,-0.4614451051445119,0.48687785550691604,1.0]],\"type\":\"heatmap\",\"xaxis\":\"x\",\"yaxis\":\"y\",\"hovertemplate\":\"x: %{x}<br>y: %{y}<br>color: %{z}<extra></extra>\"}],                        {\"template\":{\"data\":{\"bar\":[{\"error_x\":{\"color\":\"#2a3f5f\"},\"error_y\":{\"color\":\"#2a3f5f\"},\"marker\":{\"line\":{\"color\":\"#E5ECF6\",\"width\":0.5},\"pattern\":{\"fillmode\":\"overlay\",\"size\":10,\"solidity\":0.2}},\"type\":\"bar\"}],\"barpolar\":[{\"marker\":{\"line\":{\"color\":\"#E5ECF6\",\"width\":0.5},\"pattern\":{\"fillmode\":\"overlay\",\"size\":10,\"solidity\":0.2}},\"type\":\"barpolar\"}],\"carpet\":[{\"aaxis\":{\"endlinecolor\":\"#2a3f5f\",\"gridcolor\":\"white\",\"linecolor\":\"white\",\"minorgridcolor\":\"white\",\"startlinecolor\":\"#2a3f5f\"},\"baxis\":{\"endlinecolor\":\"#2a3f5f\",\"gridcolor\":\"white\",\"linecolor\":\"white\",\"minorgridcolor\":\"white\",\"startlinecolor\":\"#2a3f5f\"},\"type\":\"carpet\"}],\"choropleth\":[{\"colorbar\":{\"outlinewidth\":0,\"ticks\":\"\"},\"type\":\"choropleth\"}],\"contour\":[{\"colorbar\":{\"outlinewidth\":0,\"ticks\":\"\"},\"colorscale\":[[0.0,\"#0d0887\"],[0.1111111111111111,\"#46039f\"],[0.2222222222222222,\"#7201a8\"],[0.3333333333333333,\"#9c179e\"],[0.4444444444444444,\"#bd3786\"],[0.5555555555555556,\"#d8576b\"],[0.6666666666666666,\"#ed7953\"],[0.7777777777777778,\"#fb9f3a\"],[0.8888888888888888,\"#fdca26\"],[1.0,\"#f0f921\"]],\"type\":\"contour\"}],\"contourcarpet\":[{\"colorbar\":{\"outlinewidth\":0,\"ticks\":\"\"},\"type\":\"contourcarpet\"}],\"heatmap\":[{\"colorbar\":{\"outlinewidth\":0,\"ticks\":\"\"},\"colorscale\":[[0.0,\"#0d0887\"],[0.1111111111111111,\"#46039f\"],[0.2222222222222222,\"#7201a8\"],[0.3333333333333333,\"#9c179e\"],[0.4444444444444444,\"#bd3786\"],[0.5555555555555556,\"#d8576b\"],[0.6666666666666666,\"#ed7953\"],[0.7777777777777778,\"#fb9f3a\"],[0.8888888888888888,\"#fdca26\"],[1.0,\"#f0f921\"]],\"type\":\"heatmap\"}],\"heatmapgl\":[{\"colorbar\":{\"outlinewidth\":0,\"ticks\":\"\"},\"colorscale\":[[0.0,\"#0d0887\"],[0.1111111111111111,\"#46039f\"],[0.2222222222222222,\"#7201a8\"],[0.3333333333333333,\"#9c179e\"],[0.4444444444444444,\"#bd3786\"],[0.5555555555555556,\"#d8576b\"],[0.6666666666666666,\"#ed7953\"],[0.7777777777777778,\"#fb9f3a\"],[0.8888888888888888,\"#fdca26\"],[1.0,\"#f0f921\"]],\"type\":\"heatmapgl\"}],\"histogram\":[{\"marker\":{\"pattern\":{\"fillmode\":\"overlay\",\"size\":10,\"solidity\":0.2}},\"type\":\"histogram\"}],\"histogram2d\":[{\"colorbar\":{\"outlinewidth\":0,\"ticks\":\"\"},\"colorscale\":[[0.0,\"#0d0887\"],[0.1111111111111111,\"#46039f\"],[0.2222222222222222,\"#7201a8\"],[0.3333333333333333,\"#9c179e\"],[0.4444444444444444,\"#bd3786\"],[0.5555555555555556,\"#d8576b\"],[0.6666666666666666,\"#ed7953\"],[0.7777777777777778,\"#fb9f3a\"],[0.8888888888888888,\"#fdca26\"],[1.0,\"#f0f921\"]],\"type\":\"histogram2d\"}],\"histogram2dcontour\":[{\"colorbar\":{\"outlinewidth\":0,\"ticks\":\"\"},\"colorscale\":[[0.0,\"#0d0887\"],[0.1111111111111111,\"#46039f\"],[0.2222222222222222,\"#7201a8\"],[0.3333333333333333,\"#9c179e\"],[0.4444444444444444,\"#bd3786\"],[0.5555555555555556,\"#d8576b\"],[0.6666666666666666,\"#ed7953\"],[0.7777777777777778,\"#fb9f3a\"],[0.8888888888888888,\"#fdca26\"],[1.0,\"#f0f921\"]],\"type\":\"histogram2dcontour\"}],\"mesh3d\":[{\"colorbar\":{\"outlinewidth\":0,\"ticks\":\"\"},\"type\":\"mesh3d\"}],\"parcoords\":[{\"line\":{\"colorbar\":{\"outlinewidth\":0,\"ticks\":\"\"}},\"type\":\"parcoords\"}],\"pie\":[{\"automargin\":true,\"type\":\"pie\"}],\"scatter\":[{\"marker\":{\"colorbar\":{\"outlinewidth\":0,\"ticks\":\"\"}},\"type\":\"scatter\"}],\"scatter3d\":[{\"line\":{\"colorbar\":{\"outlinewidth\":0,\"ticks\":\"\"}},\"marker\":{\"colorbar\":{\"outlinewidth\":0,\"ticks\":\"\"}},\"type\":\"scatter3d\"}],\"scattercarpet\":[{\"marker\":{\"colorbar\":{\"outlinewidth\":0,\"ticks\":\"\"}},\"type\":\"scattercarpet\"}],\"scattergeo\":[{\"marker\":{\"colorbar\":{\"outlinewidth\":0,\"ticks\":\"\"}},\"type\":\"scattergeo\"}],\"scattergl\":[{\"marker\":{\"colorbar\":{\"outlinewidth\":0,\"ticks\":\"\"}},\"type\":\"scattergl\"}],\"scattermapbox\":[{\"marker\":{\"colorbar\":{\"outlinewidth\":0,\"ticks\":\"\"}},\"type\":\"scattermapbox\"}],\"scatterpolar\":[{\"marker\":{\"colorbar\":{\"outlinewidth\":0,\"ticks\":\"\"}},\"type\":\"scatterpolar\"}],\"scatterpolargl\":[{\"marker\":{\"colorbar\":{\"outlinewidth\":0,\"ticks\":\"\"}},\"type\":\"scatterpolargl\"}],\"scatterternary\":[{\"marker\":{\"colorbar\":{\"outlinewidth\":0,\"ticks\":\"\"}},\"type\":\"scatterternary\"}],\"surface\":[{\"colorbar\":{\"outlinewidth\":0,\"ticks\":\"\"},\"colorscale\":[[0.0,\"#0d0887\"],[0.1111111111111111,\"#46039f\"],[0.2222222222222222,\"#7201a8\"],[0.3333333333333333,\"#9c179e\"],[0.4444444444444444,\"#bd3786\"],[0.5555555555555556,\"#d8576b\"],[0.6666666666666666,\"#ed7953\"],[0.7777777777777778,\"#fb9f3a\"],[0.8888888888888888,\"#fdca26\"],[1.0,\"#f0f921\"]],\"type\":\"surface\"}],\"table\":[{\"cells\":{\"fill\":{\"color\":\"#EBF0F8\"},\"line\":{\"color\":\"white\"}},\"header\":{\"fill\":{\"color\":\"#C8D4E3\"},\"line\":{\"color\":\"white\"}},\"type\":\"table\"}]},\"layout\":{\"annotationdefaults\":{\"arrowcolor\":\"#2a3f5f\",\"arrowhead\":0,\"arrowwidth\":1},\"autotypenumbers\":\"strict\",\"coloraxis\":{\"colorbar\":{\"outlinewidth\":0,\"ticks\":\"\"}},\"colorscale\":{\"diverging\":[[0,\"#8e0152\"],[0.1,\"#c51b7d\"],[0.2,\"#de77ae\"],[0.3,\"#f1b6da\"],[0.4,\"#fde0ef\"],[0.5,\"#f7f7f7\"],[0.6,\"#e6f5d0\"],[0.7,\"#b8e186\"],[0.8,\"#7fbc41\"],[0.9,\"#4d9221\"],[1,\"#276419\"]],\"sequential\":[[0.0,\"#0d0887\"],[0.1111111111111111,\"#46039f\"],[0.2222222222222222,\"#7201a8\"],[0.3333333333333333,\"#9c179e\"],[0.4444444444444444,\"#bd3786\"],[0.5555555555555556,\"#d8576b\"],[0.6666666666666666,\"#ed7953\"],[0.7777777777777778,\"#fb9f3a\"],[0.8888888888888888,\"#fdca26\"],[1.0,\"#f0f921\"]],\"sequentialminus\":[[0.0,\"#0d0887\"],[0.1111111111111111,\"#46039f\"],[0.2222222222222222,\"#7201a8\"],[0.3333333333333333,\"#9c179e\"],[0.4444444444444444,\"#bd3786\"],[0.5555555555555556,\"#d8576b\"],[0.6666666666666666,\"#ed7953\"],[0.7777777777777778,\"#fb9f3a\"],[0.8888888888888888,\"#fdca26\"],[1.0,\"#f0f921\"]]},\"colorway\":[\"#636efa\",\"#EF553B\",\"#00cc96\",\"#ab63fa\",\"#FFA15A\",\"#19d3f3\",\"#FF6692\",\"#B6E880\",\"#FF97FF\",\"#FECB52\"],\"font\":{\"color\":\"#2a3f5f\"},\"geo\":{\"bgcolor\":\"white\",\"lakecolor\":\"white\",\"landcolor\":\"#E5ECF6\",\"showlakes\":true,\"showland\":true,\"subunitcolor\":\"white\"},\"hoverlabel\":{\"align\":\"left\"},\"hovermode\":\"closest\",\"mapbox\":{\"style\":\"light\"},\"paper_bgcolor\":\"white\",\"plot_bgcolor\":\"#E5ECF6\",\"polar\":{\"angularaxis\":{\"gridcolor\":\"white\",\"linecolor\":\"white\",\"ticks\":\"\"},\"bgcolor\":\"#E5ECF6\",\"radialaxis\":{\"gridcolor\":\"white\",\"linecolor\":\"white\",\"ticks\":\"\"}},\"scene\":{\"xaxis\":{\"backgroundcolor\":\"#E5ECF6\",\"gridcolor\":\"white\",\"gridwidth\":2,\"linecolor\":\"white\",\"showbackground\":true,\"ticks\":\"\",\"zerolinecolor\":\"white\"},\"yaxis\":{\"backgroundcolor\":\"#E5ECF6\",\"gridcolor\":\"white\",\"gridwidth\":2,\"linecolor\":\"white\",\"showbackground\":true,\"ticks\":\"\",\"zerolinecolor\":\"white\"},\"zaxis\":{\"backgroundcolor\":\"#E5ECF6\",\"gridcolor\":\"white\",\"gridwidth\":2,\"linecolor\":\"white\",\"showbackground\":true,\"ticks\":\"\",\"zerolinecolor\":\"white\"}},\"shapedefaults\":{\"line\":{\"color\":\"#2a3f5f\"}},\"ternary\":{\"aaxis\":{\"gridcolor\":\"white\",\"linecolor\":\"white\",\"ticks\":\"\"},\"baxis\":{\"gridcolor\":\"white\",\"linecolor\":\"white\",\"ticks\":\"\"},\"bgcolor\":\"#E5ECF6\",\"caxis\":{\"gridcolor\":\"white\",\"linecolor\":\"white\",\"ticks\":\"\"}},\"title\":{\"x\":0.05},\"xaxis\":{\"automargin\":true,\"gridcolor\":\"white\",\"linecolor\":\"white\",\"ticks\":\"\",\"title\":{\"standoff\":15},\"zerolinecolor\":\"white\",\"zerolinewidth\":2},\"yaxis\":{\"automargin\":true,\"gridcolor\":\"white\",\"linecolor\":\"white\",\"ticks\":\"\",\"title\":{\"standoff\":15},\"zerolinecolor\":\"white\",\"zerolinewidth\":2}}},\"xaxis\":{\"anchor\":\"y\",\"domain\":[0.0,1.0],\"scaleanchor\":\"y\",\"constrain\":\"domain\"},\"yaxis\":{\"anchor\":\"x\",\"domain\":[0.0,1.0],\"autorange\":\"reversed\",\"constrain\":\"domain\"},\"coloraxis\":{\"colorscale\":[[0.0,\"rgb(5,48,97)\"],[0.1,\"rgb(33,102,172)\"],[0.2,\"rgb(67,147,195)\"],[0.3,\"rgb(146,197,222)\"],[0.4,\"rgb(209,229,240)\"],[0.5,\"rgb(247,247,247)\"],[0.6,\"rgb(253,219,199)\"],[0.7,\"rgb(244,165,130)\"],[0.8,\"rgb(214,96,77)\"],[0.9,\"rgb(178,24,43)\"],[1.0,\"rgb(103,0,31)\"]]},\"margin\":{\"t\":60}},                        {\"responsive\": true}                    ).then(function(){\n",
              "                            \n",
              "var gd = document.getElementById('446a13d0-02c1-4936-ab4f-65c6ce487c34');\n",
              "var x = new MutationObserver(function (mutations, observer) {{\n",
              "        var display = window.getComputedStyle(gd).display;\n",
              "        if (!display || display === 'none') {{\n",
              "            console.log([gd, 'removed!']);\n",
              "            Plotly.purge(gd);\n",
              "            observer.disconnect();\n",
              "        }}\n",
              "}});\n",
              "\n",
              "// Listen for the removal of the full notebook cells\n",
              "var notebookContainer = gd.closest('#notebook-container');\n",
              "if (notebookContainer) {{\n",
              "    x.observe(notebookContainer, {childList: true});\n",
              "}}\n",
              "\n",
              "// Listen for the clearing of the current output cell\n",
              "var outputEl = gd.closest('.output');\n",
              "if (outputEl) {{\n",
              "    x.observe(outputEl, {childList: true});\n",
              "}}\n",
              "\n",
              "                        })                };                            </script>        </div>\n",
              "</body>\n",
              "</html>"
            ]
          },
          "metadata": {}
        }
      ],
      "source": [
        "exploration_data.corr().plot(kind=\"imshow\", color_continuous_scale=\"RdBu_r\")"
      ]
    },
    {
      "cell_type": "markdown",
      "id": "4fa9723c",
      "metadata": {
        "id": "4fa9723c"
      },
      "source": [
        "Ergeben sich durch unser neues Merkmal neue interessante Zusammenhänge? Versuchen Sie nun selbst, eine Hypothese darüber aufzustellen, welche Merkmalskombination interessante Zusammenhänge zeigen könnte. Ohne Wissen über mechatronische Systeme erwarten wir natürlich nicht, dass Ihre Hypothese plausibel ist. Für unsere Zwecke würde daher auch die Hypothese genügen, dass sich durch die Multiplikation oder Division zweier beliebiger Merkmale möglicherweise ein neues interessantes Merkmal ergeben könnte. Legen Sie in der Tabelle dann eine neue Spalte für Ihr Merkmal an und lassen Sie sich die Korrelationskoeffizienten nach Pearson in einer Heatmap ausgeben. Nicht-benötige Spalten können Sie bei Bedarf mit ```del exploration_data[\"...\"]``` löschen, indem sie ```...``` durch den Spaltennamen ersetzen."
      ]
    },
    {
      "cell_type": "code",
      "execution_count": null,
      "id": "ad2dd3d2",
      "metadata": {
        "id": "ad2dd3d2"
      },
      "outputs": [],
      "source": []
    },
    {
      "cell_type": "markdown",
      "id": "0ca3c8d4",
      "metadata": {
        "id": "0ca3c8d4"
      },
      "source": [
        "<h5>Der Blick zurück und der Blick nach vorn</h5>"
      ]
    },
    {
      "cell_type": "markdown",
      "id": "e4d649d3",
      "metadata": {
        "id": "e4d649d3"
      },
      "source": [
        "Mit der Generierung und Testung einer eignen Hypothese endet unsere erste praktische Übung zur explorativen Datenanalyse. Sie haben mit dieser Übung einiges erreicht. Sie können nun sowohl Säulen- oder Balkendiagramme, Histogramme, Streudiagramme als auch Heatmaps in Plotly visualisieren, um einen Datensatz zu erkunden - alles in jeweils nur einer einzigen Zeile Code. Sie haben zudem die wichtigsten Funktionsargumente kennengelernt und haben einige davon auch selbst angepasst. Dass Sie auch eigene Hypothesen aufstellen und testen können, eröffnet Ihnen die Möglichkeit, Ihre eigenen Annahmen auch ohne eine gezielte Datenanalyse auf die Probe zu stellen. Mit unserer zweiten praktischen Übung steht die Wiederholung und Festigung des Erlernten im Vordergrund, bevor wir uns mit unserer dritten praktischen Übung fortgeschritteneren Konzepten der explorativen Datenanalyse widmen."
      ]
    }
  ],
  "metadata": {
    "kernelspec": {
      "display_name": "Python 3.8.10 ('env': venv)",
      "language": "python",
      "name": "python3"
    },
    "language_info": {
      "codemirror_mode": {
        "name": "ipython",
        "version": 3
      },
      "file_extension": ".py",
      "mimetype": "text/x-python",
      "name": "python",
      "nbconvert_exporter": "python",
      "pygments_lexer": "ipython3",
      "version": "3.10.6"
    },
    "vscode": {
      "interpreter": {
        "hash": "b07170ffe031b9291924a8d255d526a1b93401860d2b821f7b92d48f2ffde530"
      }
    },
    "colab": {
      "provenance": [],
      "include_colab_link": true
    }
  },
  "nbformat": 4,
  "nbformat_minor": 5
}