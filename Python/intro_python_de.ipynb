{
 "cells": [
  {
   "cell_type": "markdown",
   "id": "3fd05890",
   "metadata": {},
   "source": [
    "<h4>Kurzeinführung in die Programmierung mit Python</h4>"
   ]
  },
  {
   "cell_type": "markdown",
   "id": "2dc431ed",
   "metadata": {},
   "source": [
    "Willkommen bei unserer Kurzeinführung in die Programmierung mit Python! Python ist eine sehr vielseitige Programmiersprache und hat in den letzten Jahren bei der Arbeit mit Daten einen immer größeren Stellenwert eingenommen. Mit dieser Kurzeinführung möchten wir Studenten mit wenig Programmiererfahrung die Möglichkeit bieten, die wichtigsten Programmierkonzepte für die \"Grundlagen des Datenverständnisses\" aufzufrischen. Voraussichtlich benötigen Sie hierfür weniger als 30min Zeit. Einen Kurs zur Einführung in die Programmierung oder Informatik kann diese kleine praktische Übung natürlich nicht ersetzen - Studenten ohne Programmierkenntnisse empfehlen wir daher, sich die Grundlagen der Programmierung über Online-Ressourcen wie dem [Pythonbuch](https://pythonbuch.com/) zuvor selbst anzueignen. Wir verfolgen mit unserer Kurzeinführung folgende Lernziele:\n",
    "\n",
    "- Sie sollen einen Überblick über die wichtigsten Datentypen in Python bekommen.\n",
    "- Sie sollen lernen, wie sie Software-Bibliotheken importieren können.\n",
    "- Sie sollen auf Funktionen dieser Bibliotheken zugreifen und den Wert der Funktionsargumente ändern können.\n",
    "\n",
    "Sind Sie bereits mit diesen Konzepten vertraut, so können Sie diese praktische Übung gerne überspringen."
   ]
  },
  {
   "cell_type": "markdown",
   "id": "9a6c31a6",
   "metadata": {},
   "source": [
    "<h5>Datentypen in Python</h5>"
   ]
  },
  {
   "cell_type": "markdown",
   "id": "a00c97cf",
   "metadata": {},
   "source": [
    "Ein grundlegendes Konzept in der Programmierung ist das eines Datentyps. Man kann Daten in sehr viele Typen einteilen, wie wir später auch in den \"Grundlagen des Datenverständnisses\" sehen werden. In Programmiersprachen nehmen Datentypen eine besondere Rolle ein, weil sie festlegen, was man mit den Daten machen kann und was nicht. Im unteren Codeblock ist ein einfaches Beispiel aufgeführt, nämlich die Division von ```10``` durch ```2```. Codeblöcke wie diesen kann man ausführen, indem man auf den Block klickt und danach gleichzeitig SHIFT und ENTER auf der Tastatur drückt. Das Ergebnis der Rechnung erscheint dann unter dem Block. Codeblöcke, die Sie zwischen den Texten in dieser Übung sehen, sollten Sie in der vorgegebenen Reihenfolge ausführen. Bei leeren Codeblöcken müssen Sie zuvor noch Ihren eigenen Code ergänzen."
   ]
  },
  {
   "cell_type": "code",
   "execution_count": null,
   "id": "ab567448",
   "metadata": {},
   "outputs": [],
   "source": [
    "10 / 2"
   ]
  },
  {
   "cell_type": "markdown",
   "id": "a183b5e9",
   "metadata": {},
   "source": [
    "Sowohl ```10``` als auch ```2``` sind ganze Zahlen bzw. Integer (Datentyp: ```int```). Ganze Zahlen kann man natürlich dividieren. Das Ergebnis der Division, ```5.0```, ist hingegen eine Fließkommazahl bzw. Float (Datentyp: ```float```). Sowohl bei ganzen Zahlen als auch bei Fließkommazahlen kann man mathematische Operationen wie die Addition, Subtraktion, Multiplikation oder eben auch die Division anwenden. Eine Sonderform der ganzen Zahlen ist der Boolean (Datentyp: ```bool```). Dieser kann nur die Werte ```0``` und ```1``` annehmen, was den Werten falsch (```False```) bzw. wahr (```True```) entspricht. Ein weiterer wichtiger Datentyp sind Zeichenketten bzw. Strings (Datentyp: ```str```). Eine Zeichenkette ist nichts weiter als eine Verknüpfung von Zeichen zwischen zwei Anführungsstrichen (```'...'``` oder ```\"...\"```). Zeichenketten zu dividieren würde nicht wirklich Sinn ergeben, daher gibt Python einen Fehler aus:"
   ]
  },
  {
   "cell_type": "code",
   "execution_count": null,
   "id": "f44d4a45",
   "metadata": {},
   "outputs": [],
   "source": [
    "'hello ' / 'there'"
   ]
  },
  {
   "cell_type": "markdown",
   "id": "eabce858",
   "metadata": {},
   "source": [
    "Python beschwert sich, dass der ```/```-Operator bei den zwei Operanden ```'hello '``` und ```'there'``` nicht angewendet werden kann, weil sie beide den Datentyp ```str``` haben. Probieren Sie in dem nächsten Codeblock aus, was passiert, wenn Sie die zwei Operanden ```'hello '``` und ```'there'``` \"addieren\":"
   ]
  },
  {
   "cell_type": "code",
   "execution_count": null,
   "id": "53e5eb5e",
   "metadata": {},
   "outputs": [],
   "source": []
  },
  {
   "cell_type": "markdown",
   "id": "a807f4c6",
   "metadata": {},
   "source": [
    "Als letzten Datentyp wollen wir uns Listen anschauen (Datentyp: ```list```). Wir haben Strings bereits als Ketten von Zeichen kennengelernt. Listen sind Ketten von Daten, die einem beliebigen Typ angehören können. Während die Kette von Zeichen bei Strings zwischen zwei Anführungsstrichen steht, steht die Kette von Daten bei Listen zwischen eckigen Klammern (```[...]```). Ein Beispiel für eine Liste:"
   ]
  },
  {
   "cell_type": "code",
   "execution_count": null,
   "id": "1e780367",
   "metadata": {},
   "outputs": [],
   "source": [
    "my_list = ['apple', 0, 'rectangle', 1.7]"
   ]
  },
  {
   "cell_type": "markdown",
   "id": "aa12dc0b",
   "metadata": {},
   "source": [
    "Die Liste enhält vier Elemente, das erste Element ist ein String (```'apple'```), das zweite ein Integer (```0```), das dritte ein String (```'rectangle'```) und das vierte ein Float (```1.7```). Bei der Programmierung wollen wir oft auf ein bestimmtes Element einer Liste zugreifen. Dazu schreibt man hinter den Namen der Liste zwei eckige Klammern und dazwischen die Position des auszuwählenden Elements. Viele Programmiersprachen, darunter auch Python, beginnen das Zählen bei ```0```, daher kann das erste Element unserer Liste wie folgt ausgewählt werden:"
   ]
  },
  {
   "cell_type": "code",
   "execution_count": null,
   "id": "ecbeeea1",
   "metadata": {},
   "outputs": [],
   "source": [
    "my_list[0]"
   ]
  },
  {
   "cell_type": "markdown",
   "id": "c05fd436",
   "metadata": {},
   "source": [
    "Man kann in Listen natürlich auch mehrere Elemente gleichzeitig auswählen. Hierzu benutzt man wieder eckige Klammern, notiert die Position des ersten auszuwählenden Elements, gefolgt von einem Doppelpunkt und der Position des letzten auszuwählenden Elements + 1. Möchte ich also zum Beispiel das erste und zweite Element unserer Liste auswählen, notiere ich ```0```, gefolgt von einem Doppelpunkt und 1 + 1 (also ```2```):"
   ]
  },
  {
   "cell_type": "code",
   "execution_count": null,
   "id": "e1b4a6e4",
   "metadata": {},
   "outputs": [],
   "source": [
    "my_list[0:2]"
   ]
  },
  {
   "cell_type": "markdown",
   "id": "ab526811",
   "metadata": {},
   "source": [
    "Versuchen Sie nun, das zweite und dritte Element von ```my_list``` auszuwählen:"
   ]
  },
  {
   "cell_type": "code",
   "execution_count": null,
   "id": "2fe315da",
   "metadata": {},
   "outputs": [],
   "source": []
  },
  {
   "cell_type": "markdown",
   "id": "3ac1e62d",
   "metadata": {},
   "source": [
    "Sie erinnern sich, dass wir in Python Strings zusammenfügen konnten, wenn wir sie \"addieren\". Probieren Sie, was der ```+```-Operator macht, wenn Sie die Listen ```my_list``` und ```[-3, [0]]``` \"addieren\":"
   ]
  },
  {
   "cell_type": "code",
   "execution_count": null,
   "id": "f4224e55",
   "metadata": {},
   "outputs": [],
   "source": []
  },
  {
   "cell_type": "markdown",
   "id": "56b09491",
   "metadata": {},
   "source": [
    "Zusammenfassend kann man sagen, dass Datentypen eine große Rolle in der Programmierung spielen, weil sie bestimmen, was man mit den Daten machen darf und was nicht bzw. welche Aufgabe ein Operator letztendlich hat. Zahlen werden zum Beispiel durch ein ```+``` addiert, Strings und Listen werden zusammengefügt."
   ]
  },
  {
   "cell_type": "markdown",
   "id": "95aa8433",
   "metadata": {},
   "source": [
    "<h5>Funktionen in Python</h5>"
   ]
  },
  {
   "cell_type": "markdown",
   "id": "2fc2ca81",
   "metadata": {},
   "source": [
    "Python bietet von sich heraus sehr viele Funktionalitäten. Zwei Beispiele haben wir gerade kennengelernt, nämlich Datentypen und Operatoren. Python besitzt darüber hinaus eine Reihe eingebauter Funktionen, die jeweils eine bestimmte Aufgabe erfüllen. Kleingeschriebene Strings zum Beispiel können ganz einfach großgeschrieben werden, indem man den String und die Funktion ```capitalize()``` über einen Punkt miteinander verbindet:"
   ]
  },
  {
   "cell_type": "code",
   "execution_count": null,
   "id": "79eb3e0c",
   "metadata": {},
   "outputs": [],
   "source": [
    "\"that's cool!\".capitalize()"
   ]
  },
  {
   "cell_type": "markdown",
   "id": "423defb7",
   "metadata": {},
   "source": [
    "Versuchen Sie nun, den String ```\"That's cool!\"``` mithilfe der Funktion ```lower()``` kleinzuschreiben:"
   ]
  },
  {
   "cell_type": "code",
   "execution_count": null,
   "id": "5b40ba9e",
   "metadata": {},
   "outputs": [],
   "source": []
  },
  {
   "cell_type": "markdown",
   "id": "e49b01a9",
   "metadata": {},
   "source": [
    "Manchen Funktionen muss man einen oder mehr Eingabewerte als Argumente mitgeben. Wollen wir zum Beispiel in unserem ```\"that's cool!\"```-String das Wort ```cool``` durch ```awesome``` ersetzen, können wir die Funktion ```replace()``` verwenden:"
   ]
  },
  {
   "cell_type": "code",
   "execution_count": null,
   "id": "19385cba",
   "metadata": {},
   "outputs": [],
   "source": [
    "\"that's cool!\".replace(\"cool\", \"awesome\")"
   ]
  },
  {
   "cell_type": "markdown",
   "id": "40d778ef",
   "metadata": {},
   "source": [
    "<h5>Bibliotheken in Python</h5>"
   ]
  },
  {
   "cell_type": "markdown",
   "id": "e2d4f3fb",
   "metadata": {},
   "source": [
    "Eine Programmiersprache kann natürlich nicht mit allen erdenklichen Funktionen ausgestattet sein - man würde ja auch nicht von einer einzelnen App erwarten, dass sie gleichzeitig Musik spielen, meinen Kontostand anzeigen und meine Schritt zählen kann. Daher gibt es ergänzend zu dem \"normalen\" Python eine Reihe von Bibliotheken, die man einfügen kann, um weitere Funktionen zu nutzen. Um zum Beispiel herauszufinden, ob zwei Zahlen dicht beeinanderliegen, können wir zuerst die ```math```-Bibliothek importieren und dann auf die ```isclose()```-Funktion zugreifen:"
   ]
  },
  {
   "cell_type": "code",
   "execution_count": null,
   "id": "00b4d5e2",
   "metadata": {},
   "outputs": [],
   "source": [
    "import math\n",
    "\n",
    "math.isclose(1.11, 1.13)"
   ]
  },
  {
   "cell_type": "markdown",
   "id": "734d0b5e",
   "metadata": {},
   "source": [
    "Wir können sehen, dass wir nach dem Einfügen der Bibliothek auf eine Funktion zugreifen können, wenn wir die Bibliothek (```math```) und die Funktion (```isclose()```) mit einem Punkt verbinden, ähnlich wie zuvor bei den String-Funktionen. Wie bei der ```replace()```-Funktion muss man auch der ```isclose()```-Funktion Eingabewerte als Argumente mitgeben. In diesem Beispiel gibt die ```isclose()```-Funktion den Ausgabewert ```False``` zurück, was bedeutet, dass die beiden Zahlen anscheinend nicht nah beeinanderliegen. Wir wissen aber natürlich nicht (ohne in die [Dokumentation](https://docs.python.org/3/library/math.html) zu schauen), wann genau die ```math```-Bibliothek annimmt, dass zwei Werte dicht beeinanderliegen. Wir können daher der ```isclose()```-Funktion mitteilen, dass Unterschiede kleiner gleich ```0.05``` als dicht beeinander gelten sollen. Hierfür müssen wir das Argument ```abs_tol``` auf den Wert ```0.05``` setzen, und erhalten nun für unser Beispiel das Ergebnis ```True```:"
   ]
  },
  {
   "cell_type": "code",
   "execution_count": null,
   "id": "807e9848",
   "metadata": {},
   "outputs": [],
   "source": [
    "math.isclose(1.11, 1.13, abs_tol=0.05)"
   ]
  },
  {
   "cell_type": "markdown",
   "id": "b763c3ba",
   "metadata": {},
   "source": [
    "Um zu testen, ob unsere Funktion einen Unterschied von genau ```0.05``` auch als nah beeinander einstufen würde, können wir unsere Eingabewerte einfach entsprechend anpassen:"
   ]
  },
  {
   "cell_type": "code",
   "execution_count": null,
   "id": "da9fe663",
   "metadata": {},
   "outputs": [],
   "source": [
    "math.isclose(1.11, 1.16, abs_tol='0.05')"
   ]
  },
  {
   "cell_type": "markdown",
   "id": "7c6a92a8",
   "metadata": {},
   "source": [
    "Was ist denn nun passiert? Anscheinend enthält die Funktion einen Fehler?! Versuchen Sie, sich die Fehlermeldung anzuschauen, den Fehler zu berichtigen und dann eine Antwort auf die Frage zu finden, ob unsere Funktion einen Unterschied von genau ```0.05``` auch auch als nah beeinander einstufen würde:"
   ]
  },
  {
   "cell_type": "code",
   "execution_count": null,
   "id": "a6957f77",
   "metadata": {},
   "outputs": [],
   "source": []
  },
  {
   "cell_type": "markdown",
   "id": "2238a777",
   "metadata": {},
   "source": [
    "<h5>Alles hat ein Ende...</h5>"
   ]
  },
  {
   "cell_type": "markdown",
   "id": "0e0a184b",
   "metadata": {},
   "source": [
    "Wir sind bereits am Ende unserer Kurzeinführung angekommen. Nach einem Überblick über die wichtigsten Datentypen in Python haben wir uns angeschaut, wie wir Software-Bibliotheken importieren können, auf deren Funktionen zugreifen können und den Wert von Funktionsargumenten ändern können. Damit sind wir bereit, um mit der eigentlichen Datenanalyse zu beginnen!"
   ]
  }
 ],
 "metadata": {
  "kernelspec": {
   "display_name": "Python 3.8.10 ('env': venv)",
   "language": "python",
   "name": "python3"
  },
  "language_info": {
   "codemirror_mode": {
    "name": "ipython",
    "version": 3
   },
   "file_extension": ".py",
   "mimetype": "text/x-python",
   "name": "python",
   "nbconvert_exporter": "python",
   "pygments_lexer": "ipython3",
   "version": "3.10.4"
  },
  "vscode": {
   "interpreter": {
    "hash": "b07170ffe031b9291924a8d255d526a1b93401860d2b821f7b92d48f2ffde530"
   }
  }
 },
 "nbformat": 4,
 "nbformat_minor": 5
}
