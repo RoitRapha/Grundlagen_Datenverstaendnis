{
  "cells": [
    {
      "cell_type": "markdown",
      "metadata": {
        "id": "view-in-github",
        "colab_type": "text"
      },
      "source": [
        "<a href=\"https://colab.research.google.com/github/RoitRapha/Grundlagen_Datenverstaendnis/blob/main/Python/eda_1_de_short.ipynb\" target=\"_parent\"><img src=\"https://colab.research.google.com/assets/colab-badge.svg\" alt=\"Open In Colab\"/></a>"
      ]
    },
    {
      "cell_type": "markdown",
      "metadata": {
        "id": "c868LoNOPkB3"
      },
      "source": [
        "<h4>Explorative Datenanalyse: Wiederholung und Festigung</h4>"
      ]
    },
    {
      "cell_type": "markdown",
      "metadata": {
        "id": "kG9on11xPkB4"
      },
      "source": [
        "Willkommen bei der zweiten praktischen Übung zum Thema explorative Datenanalyse! In der ersten Übung haben Sie mehrere Möglichkeiten kennengelernt, um Verteilungen mit Plotly in [Python](https://plotly.com/python/) zu visualisieren. In dieser Übung möchten wir noch einmal die wichtigsten Funktionen zusammenfassen und Sie vor allem alleine auf die Daten loslassen. Die Darstellung folgender Diagramme sollte Ihnen bereits aus der ersten Übung bekannt sein:\n",
        "\n",
        "- [Säulendiagramme](https://plotly.github.io/plotly.py-docs/generated/plotly.express.bar.html)  (```data[\"...\"].value_counts().plot(kind=\"bar\")```)\n",
        "- [Balkendiagramme](https://plotly.github.io/plotly.py-docs/generated/plotly.express.bar.html)  (```data[\"...\"].value_counts().plot(kind=\"bar\", orientation=\"h\")```)\n",
        "- [Histogramme](https://plotly.github.io/plotly.py-docs/generated/plotly.express.histogram.html) (```data[\"...\"].plot(kind=\"histogram\")```)\n",
        "\n",
        "Wir bitten Sie nun, für jedes der Diagramme jeweils ein weiteres Merkmal zu visualisieren, dass Sie in der ersten Übung nicht betrachtet haben. Überlegen Sie auch, wie Sie Ihre Darstellung beschreiben würden und was Ihnen auffällt. Notieren Sie sich offene Fragen und Probleme. Gegenenfalls können Sie die entsprechenden Funktionsargumente anpassen, wenn Ihnen das für Ihre explorative Analyse sinnvoll erscheint. Um Ihnen den Start zu erleichtern, setzen wir im Folgenden schon einmal das Plotting-Backend auf ```\"plotly\"``` und laden den uns bekannten [Datensatz](../data_sets/mechatronic_systems/docs.pdf):"
      ]
    },
    {
      "cell_type": "code",
      "execution_count": null,
      "metadata": {
        "id": "uKTwFC9UPkB6"
      },
      "outputs": [],
      "source": [
        "import pandas as pd\n",
        "\n",
        "pd.options.plotting.backend = \"plotly\"\n",
        "\n",
        "data = pd.read_csv(\"../data_sets/mechatronic_systems/data.csv\", delimiter=\";\", decimal=\",\")\n",
        "\n",
        "data[\"Maschine\"] = pd.Categorical(data[\"Maschine\"])\n",
        "data[\"Produkt\"] = pd.Categorical(data[\"Produkt\"])\n",
        "data[\"Mode\"] = pd.Categorical(data[\"Mode\"], ordered=True)"
      ]
    },
    {
      "cell_type": "markdown",
      "metadata": {
        "id": "pu4l4YPvPkB7"
      },
      "source": [
        "Die Visualisierung beginnt... :)"
      ]
    },
    {
      "cell_type": "code",
      "execution_count": null,
      "metadata": {
        "id": "SKDhOn6aPkB7"
      },
      "outputs": [],
      "source": [
        "# (vertical) bar chart\n"
      ]
    },
    {
      "cell_type": "code",
      "execution_count": null,
      "metadata": {
        "id": "6oBSxy0CPkB7"
      },
      "outputs": [],
      "source": [
        "# horizontal bar chart\n"
      ]
    },
    {
      "cell_type": "code",
      "execution_count": null,
      "metadata": {
        "id": "MeO6BdkPPkB8"
      },
      "outputs": [],
      "source": [
        "# histogram\n"
      ]
    },
    {
      "cell_type": "markdown",
      "metadata": {
        "id": "xkw8ZQnQPkB8"
      },
      "source": [
        "Wenn Sie am Ende der Übung angekommen sind, haben Sie hoffentlich gesehen, dass die Darstellung einfacher Diagramme mit pandas und Plotly relativ leicht von der Hand geht. In der dritten und letzten praktischen Übungen widmen wir uns fortgeschritteneren Analyse- und Visualisierungskonzepten."
      ]
    }
  ],
  "metadata": {
    "kernelspec": {
      "display_name": "Python 3.10.4 ('env': venv)",
      "language": "python",
      "name": "python3"
    },
    "language_info": {
      "codemirror_mode": {
        "name": "ipython",
        "version": 3
      },
      "file_extension": ".py",
      "mimetype": "text/x-python",
      "name": "python",
      "nbconvert_exporter": "python",
      "pygments_lexer": "ipython3",
      "version": "3.10.6"
    },
    "orig_nbformat": 4,
    "vscode": {
      "interpreter": {
        "hash": "b07170ffe031b9291924a8d255d526a1b93401860d2b821f7b92d48f2ffde530"
      }
    },
    "colab": {
      "provenance": [],
      "include_colab_link": true
    }
  },
  "nbformat": 4,
  "nbformat_minor": 0
}